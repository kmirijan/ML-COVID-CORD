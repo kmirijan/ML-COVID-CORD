{
 "cells": [
  {
   "cell_type": "code",
   "execution_count": 57,
   "metadata": {},
   "outputs": [],
   "source": [
    "import pandas as pd\n",
    "import numpy as np\n",
    "import os, json\n",
    "import nltk\n",
    "import importlib"
   ]
  },
  {
   "cell_type": "code",
   "execution_count": 58,
   "metadata": {},
   "outputs": [],
   "source": [
    "DATAPATH = 'data'\n",
    "CSV_FILEPATH =\"/\".join([DATAPATH, 'metadata_ft_subset.csv'])"
   ]
  },
  {
   "cell_type": "code",
   "execution_count": 59,
   "metadata": {},
   "outputs": [
    {
     "name": "stdout",
     "output_type": "stream",
     "text": [
      "(33499, 19)\n"
     ]
    },
    {
     "data": {
      "text/html": [
       "<div>\n",
       "<style scoped>\n",
       "    .dataframe tbody tr th:only-of-type {\n",
       "        vertical-align: middle;\n",
       "    }\n",
       "\n",
       "    .dataframe tbody tr th {\n",
       "        vertical-align: top;\n",
       "    }\n",
       "\n",
       "    .dataframe thead th {\n",
       "        text-align: right;\n",
       "    }\n",
       "</style>\n",
       "<table border=\"1\" class=\"dataframe\">\n",
       "  <thead>\n",
       "    <tr style=\"text-align: right;\">\n",
       "      <th></th>\n",
       "      <th>cord_uid</th>\n",
       "      <th>sha</th>\n",
       "      <th>source_x</th>\n",
       "      <th>title</th>\n",
       "      <th>doi</th>\n",
       "      <th>pmcid</th>\n",
       "      <th>pubmed_id</th>\n",
       "      <th>license</th>\n",
       "      <th>abstract</th>\n",
       "      <th>publish_time</th>\n",
       "      <th>authors</th>\n",
       "      <th>journal</th>\n",
       "      <th>Microsoft Academic Paper ID</th>\n",
       "      <th>WHO #Covidence</th>\n",
       "      <th>has_pdf_parse</th>\n",
       "      <th>has_pmc_xml_parse</th>\n",
       "      <th>full_text_file</th>\n",
       "      <th>url</th>\n",
       "      <th>full_body_text</th>\n",
       "    </tr>\n",
       "  </thead>\n",
       "  <tbody>\n",
       "    <tr>\n",
       "      <th>0</th>\n",
       "      <td>xqhn0vbp</td>\n",
       "      <td>1e1286db212100993d03cc22374b624f7caee956</td>\n",
       "      <td>PMC</td>\n",
       "      <td>Airborne rhinovirus detection and effect of ul...</td>\n",
       "      <td>10.1186/1471-2458-3-5</td>\n",
       "      <td>PMC140314</td>\n",
       "      <td>12525263.0</td>\n",
       "      <td>no-cc</td>\n",
       "      <td>BACKGROUND: Rhinovirus, the most common cause ...</td>\n",
       "      <td>2003-01-13</td>\n",
       "      <td>Myatt, Theodore A; Johnston, Sebastian L; Rudn...</td>\n",
       "      <td>BMC Public Health</td>\n",
       "      <td>NaN</td>\n",
       "      <td>NaN</td>\n",
       "      <td>True</td>\n",
       "      <td>True</td>\n",
       "      <td>custom_license</td>\n",
       "      <td>https://www.ncbi.nlm.nih.gov/pmc/articles/PMC1...</td>\n",
       "      <td>Rhinoviruses have been associated with 40% to ...</td>\n",
       "    </tr>\n",
       "    <tr>\n",
       "      <th>1</th>\n",
       "      <td>gi6uaa83</td>\n",
       "      <td>8ae137c8da1607b3a8e4c946c07ca8bda67f88ac</td>\n",
       "      <td>PMC</td>\n",
       "      <td>Discovering human history from stomach bacteria</td>\n",
       "      <td>10.1186/gb-2003-4-5-213</td>\n",
       "      <td>PMC156578</td>\n",
       "      <td>12734001.0</td>\n",
       "      <td>no-cc</td>\n",
       "      <td>Recent analyses of human pathogens have reveal...</td>\n",
       "      <td>2003-04-28</td>\n",
       "      <td>Disotell, Todd R</td>\n",
       "      <td>Genome Biol</td>\n",
       "      <td>NaN</td>\n",
       "      <td>NaN</td>\n",
       "      <td>True</td>\n",
       "      <td>True</td>\n",
       "      <td>custom_license</td>\n",
       "      <td>https://www.ncbi.nlm.nih.gov/pmc/articles/PMC1...</td>\n",
       "      <td>Charles Darwin recognized that the distributio...</td>\n",
       "    </tr>\n",
       "    <tr>\n",
       "      <th>3</th>\n",
       "      <td>fy4w7xz8</td>\n",
       "      <td>0104f6ceccf92ae8567a0102f89cbb976969a774</td>\n",
       "      <td>PMC</td>\n",
       "      <td>Association of HLA class I with severe acute r...</td>\n",
       "      <td>10.1186/1471-2350-4-9</td>\n",
       "      <td>PMC212558</td>\n",
       "      <td>12969506.0</td>\n",
       "      <td>no-cc</td>\n",
       "      <td>BACKGROUND: The human leukocyte antigen (HLA) ...</td>\n",
       "      <td>2003-09-12</td>\n",
       "      <td>Lin, Marie; Tseng, Hsiang-Kuang; Trejaut, Jean...</td>\n",
       "      <td>BMC Med Genet</td>\n",
       "      <td>NaN</td>\n",
       "      <td>NaN</td>\n",
       "      <td>True</td>\n",
       "      <td>True</td>\n",
       "      <td>custom_license</td>\n",
       "      <td>https://www.ncbi.nlm.nih.gov/pmc/articles/PMC2...</td>\n",
       "      <td>patient group  a further significant increase ...</td>\n",
       "    </tr>\n",
       "    <tr>\n",
       "      <th>4</th>\n",
       "      <td>0qaoam29</td>\n",
       "      <td>5b68a553a7cbbea13472721cd1ad617d42b40c26</td>\n",
       "      <td>PMC</td>\n",
       "      <td>A double epidemic model for the SARS propagation</td>\n",
       "      <td>10.1186/1471-2334-3-19</td>\n",
       "      <td>PMC222908</td>\n",
       "      <td>12964944.0</td>\n",
       "      <td>no-cc</td>\n",
       "      <td>BACKGROUND: An epidemic of a Severe Acute Resp...</td>\n",
       "      <td>2003-09-10</td>\n",
       "      <td>Ng, Tuen Wai; Turinici, Gabriel; Danchin, Antoine</td>\n",
       "      <td>BMC Infect Dis</td>\n",
       "      <td>NaN</td>\n",
       "      <td>NaN</td>\n",
       "      <td>True</td>\n",
       "      <td>True</td>\n",
       "      <td>custom_license</td>\n",
       "      <td>https://www.ncbi.nlm.nih.gov/pmc/articles/PMC2...</td>\n",
       "      <td>Since November 2002 (and perhaps earlier) an o...</td>\n",
       "    </tr>\n",
       "    <tr>\n",
       "      <th>5</th>\n",
       "      <td>qj4dh6rg</td>\n",
       "      <td>3ed670f60a7be2e3e2a991ea8af1fdd5fa5e2b2c</td>\n",
       "      <td>PMC</td>\n",
       "      <td>Cloaked similarity between HIV-1 and SARS-CoV ...</td>\n",
       "      <td>10.1186/1471-2180-3-20</td>\n",
       "      <td>PMC222911</td>\n",
       "      <td>14499001.0</td>\n",
       "      <td>no-cc</td>\n",
       "      <td>BACKGROUND: Severe acute respiratory syndrome ...</td>\n",
       "      <td>2003-09-21</td>\n",
       "      <td>Kliger, Yossef; Levanon, Erez Y</td>\n",
       "      <td>BMC Microbiol</td>\n",
       "      <td>NaN</td>\n",
       "      <td>NaN</td>\n",
       "      <td>True</td>\n",
       "      <td>True</td>\n",
       "      <td>custom_license</td>\n",
       "      <td>https://www.ncbi.nlm.nih.gov/pmc/articles/PMC2...</td>\n",
       "      <td>Infection by many enveloped viruses requires f...</td>\n",
       "    </tr>\n",
       "  </tbody>\n",
       "</table>\n",
       "</div>"
      ],
      "text/plain": [
       "   cord_uid                                       sha source_x  \\\n",
       "0  xqhn0vbp  1e1286db212100993d03cc22374b624f7caee956      PMC   \n",
       "1  gi6uaa83  8ae137c8da1607b3a8e4c946c07ca8bda67f88ac      PMC   \n",
       "3  fy4w7xz8  0104f6ceccf92ae8567a0102f89cbb976969a774      PMC   \n",
       "4  0qaoam29  5b68a553a7cbbea13472721cd1ad617d42b40c26      PMC   \n",
       "5  qj4dh6rg  3ed670f60a7be2e3e2a991ea8af1fdd5fa5e2b2c      PMC   \n",
       "\n",
       "                                               title                      doi  \\\n",
       "0  Airborne rhinovirus detection and effect of ul...    10.1186/1471-2458-3-5   \n",
       "1    Discovering human history from stomach bacteria  10.1186/gb-2003-4-5-213   \n",
       "3  Association of HLA class I with severe acute r...    10.1186/1471-2350-4-9   \n",
       "4   A double epidemic model for the SARS propagation   10.1186/1471-2334-3-19   \n",
       "5  Cloaked similarity between HIV-1 and SARS-CoV ...   10.1186/1471-2180-3-20   \n",
       "\n",
       "       pmcid   pubmed_id license  \\\n",
       "0  PMC140314  12525263.0   no-cc   \n",
       "1  PMC156578  12734001.0   no-cc   \n",
       "3  PMC212558  12969506.0   no-cc   \n",
       "4  PMC222908  12964944.0   no-cc   \n",
       "5  PMC222911  14499001.0   no-cc   \n",
       "\n",
       "                                            abstract publish_time  \\\n",
       "0  BACKGROUND: Rhinovirus, the most common cause ...   2003-01-13   \n",
       "1  Recent analyses of human pathogens have reveal...   2003-04-28   \n",
       "3  BACKGROUND: The human leukocyte antigen (HLA) ...   2003-09-12   \n",
       "4  BACKGROUND: An epidemic of a Severe Acute Resp...   2003-09-10   \n",
       "5  BACKGROUND: Severe acute respiratory syndrome ...   2003-09-21   \n",
       "\n",
       "                                             authors            journal  \\\n",
       "0  Myatt, Theodore A; Johnston, Sebastian L; Rudn...  BMC Public Health   \n",
       "1                                   Disotell, Todd R        Genome Biol   \n",
       "3  Lin, Marie; Tseng, Hsiang-Kuang; Trejaut, Jean...      BMC Med Genet   \n",
       "4  Ng, Tuen Wai; Turinici, Gabriel; Danchin, Antoine     BMC Infect Dis   \n",
       "5                    Kliger, Yossef; Levanon, Erez Y      BMC Microbiol   \n",
       "\n",
       "   Microsoft Academic Paper ID WHO #Covidence  has_pdf_parse  \\\n",
       "0                          NaN            NaN           True   \n",
       "1                          NaN            NaN           True   \n",
       "3                          NaN            NaN           True   \n",
       "4                          NaN            NaN           True   \n",
       "5                          NaN            NaN           True   \n",
       "\n",
       "   has_pmc_xml_parse  full_text_file  \\\n",
       "0               True  custom_license   \n",
       "1               True  custom_license   \n",
       "3               True  custom_license   \n",
       "4               True  custom_license   \n",
       "5               True  custom_license   \n",
       "\n",
       "                                                 url  \\\n",
       "0  https://www.ncbi.nlm.nih.gov/pmc/articles/PMC1...   \n",
       "1  https://www.ncbi.nlm.nih.gov/pmc/articles/PMC1...   \n",
       "3  https://www.ncbi.nlm.nih.gov/pmc/articles/PMC2...   \n",
       "4  https://www.ncbi.nlm.nih.gov/pmc/articles/PMC2...   \n",
       "5  https://www.ncbi.nlm.nih.gov/pmc/articles/PMC2...   \n",
       "\n",
       "                                      full_body_text  \n",
       "0  Rhinoviruses have been associated with 40% to ...  \n",
       "1  Charles Darwin recognized that the distributio...  \n",
       "3  patient group  a further significant increase ...  \n",
       "4  Since November 2002 (and perhaps earlier) an o...  \n",
       "5  Infection by many enveloped viruses requires f...  "
      ]
     },
     "execution_count": 59,
     "metadata": {},
     "output_type": "execute_result"
    }
   ],
   "source": [
    "df = pd.read_csv(CSV_FILEPATH)\n",
    "print(df.shape)\n",
    "df.head()"
   ]
  },
  {
   "cell_type": "code",
   "execution_count": 82,
   "metadata": {},
   "outputs": [
    {
     "data": {
      "text/plain": [
       "<module 'process_tools' from 'C:\\\\Users\\\\Khachatur\\\\ML-COVID-CORD\\\\process_tools.py'>"
      ]
     },
     "execution_count": 82,
     "metadata": {},
     "output_type": "execute_result"
    }
   ],
   "source": [
    "import process_tools\n",
    "importlib.reload(process_tools)"
   ]
  },
  {
   "cell_type": "code",
   "execution_count": 61,
   "metadata": {},
   "outputs": [
    {
     "data": {
      "text/plain": [
       "33499"
      ]
     },
     "execution_count": 61,
     "metadata": {},
     "output_type": "execute_result"
    }
   ],
   "source": [
    "docs = process_tools.extract_simple_docs(df)\n",
    "len(docs)"
   ]
  },
  {
   "cell_type": "code",
   "execution_count": 62,
   "metadata": {},
   "outputs": [],
   "source": [
    "stop_words = process_tools.get_stopwords()"
   ]
  },
  {
   "cell_type": "code",
   "execution_count": 63,
   "metadata": {},
   "outputs": [
    {
     "data": {
      "text/plain": [
       "619"
      ]
     },
     "execution_count": 63,
     "metadata": {},
     "output_type": "execute_result"
    }
   ],
   "source": [
    "len(stop_words)"
   ]
  },
  {
   "cell_type": "code",
   "execution_count": 85,
   "metadata": {},
   "outputs": [],
   "source": [
    "models_df = pd.DataFrame(columns=['model_name', 'model_type', 'num_topics', 'abs_or_full', 'top_n_grams', 'hyperparam_dict', 'avg_topic_coherence', 'rstd_atc'])"
   ]
  },
  {
   "cell_type": "code",
   "execution_count": 65,
   "metadata": {},
   "outputs": [
    {
     "data": {
      "text/plain": [
       "33499"
      ]
     },
     "execution_count": 65,
     "metadata": {},
     "output_type": "execute_result"
    }
   ],
   "source": [
    "docs = process_tools.simple_preprocess(docs)\n",
    "len(docs)"
   ]
  },
  {
   "cell_type": "code",
   "execution_count": 66,
   "metadata": {},
   "outputs": [
    {
     "name": "stdout",
     "output_type": "stream",
     "text": [
      "Number of unique tokens: 10896\n",
      "Number of documents: 33499\n"
     ]
    }
   ],
   "source": [
    "from gensim.corpora import Dictionary\n",
    "\n",
    "# Create a dictionary representation of the documents.\n",
    "dictionary = Dictionary(docs)\n",
    "\n",
    "# Filter out words that occur less than 20 documents, or more than 50% of the documents.\n",
    "dictionary.filter_extremes(no_below=20, no_above=0.5)\n",
    "corpus = [dictionary.doc2bow(doc) for doc in docs]\n",
    "print('Number of unique tokens: %d' % len(dictionary))\n",
    "print('Number of documents: %d' % len(corpus))"
   ]
  },
  {
   "cell_type": "code",
   "execution_count": 67,
   "metadata": {},
   "outputs": [
    {
     "name": "stdout",
     "output_type": "stream",
     "text": [
      "Average topic coherence:  0.5129402468710557\n",
      "Relative Standard Deviation of ATC:  0.25703636843256844\n"
     ]
    }
   ],
   "source": [
    "lda_model = process_tools.make_lda(dictionary, corpus, 100)\n",
    "avg_topic_coherence, rstd_atc = process_tools.get_model_stats(lda_model, docs, dictionary, 100, verbose=True)"
   ]
  },
  {
   "cell_type": "code",
   "execution_count": 68,
   "metadata": {},
   "outputs": [
    {
     "data": {
      "text/plain": [
       "['model_name',\n",
       " 'model_type',\n",
       " 'num_topics',\n",
       " 'abs_or_full',\n",
       " 'top_n_grams',\n",
       " 'hyperparam_dict',\n",
       " 'avg_topic_coherence',\n",
       " 'rstd_atc']"
      ]
     },
     "execution_count": 68,
     "metadata": {},
     "output_type": "execute_result"
    }
   ],
   "source": [
    "list(models_df.columns)"
   ]
  },
  {
   "cell_type": "code",
   "execution_count": 69,
   "metadata": {},
   "outputs": [
    {
     "data": {
      "text/plain": [
       "'2020-04-21 18:41:08'"
      ]
     },
     "execution_count": 69,
     "metadata": {},
     "output_type": "execute_result"
    }
   ],
   "source": [
    "process_tools.get_current_timestamp()"
   ]
  },
  {
   "cell_type": "code",
   "execution_count": 72,
   "metadata": {},
   "outputs": [],
   "source": [
    "# num_topics = 100\n",
    "# model_type = 'lda'\n",
    "# abs_or_full = 'abs'\n",
    "# avg_topic_coherence\n",
    "# top_n_grams = 1\n",
    "# hyperparam_dict = None\n",
    "# rstd_atc = rstd_atc\n",
    "\n",
    "# model_name = model_type + \"_\" + str(num_topics) + \"_\" + process_tools.get_current_timestamp()\n",
    "# models_df = models_df.append({'model_name':model_name, 'num_topics':num_topics, 'model_type':model_type, 'abs_or_full':abs_or_full,\n",
    "#                       'top_n_grams':top_n_grams, 'hyperparam_dict': hyperparam_dict, \n",
    "#                       'avg_topic_coherence':avg_topic_coherence, 'rstd_atc':rstd_atc}, ignore_index=True)"
   ]
  },
  {
   "cell_type": "code",
   "execution_count": 81,
   "metadata": {},
   "outputs": [
    {
     "data": {
      "text/html": [
       "<div>\n",
       "<style scoped>\n",
       "    .dataframe tbody tr th:only-of-type {\n",
       "        vertical-align: middle;\n",
       "    }\n",
       "\n",
       "    .dataframe tbody tr th {\n",
       "        vertical-align: top;\n",
       "    }\n",
       "\n",
       "    .dataframe thead th {\n",
       "        text-align: right;\n",
       "    }\n",
       "</style>\n",
       "<table border=\"1\" class=\"dataframe\">\n",
       "  <thead>\n",
       "    <tr style=\"text-align: right;\">\n",
       "      <th></th>\n",
       "      <th>model_name</th>\n",
       "      <th>model_type</th>\n",
       "      <th>num_topics</th>\n",
       "      <th>abs_or_full</th>\n",
       "      <th>top_n_grams</th>\n",
       "      <th>hyperparam_dict</th>\n",
       "      <th>avg_topic_coherence</th>\n",
       "      <th>rstd_atc</th>\n",
       "    </tr>\n",
       "  </thead>\n",
       "  <tbody>\n",
       "    <tr>\n",
       "      <th>0</th>\n",
       "      <td>lda_100_2020-04-21 18:41:08</td>\n",
       "      <td>lda</td>\n",
       "      <td>NaN</td>\n",
       "      <td>abs</td>\n",
       "      <td>1</td>\n",
       "      <td>None</td>\n",
       "      <td>0.51294</td>\n",
       "      <td>0.257036</td>\n",
       "    </tr>\n",
       "    <tr>\n",
       "      <th>1</th>\n",
       "      <td>lda_100_2020-04-21 18:44:14</td>\n",
       "      <td>lda</td>\n",
       "      <td>100.0</td>\n",
       "      <td>abs</td>\n",
       "      <td>1</td>\n",
       "      <td>None</td>\n",
       "      <td>0.51294</td>\n",
       "      <td>0.257036</td>\n",
       "    </tr>\n",
       "  </tbody>\n",
       "</table>\n",
       "</div>"
      ],
      "text/plain": [
       "                    model_name model_type  num_topics abs_or_full top_n_grams  \\\n",
       "0  lda_100_2020-04-21 18:41:08        lda         NaN         abs           1   \n",
       "1  lda_100_2020-04-21 18:44:14        lda       100.0         abs           1   \n",
       "\n",
       "  hyperparam_dict  avg_topic_coherence  rstd_atc  \n",
       "0            None              0.51294  0.257036  \n",
       "1            None              0.51294  0.257036  "
      ]
     },
     "execution_count": 81,
     "metadata": {},
     "output_type": "execute_result"
    }
   ],
   "source": [
    "models_df"
   ]
  },
  {
   "cell_type": "code",
   "execution_count": 83,
   "metadata": {},
   "outputs": [
    {
     "data": {
      "text/html": [
       "<div>\n",
       "<style scoped>\n",
       "    .dataframe tbody tr th:only-of-type {\n",
       "        vertical-align: middle;\n",
       "    }\n",
       "\n",
       "    .dataframe tbody tr th {\n",
       "        vertical-align: top;\n",
       "    }\n",
       "\n",
       "    .dataframe thead th {\n",
       "        text-align: right;\n",
       "    }\n",
       "</style>\n",
       "<table border=\"1\" class=\"dataframe\">\n",
       "  <thead>\n",
       "    <tr style=\"text-align: right;\">\n",
       "      <th></th>\n",
       "      <th>model_name</th>\n",
       "      <th>model_type</th>\n",
       "      <th>num_topics</th>\n",
       "      <th>abs_or_full</th>\n",
       "      <th>top_n_grams</th>\n",
       "      <th>hyperparam_dict</th>\n",
       "      <th>avg_topic_coherence</th>\n",
       "      <th>rstd_atc</th>\n",
       "    </tr>\n",
       "  </thead>\n",
       "  <tbody>\n",
       "    <tr>\n",
       "      <th>0</th>\n",
       "      <td>lda_100_2020-04-21 18:41:08</td>\n",
       "      <td>lda</td>\n",
       "      <td>NaN</td>\n",
       "      <td>abs</td>\n",
       "      <td>1</td>\n",
       "      <td>None</td>\n",
       "      <td>0.51294</td>\n",
       "      <td>0.257036</td>\n",
       "    </tr>\n",
       "    <tr>\n",
       "      <th>1</th>\n",
       "      <td>lda_100_2020-04-21 18:44:14</td>\n",
       "      <td>lda</td>\n",
       "      <td>100.0</td>\n",
       "      <td>abs</td>\n",
       "      <td>1</td>\n",
       "      <td>None</td>\n",
       "      <td>0.51294</td>\n",
       "      <td>0.257036</td>\n",
       "    </tr>\n",
       "    <tr>\n",
       "      <th>2</th>\n",
       "      <td>lda_100_2020-04-21 18:49:27</td>\n",
       "      <td>lda</td>\n",
       "      <td>100.0</td>\n",
       "      <td>abs</td>\n",
       "      <td>1</td>\n",
       "      <td>None</td>\n",
       "      <td>0.51294</td>\n",
       "      <td>0.257036</td>\n",
       "    </tr>\n",
       "  </tbody>\n",
       "</table>\n",
       "</div>"
      ],
      "text/plain": [
       "                    model_name model_type  num_topics abs_or_full top_n_grams  \\\n",
       "0  lda_100_2020-04-21 18:41:08        lda         NaN         abs           1   \n",
       "1  lda_100_2020-04-21 18:44:14        lda       100.0         abs           1   \n",
       "2  lda_100_2020-04-21 18:49:27        lda       100.0         abs           1   \n",
       "\n",
       "  hyperparam_dict  avg_topic_coherence  rstd_atc  \n",
       "0            None              0.51294  0.257036  \n",
       "1            None              0.51294  0.257036  \n",
       "2            None              0.51294  0.257036  "
      ]
     },
     "execution_count": 83,
     "metadata": {},
     "output_type": "execute_result"
    }
   ],
   "source": [
    "models_df = process_tools.add_model_row(models_df, model_type, num_topics, abs_or_full, top_n_grams, hyperparam_dict, avg_topic_coherence, rstd_atc)\n",
    "models_df"
   ]
  },
  {
   "cell_type": "code",
   "execution_count": 84,
   "metadata": {},
   "outputs": [],
   "source": [
    "NUM_TOPICS_LIST = [5, 10, 20, 30, 50, 75, 100, 150, 200, 250, 300, 400]"
   ]
  },
  {
   "cell_type": "code",
   "execution_count": 87,
   "metadata": {},
   "outputs": [
    {
     "name": "stdout",
     "output_type": "stream",
     "text": [
      "Average topic coherence:  0.5109752993674965\n",
      "Relative Standard Deviation of ATC:  0.14939159866450386\n",
      "Average topic coherence:  0.5396251260862281\n",
      "Relative Standard Deviation of ATC:  0.08175588495587423\n",
      "Average topic coherence:  0.5457638871636933\n",
      "Relative Standard Deviation of ATC:  0.19777863486411232\n",
      "Average topic coherence:  0.5409271219139696\n",
      "Relative Standard Deviation of ATC:  0.19673017625328787\n",
      "Average topic coherence:  0.5388406945546168\n",
      "Relative Standard Deviation of ATC:  0.2227118157958553\n",
      "Average topic coherence:  0.5218854388847295\n",
      "Relative Standard Deviation of ATC:  0.2605068852036861\n",
      "Average topic coherence:  0.499072191537296\n",
      "Relative Standard Deviation of ATC:  0.2962086316263285\n",
      "Average topic coherence:  0.506137839743808\n",
      "Relative Standard Deviation of ATC:  0.274159787219385\n",
      "Average topic coherence:  0.4815115566653587\n",
      "Relative Standard Deviation of ATC:  0.29920472940764853\n",
      "Average topic coherence:  0.4757073333704673\n",
      "Relative Standard Deviation of ATC:  0.29521633588829393\n",
      "Average topic coherence:  0.4552363250129918\n",
      "Relative Standard Deviation of ATC:  0.3412710143786321\n",
      "Average topic coherence:  0.44573190312543254\n",
      "Relative Standard Deviation of ATC:  0.3192952293811529\n"
     ]
    }
   ],
   "source": [
    "model_type = 'lda'\n",
    "abs_or_full = 'abs'\n",
    "top_n_grams = 1\n",
    "hyperparam_dict = None\n",
    "\n",
    "for num_topics in NUM_TOPICS_LIST:\n",
    "    lda_model = process_tools.make_lda(dictionary, corpus, num_topics)\n",
    "    avg_topic_coherence, rstd_atc = process_tools.get_model_stats(lda_model, model_type, docs, dictionary, corpus, num_topics, verbose=True)\n",
    "    models_df = process_tools.add_model_row(models_df, model_type, num_topics, abs_or_full, top_n_grams, hyperparam_dict, avg_topic_coherence, rstd_atc)"
   ]
  },
  {
   "cell_type": "code",
   "execution_count": 96,
   "metadata": {},
   "outputs": [],
   "source": [
    "models_df = models_df.drop(0)"
   ]
  },
  {
   "cell_type": "code",
   "execution_count": 97,
   "metadata": {},
   "outputs": [],
   "source": [
    "import matplotlib.pyplot as plt"
   ]
  },
  {
   "cell_type": "code",
   "execution_count": 106,
   "metadata": {},
   "outputs": [
    {
     "data": {
      "text/html": [
       "<div>\n",
       "<style scoped>\n",
       "    .dataframe tbody tr th:only-of-type {\n",
       "        vertical-align: middle;\n",
       "    }\n",
       "\n",
       "    .dataframe tbody tr th {\n",
       "        vertical-align: top;\n",
       "    }\n",
       "\n",
       "    .dataframe thead th {\n",
       "        text-align: right;\n",
       "    }\n",
       "</style>\n",
       "<table border=\"1\" class=\"dataframe\">\n",
       "  <thead>\n",
       "    <tr style=\"text-align: right;\">\n",
       "      <th></th>\n",
       "      <th>model_name</th>\n",
       "      <th>model_type</th>\n",
       "      <th>num_topics</th>\n",
       "      <th>abs_or_full</th>\n",
       "      <th>top_n_grams</th>\n",
       "      <th>hyperparam_dict</th>\n",
       "      <th>avg_topic_coherence</th>\n",
       "      <th>rstd_atc</th>\n",
       "    </tr>\n",
       "  </thead>\n",
       "  <tbody>\n",
       "    <tr>\n",
       "      <th>0</th>\n",
       "      <td>lda_5_2020-04-21 18:58:29</td>\n",
       "      <td>lda</td>\n",
       "      <td>5</td>\n",
       "      <td>abs</td>\n",
       "      <td>1</td>\n",
       "      <td>None</td>\n",
       "      <td>0.510975</td>\n",
       "      <td>0.149392</td>\n",
       "    </tr>\n",
       "    <tr>\n",
       "      <th>12</th>\n",
       "      <td>lda_10_2020-04-21 22:11:24</td>\n",
       "      <td>lda</td>\n",
       "      <td>10</td>\n",
       "      <td>abs</td>\n",
       "      <td>1</td>\n",
       "      <td>None</td>\n",
       "      <td>0.529820</td>\n",
       "      <td>0.114499</td>\n",
       "    </tr>\n",
       "    <tr>\n",
       "      <th>13</th>\n",
       "      <td>lda_15_2020-04-21 22:13:29</td>\n",
       "      <td>lda</td>\n",
       "      <td>15</td>\n",
       "      <td>abs</td>\n",
       "      <td>1</td>\n",
       "      <td>None</td>\n",
       "      <td>0.521108</td>\n",
       "      <td>0.152109</td>\n",
       "    </tr>\n",
       "    <tr>\n",
       "      <th>14</th>\n",
       "      <td>lda_20_2020-04-21 22:15:40</td>\n",
       "      <td>lda</td>\n",
       "      <td>20</td>\n",
       "      <td>abs</td>\n",
       "      <td>1</td>\n",
       "      <td>None</td>\n",
       "      <td>0.519769</td>\n",
       "      <td>0.219951</td>\n",
       "    </tr>\n",
       "    <tr>\n",
       "      <th>15</th>\n",
       "      <td>lda_25_2020-04-21 22:17:46</td>\n",
       "      <td>lda</td>\n",
       "      <td>25</td>\n",
       "      <td>abs</td>\n",
       "      <td>1</td>\n",
       "      <td>None</td>\n",
       "      <td>0.534191</td>\n",
       "      <td>0.183415</td>\n",
       "    </tr>\n",
       "    <tr>\n",
       "      <th>16</th>\n",
       "      <td>lda_30_2020-04-21 22:19:57</td>\n",
       "      <td>lda</td>\n",
       "      <td>30</td>\n",
       "      <td>abs</td>\n",
       "      <td>1</td>\n",
       "      <td>None</td>\n",
       "      <td>0.566032</td>\n",
       "      <td>0.154706</td>\n",
       "    </tr>\n",
       "    <tr>\n",
       "      <th>17</th>\n",
       "      <td>lda_35_2020-04-21 22:22:11</td>\n",
       "      <td>lda</td>\n",
       "      <td>35</td>\n",
       "      <td>abs</td>\n",
       "      <td>1</td>\n",
       "      <td>None</td>\n",
       "      <td>0.533513</td>\n",
       "      <td>0.208648</td>\n",
       "    </tr>\n",
       "    <tr>\n",
       "      <th>18</th>\n",
       "      <td>lda_40_2020-04-21 22:24:29</td>\n",
       "      <td>lda</td>\n",
       "      <td>40</td>\n",
       "      <td>abs</td>\n",
       "      <td>1</td>\n",
       "      <td>None</td>\n",
       "      <td>0.527110</td>\n",
       "      <td>0.229682</td>\n",
       "    </tr>\n",
       "    <tr>\n",
       "      <th>19</th>\n",
       "      <td>lda_45_2020-04-21 22:27:19</td>\n",
       "      <td>lda</td>\n",
       "      <td>45</td>\n",
       "      <td>abs</td>\n",
       "      <td>1</td>\n",
       "      <td>None</td>\n",
       "      <td>0.553063</td>\n",
       "      <td>0.193561</td>\n",
       "    </tr>\n",
       "    <tr>\n",
       "      <th>20</th>\n",
       "      <td>lda_50_2020-04-21 22:30:06</td>\n",
       "      <td>lda</td>\n",
       "      <td>50</td>\n",
       "      <td>abs</td>\n",
       "      <td>1</td>\n",
       "      <td>None</td>\n",
       "      <td>0.552066</td>\n",
       "      <td>0.212562</td>\n",
       "    </tr>\n",
       "    <tr>\n",
       "      <th>5</th>\n",
       "      <td>lda_75_2020-04-21 19:13:32</td>\n",
       "      <td>lda</td>\n",
       "      <td>75</td>\n",
       "      <td>abs</td>\n",
       "      <td>1</td>\n",
       "      <td>None</td>\n",
       "      <td>0.521885</td>\n",
       "      <td>0.260507</td>\n",
       "    </tr>\n",
       "    <tr>\n",
       "      <th>6</th>\n",
       "      <td>lda_100_2020-04-21 19:20:42</td>\n",
       "      <td>lda</td>\n",
       "      <td>100</td>\n",
       "      <td>abs</td>\n",
       "      <td>1</td>\n",
       "      <td>None</td>\n",
       "      <td>0.499072</td>\n",
       "      <td>0.296209</td>\n",
       "    </tr>\n",
       "    <tr>\n",
       "      <th>7</th>\n",
       "      <td>lda_150_2020-04-21 19:30:07</td>\n",
       "      <td>lda</td>\n",
       "      <td>150</td>\n",
       "      <td>abs</td>\n",
       "      <td>1</td>\n",
       "      <td>None</td>\n",
       "      <td>0.506138</td>\n",
       "      <td>0.274160</td>\n",
       "    </tr>\n",
       "    <tr>\n",
       "      <th>8</th>\n",
       "      <td>lda_200_2020-04-21 19:40:38</td>\n",
       "      <td>lda</td>\n",
       "      <td>200</td>\n",
       "      <td>abs</td>\n",
       "      <td>1</td>\n",
       "      <td>None</td>\n",
       "      <td>0.481512</td>\n",
       "      <td>0.299205</td>\n",
       "    </tr>\n",
       "    <tr>\n",
       "      <th>9</th>\n",
       "      <td>lda_250_2020-04-21 19:52:55</td>\n",
       "      <td>lda</td>\n",
       "      <td>250</td>\n",
       "      <td>abs</td>\n",
       "      <td>1</td>\n",
       "      <td>None</td>\n",
       "      <td>0.475707</td>\n",
       "      <td>0.295216</td>\n",
       "    </tr>\n",
       "    <tr>\n",
       "      <th>10</th>\n",
       "      <td>lda_300_2020-04-21 20:06:52</td>\n",
       "      <td>lda</td>\n",
       "      <td>300</td>\n",
       "      <td>abs</td>\n",
       "      <td>1</td>\n",
       "      <td>None</td>\n",
       "      <td>0.455236</td>\n",
       "      <td>0.341271</td>\n",
       "    </tr>\n",
       "    <tr>\n",
       "      <th>11</th>\n",
       "      <td>lda_400_2020-04-21 20:24:15</td>\n",
       "      <td>lda</td>\n",
       "      <td>400</td>\n",
       "      <td>abs</td>\n",
       "      <td>1</td>\n",
       "      <td>None</td>\n",
       "      <td>0.445732</td>\n",
       "      <td>0.319295</td>\n",
       "    </tr>\n",
       "  </tbody>\n",
       "</table>\n",
       "</div>"
      ],
      "text/plain": [
       "                     model_name model_type num_topics abs_or_full top_n_grams  \\\n",
       "0     lda_5_2020-04-21 18:58:29        lda          5         abs           1   \n",
       "12   lda_10_2020-04-21 22:11:24        lda         10         abs           1   \n",
       "13   lda_15_2020-04-21 22:13:29        lda         15         abs           1   \n",
       "14   lda_20_2020-04-21 22:15:40        lda         20         abs           1   \n",
       "15   lda_25_2020-04-21 22:17:46        lda         25         abs           1   \n",
       "16   lda_30_2020-04-21 22:19:57        lda         30         abs           1   \n",
       "17   lda_35_2020-04-21 22:22:11        lda         35         abs           1   \n",
       "18   lda_40_2020-04-21 22:24:29        lda         40         abs           1   \n",
       "19   lda_45_2020-04-21 22:27:19        lda         45         abs           1   \n",
       "20   lda_50_2020-04-21 22:30:06        lda         50         abs           1   \n",
       "5    lda_75_2020-04-21 19:13:32        lda         75         abs           1   \n",
       "6   lda_100_2020-04-21 19:20:42        lda        100         abs           1   \n",
       "7   lda_150_2020-04-21 19:30:07        lda        150         abs           1   \n",
       "8   lda_200_2020-04-21 19:40:38        lda        200         abs           1   \n",
       "9   lda_250_2020-04-21 19:52:55        lda        250         abs           1   \n",
       "10  lda_300_2020-04-21 20:06:52        lda        300         abs           1   \n",
       "11  lda_400_2020-04-21 20:24:15        lda        400         abs           1   \n",
       "\n",
       "   hyperparam_dict  avg_topic_coherence  rstd_atc  \n",
       "0             None             0.510975  0.149392  \n",
       "12            None             0.529820  0.114499  \n",
       "13            None             0.521108  0.152109  \n",
       "14            None             0.519769  0.219951  \n",
       "15            None             0.534191  0.183415  \n",
       "16            None             0.566032  0.154706  \n",
       "17            None             0.533513  0.208648  \n",
       "18            None             0.527110  0.229682  \n",
       "19            None             0.553063  0.193561  \n",
       "20            None             0.552066  0.212562  \n",
       "5             None             0.521885  0.260507  \n",
       "6             None             0.499072  0.296209  \n",
       "7             None             0.506138  0.274160  \n",
       "8             None             0.481512  0.299205  \n",
       "9             None             0.475707  0.295216  \n",
       "10            None             0.455236  0.341271  \n",
       "11            None             0.445732  0.319295  "
      ]
     },
     "execution_count": 106,
     "metadata": {},
     "output_type": "execute_result"
    }
   ],
   "source": [
    "models_df"
   ]
  },
  {
   "cell_type": "code",
   "execution_count": 104,
   "metadata": {},
   "outputs": [
    {
     "data": {
      "text/plain": [
       "<matplotlib.axes._subplots.AxesSubplot at 0x1bbe634cb88>"
      ]
     },
     "execution_count": 104,
     "metadata": {},
     "output_type": "execute_result"
    },
    {
     "data": {
      "image/png": "[encoded data removed]",
      "text/plain": [
       "<Figure size 432x288 with 1 Axes>"
      ]
     },
     "metadata": {
      "needs_background": "light"
     },
     "output_type": "display_data"
    }
   ],
   "source": [
    "models_df.plot(x ='num_topics', y='avg_topic_coherence', kind = 'line')"
   ]
  },
  {
   "cell_type": "code",
   "execution_count": 99,
   "metadata": {},
   "outputs": [
    {
     "data": {
      "text/plain": [
       "<matplotlib.axes._subplots.AxesSubplot at 0x1bbe5c45848>"
      ]
     },
     "execution_count": 99,
     "metadata": {},
     "output_type": "execute_result"
    },
    {
     "data": {
      "image/png": "[encoded data removed]",
      "text/plain": [
       "<Figure size 432x288 with 1 Axes>"
      ]
     },
     "metadata": {
      "needs_background": "light"
     },
     "output_type": "display_data"
    }
   ],
   "source": [
    "models_df.plot(x ='num_topics', y='rstd_atc', kind = 'line')"
   ]
  },
  {
   "cell_type": "code",
   "execution_count": 102,
   "metadata": {},
   "outputs": [
    {
     "name": "stdout",
     "output_type": "stream",
     "text": [
      "Average topic coherence:  0.5298198605554844\n",
      "Relative Standard Deviation of ATC:  0.11449871664938668\n",
      "Average topic coherence:  0.5211084948886866\n",
      "Relative Standard Deviation of ATC:  0.1521093204329394\n",
      "Average topic coherence:  0.5197685632496262\n",
      "Relative Standard Deviation of ATC:  0.21995106550509694\n",
      "Average topic coherence:  0.5341910211649789\n",
      "Relative Standard Deviation of ATC:  0.18341538676692598\n",
      "Average topic coherence:  0.5660316328845071\n",
      "Relative Standard Deviation of ATC:  0.15470614202401614\n",
      "Average topic coherence:  0.533513078049149\n",
      "Relative Standard Deviation of ATC:  0.2086483905297752\n",
      "Average topic coherence:  0.5271097469749806\n",
      "Relative Standard Deviation of ATC:  0.2296822653624634\n",
      "Average topic coherence:  0.5530627173188893\n",
      "Relative Standard Deviation of ATC:  0.19356136890415862\n",
      "Average topic coherence:  0.5520663898824378\n",
      "Relative Standard Deviation of ATC:  0.2125618871277457\n"
     ]
    }
   ],
   "source": [
    "model_type = 'lda'\n",
    "abs_or_full = 'abs'\n",
    "top_n_grams = 1\n",
    "hyperparam_dict = None\n",
    "NUM_TOPICS_LIST = [10, 15, 20, 25, 30, 35, 40, 45, 50]\n",
    "for num_topics in NUM_TOPICS_LIST:\n",
    "    lda_model = process_tools.make_lda(dictionary, corpus, num_topics)\n",
    "    avg_topic_coherence, rstd_atc = process_tools.get_model_stats(lda_model, model_type, docs, dictionary, corpus, num_topics, verbose=True)\n",
    "    models_df = process_tools.add_model_row(models_df, model_type, num_topics, abs_or_full, top_n_grams, hyperparam_dict, avg_topic_coherence, rstd_atc)"
   ]
  },
  {
   "cell_type": "code",
   "execution_count": 107,
   "metadata": {},
   "outputs": [
    {
     "data": {
      "text/html": [
       "<div>\n",
       "<style scoped>\n",
       "    .dataframe tbody tr th:only-of-type {\n",
       "        vertical-align: middle;\n",
       "    }\n",
       "\n",
       "    .dataframe tbody tr th {\n",
       "        vertical-align: top;\n",
       "    }\n",
       "\n",
       "    .dataframe thead th {\n",
       "        text-align: right;\n",
       "    }\n",
       "</style>\n",
       "<table border=\"1\" class=\"dataframe\">\n",
       "  <thead>\n",
       "    <tr style=\"text-align: right;\">\n",
       "      <th></th>\n",
       "      <th>model_name</th>\n",
       "      <th>model_type</th>\n",
       "      <th>num_topics</th>\n",
       "      <th>abs_or_full</th>\n",
       "      <th>top_n_grams</th>\n",
       "      <th>hyperparam_dict</th>\n",
       "      <th>avg_topic_coherence</th>\n",
       "      <th>rstd_atc</th>\n",
       "    </tr>\n",
       "  </thead>\n",
       "  <tbody>\n",
       "    <tr>\n",
       "      <th>0</th>\n",
       "      <td>lda_5_2020-04-21 18:58:29</td>\n",
       "      <td>lda</td>\n",
       "      <td>5</td>\n",
       "      <td>abs</td>\n",
       "      <td>1</td>\n",
       "      <td>None</td>\n",
       "      <td>0.510975</td>\n",
       "      <td>0.149392</td>\n",
       "    </tr>\n",
       "    <tr>\n",
       "      <th>12</th>\n",
       "      <td>lda_10_2020-04-21 22:11:24</td>\n",
       "      <td>lda</td>\n",
       "      <td>10</td>\n",
       "      <td>abs</td>\n",
       "      <td>1</td>\n",
       "      <td>None</td>\n",
       "      <td>0.529820</td>\n",
       "      <td>0.114499</td>\n",
       "    </tr>\n",
       "    <tr>\n",
       "      <th>13</th>\n",
       "      <td>lda_15_2020-04-21 22:13:29</td>\n",
       "      <td>lda</td>\n",
       "      <td>15</td>\n",
       "      <td>abs</td>\n",
       "      <td>1</td>\n",
       "      <td>None</td>\n",
       "      <td>0.521108</td>\n",
       "      <td>0.152109</td>\n",
       "    </tr>\n",
       "    <tr>\n",
       "      <th>14</th>\n",
       "      <td>lda_20_2020-04-21 22:15:40</td>\n",
       "      <td>lda</td>\n",
       "      <td>20</td>\n",
       "      <td>abs</td>\n",
       "      <td>1</td>\n",
       "      <td>None</td>\n",
       "      <td>0.519769</td>\n",
       "      <td>0.219951</td>\n",
       "    </tr>\n",
       "    <tr>\n",
       "      <th>15</th>\n",
       "      <td>lda_25_2020-04-21 22:17:46</td>\n",
       "      <td>lda</td>\n",
       "      <td>25</td>\n",
       "      <td>abs</td>\n",
       "      <td>1</td>\n",
       "      <td>None</td>\n",
       "      <td>0.534191</td>\n",
       "      <td>0.183415</td>\n",
       "    </tr>\n",
       "    <tr>\n",
       "      <th>16</th>\n",
       "      <td>lda_30_2020-04-21 22:19:57</td>\n",
       "      <td>lda</td>\n",
       "      <td>30</td>\n",
       "      <td>abs</td>\n",
       "      <td>1</td>\n",
       "      <td>None</td>\n",
       "      <td>0.566032</td>\n",
       "      <td>0.154706</td>\n",
       "    </tr>\n",
       "    <tr>\n",
       "      <th>17</th>\n",
       "      <td>lda_35_2020-04-21 22:22:11</td>\n",
       "      <td>lda</td>\n",
       "      <td>35</td>\n",
       "      <td>abs</td>\n",
       "      <td>1</td>\n",
       "      <td>None</td>\n",
       "      <td>0.533513</td>\n",
       "      <td>0.208648</td>\n",
       "    </tr>\n",
       "    <tr>\n",
       "      <th>18</th>\n",
       "      <td>lda_40_2020-04-21 22:24:29</td>\n",
       "      <td>lda</td>\n",
       "      <td>40</td>\n",
       "      <td>abs</td>\n",
       "      <td>1</td>\n",
       "      <td>None</td>\n",
       "      <td>0.527110</td>\n",
       "      <td>0.229682</td>\n",
       "    </tr>\n",
       "    <tr>\n",
       "      <th>19</th>\n",
       "      <td>lda_45_2020-04-21 22:27:19</td>\n",
       "      <td>lda</td>\n",
       "      <td>45</td>\n",
       "      <td>abs</td>\n",
       "      <td>1</td>\n",
       "      <td>None</td>\n",
       "      <td>0.553063</td>\n",
       "      <td>0.193561</td>\n",
       "    </tr>\n",
       "    <tr>\n",
       "      <th>20</th>\n",
       "      <td>lda_50_2020-04-21 22:30:06</td>\n",
       "      <td>lda</td>\n",
       "      <td>50</td>\n",
       "      <td>abs</td>\n",
       "      <td>1</td>\n",
       "      <td>None</td>\n",
       "      <td>0.552066</td>\n",
       "      <td>0.212562</td>\n",
       "    </tr>\n",
       "    <tr>\n",
       "      <th>5</th>\n",
       "      <td>lda_75_2020-04-21 19:13:32</td>\n",
       "      <td>lda</td>\n",
       "      <td>75</td>\n",
       "      <td>abs</td>\n",
       "      <td>1</td>\n",
       "      <td>None</td>\n",
       "      <td>0.521885</td>\n",
       "      <td>0.260507</td>\n",
       "    </tr>\n",
       "    <tr>\n",
       "      <th>6</th>\n",
       "      <td>lda_100_2020-04-21 19:20:42</td>\n",
       "      <td>lda</td>\n",
       "      <td>100</td>\n",
       "      <td>abs</td>\n",
       "      <td>1</td>\n",
       "      <td>None</td>\n",
       "      <td>0.499072</td>\n",
       "      <td>0.296209</td>\n",
       "    </tr>\n",
       "    <tr>\n",
       "      <th>7</th>\n",
       "      <td>lda_150_2020-04-21 19:30:07</td>\n",
       "      <td>lda</td>\n",
       "      <td>150</td>\n",
       "      <td>abs</td>\n",
       "      <td>1</td>\n",
       "      <td>None</td>\n",
       "      <td>0.506138</td>\n",
       "      <td>0.274160</td>\n",
       "    </tr>\n",
       "    <tr>\n",
       "      <th>8</th>\n",
       "      <td>lda_200_2020-04-21 19:40:38</td>\n",
       "      <td>lda</td>\n",
       "      <td>200</td>\n",
       "      <td>abs</td>\n",
       "      <td>1</td>\n",
       "      <td>None</td>\n",
       "      <td>0.481512</td>\n",
       "      <td>0.299205</td>\n",
       "    </tr>\n",
       "    <tr>\n",
       "      <th>9</th>\n",
       "      <td>lda_250_2020-04-21 19:52:55</td>\n",
       "      <td>lda</td>\n",
       "      <td>250</td>\n",
       "      <td>abs</td>\n",
       "      <td>1</td>\n",
       "      <td>None</td>\n",
       "      <td>0.475707</td>\n",
       "      <td>0.295216</td>\n",
       "    </tr>\n",
       "    <tr>\n",
       "      <th>10</th>\n",
       "      <td>lda_300_2020-04-21 20:06:52</td>\n",
       "      <td>lda</td>\n",
       "      <td>300</td>\n",
       "      <td>abs</td>\n",
       "      <td>1</td>\n",
       "      <td>None</td>\n",
       "      <td>0.455236</td>\n",
       "      <td>0.341271</td>\n",
       "    </tr>\n",
       "    <tr>\n",
       "      <th>11</th>\n",
       "      <td>lda_400_2020-04-21 20:24:15</td>\n",
       "      <td>lda</td>\n",
       "      <td>400</td>\n",
       "      <td>abs</td>\n",
       "      <td>1</td>\n",
       "      <td>None</td>\n",
       "      <td>0.445732</td>\n",
       "      <td>0.319295</td>\n",
       "    </tr>\n",
       "  </tbody>\n",
       "</table>\n",
       "</div>"
      ],
      "text/plain": [
       "                     model_name model_type num_topics abs_or_full top_n_grams  \\\n",
       "0     lda_5_2020-04-21 18:58:29        lda          5         abs           1   \n",
       "12   lda_10_2020-04-21 22:11:24        lda         10         abs           1   \n",
       "13   lda_15_2020-04-21 22:13:29        lda         15         abs           1   \n",
       "14   lda_20_2020-04-21 22:15:40        lda         20         abs           1   \n",
       "15   lda_25_2020-04-21 22:17:46        lda         25         abs           1   \n",
       "16   lda_30_2020-04-21 22:19:57        lda         30         abs           1   \n",
       "17   lda_35_2020-04-21 22:22:11        lda         35         abs           1   \n",
       "18   lda_40_2020-04-21 22:24:29        lda         40         abs           1   \n",
       "19   lda_45_2020-04-21 22:27:19        lda         45         abs           1   \n",
       "20   lda_50_2020-04-21 22:30:06        lda         50         abs           1   \n",
       "5    lda_75_2020-04-21 19:13:32        lda         75         abs           1   \n",
       "6   lda_100_2020-04-21 19:20:42        lda        100         abs           1   \n",
       "7   lda_150_2020-04-21 19:30:07        lda        150         abs           1   \n",
       "8   lda_200_2020-04-21 19:40:38        lda        200         abs           1   \n",
       "9   lda_250_2020-04-21 19:52:55        lda        250         abs           1   \n",
       "10  lda_300_2020-04-21 20:06:52        lda        300         abs           1   \n",
       "11  lda_400_2020-04-21 20:24:15        lda        400         abs           1   \n",
       "\n",
       "   hyperparam_dict  avg_topic_coherence  rstd_atc  \n",
       "0             None             0.510975  0.149392  \n",
       "12            None             0.529820  0.114499  \n",
       "13            None             0.521108  0.152109  \n",
       "14            None             0.519769  0.219951  \n",
       "15            None             0.534191  0.183415  \n",
       "16            None             0.566032  0.154706  \n",
       "17            None             0.533513  0.208648  \n",
       "18            None             0.527110  0.229682  \n",
       "19            None             0.553063  0.193561  \n",
       "20            None             0.552066  0.212562  \n",
       "5             None             0.521885  0.260507  \n",
       "6             None             0.499072  0.296209  \n",
       "7             None             0.506138  0.274160  \n",
       "8             None             0.481512  0.299205  \n",
       "9             None             0.475707  0.295216  \n",
       "10            None             0.455236  0.341271  \n",
       "11            None             0.445732  0.319295  "
      ]
     },
     "execution_count": 107,
     "metadata": {},
     "output_type": "execute_result"
    }
   ],
   "source": [
    "models_df = models_df.drop([1,2,3,4]).sort_values(by=['num_topics'])"
   ]
  },
  {
   "cell_type": "code",
   "execution_count": 110,
   "metadata": {},
   "outputs": [
    {
     "data": {
      "text/plain": [
       "<matplotlib.axes._subplots.AxesSubplot at 0x1bbe6611408>"
      ]
     },
     "execution_count": 110,
     "metadata": {},
     "output_type": "execute_result"
    },
    {
     "data": {
      "image/png": "[encoded data removed]",
      "text/plain": [
       "<Figure size 432x288 with 1 Axes>"
      ]
     },
     "metadata": {
      "needs_background": "light"
     },
     "output_type": "display_data"
    }
   ],
   "source": [
    "models_df[models_df['num_topics'] <= 50].plot(x ='num_topics', y='rstd_atc', kind = 'line')"
   ]
  },
  {
   "cell_type": "code",
   "execution_count": 111,
   "metadata": {},
   "outputs": [
    {
     "data": {
      "text/plain": [
       "<matplotlib.axes._subplots.AxesSubplot at 0x1bcdec00f08>"
      ]
     },
     "execution_count": 111,
     "metadata": {},
     "output_type": "execute_result"
    },
    {
     "data": {
      "image/png": "[encoded data removed]",
      "text/plain": [
       "<Figure size 432x288 with 1 Axes>"
      ]
     },
     "metadata": {
      "needs_background": "light"
     },
     "output_type": "display_data"
    }
   ],
   "source": [
    "models_df[models_df['num_topics'] <= 50].plot(x ='num_topics', y='avg_topic_coherence', kind = 'line')"
   ]
  },
  {
   "cell_type": "code",
   "execution_count": null,
   "metadata": {},
   "outputs": [],
   "source": []
  }
 ],
 "metadata": {
  "kernelspec": {
   "display_name": "Python 3.7 (tensorflow)",
   "language": "python",
   "name": "tensorflow"
  },
  "language_info": {
   "codemirror_mode": {
    "name": "ipython",
    "version": 3
   },
   "file_extension": ".py",
   "mimetype": "text/x-python",
   "name": "python",
   "nbconvert_exporter": "python",
   "pygments_lexer": "ipython3",
   "version": "3.7.6"
  }
 },
 "nbformat": 4,
 "nbformat_minor": 4
}
