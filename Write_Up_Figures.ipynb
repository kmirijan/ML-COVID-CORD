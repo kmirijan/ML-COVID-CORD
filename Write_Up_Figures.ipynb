{
 "cells": [
  {
   "cell_type": "code",
   "execution_count": 22,
   "metadata": {},
   "outputs": [],
   "source": [
    "import pandas as pd\n",
    "import numpy as np\n",
    "import os, json\n",
    "import nltk\n",
    "import importlib\n",
    "import matplotlib.pyplot as plt"
   ]
  },
  {
   "cell_type": "code",
   "execution_count": 2,
   "metadata": {},
   "outputs": [],
   "source": [
    "DATAPATH = 'data'\n",
    "CSV_FILEPATH =\"/\".join([DATAPATH, 'metadata_ft_subset.csv'])"
   ]
  },
  {
   "cell_type": "code",
   "execution_count": 5,
   "metadata": {},
   "outputs": [
    {
     "name": "stdout",
     "output_type": "stream",
     "text": [
      "(33499, 19)\n"
     ]
    },
    {
     "data": {
      "text/html": [
       "<div>\n",
       "<style scoped>\n",
       "    .dataframe tbody tr th:only-of-type {\n",
       "        vertical-align: middle;\n",
       "    }\n",
       "\n",
       "    .dataframe tbody tr th {\n",
       "        vertical-align: top;\n",
       "    }\n",
       "\n",
       "    .dataframe thead th {\n",
       "        text-align: right;\n",
       "    }\n",
       "</style>\n",
       "<table border=\"1\" class=\"dataframe\">\n",
       "  <thead>\n",
       "    <tr style=\"text-align: right;\">\n",
       "      <th></th>\n",
       "      <th>cord_uid</th>\n",
       "      <th>sha</th>\n",
       "      <th>source_x</th>\n",
       "      <th>title</th>\n",
       "      <th>doi</th>\n",
       "      <th>pmcid</th>\n",
       "      <th>pubmed_id</th>\n",
       "      <th>license</th>\n",
       "      <th>abstract</th>\n",
       "      <th>publish_time</th>\n",
       "      <th>authors</th>\n",
       "      <th>journal</th>\n",
       "      <th>Microsoft Academic Paper ID</th>\n",
       "      <th>WHO #Covidence</th>\n",
       "      <th>has_pdf_parse</th>\n",
       "      <th>has_pmc_xml_parse</th>\n",
       "      <th>full_text_file</th>\n",
       "      <th>url</th>\n",
       "      <th>full_body_text</th>\n",
       "    </tr>\n",
       "  </thead>\n",
       "  <tbody>\n",
       "    <tr>\n",
       "      <th>0</th>\n",
       "      <td>xqhn0vbp</td>\n",
       "      <td>1e1286db212100993d03cc22374b624f7caee956</td>\n",
       "      <td>PMC</td>\n",
       "      <td>Airborne rhinovirus detection and effect of ul...</td>\n",
       "      <td>10.1186/1471-2458-3-5</td>\n",
       "      <td>PMC140314</td>\n",
       "      <td>12525263.0</td>\n",
       "      <td>no-cc</td>\n",
       "      <td>BACKGROUND: Rhinovirus, the most common cause ...</td>\n",
       "      <td>2003-01-13</td>\n",
       "      <td>Myatt, Theodore A; Johnston, Sebastian L; Rudn...</td>\n",
       "      <td>BMC Public Health</td>\n",
       "      <td>NaN</td>\n",
       "      <td>NaN</td>\n",
       "      <td>True</td>\n",
       "      <td>True</td>\n",
       "      <td>custom_license</td>\n",
       "      <td>https://www.ncbi.nlm.nih.gov/pmc/articles/PMC1...</td>\n",
       "      <td>Rhinoviruses have been associated with 40% to ...</td>\n",
       "    </tr>\n",
       "    <tr>\n",
       "      <th>1</th>\n",
       "      <td>gi6uaa83</td>\n",
       "      <td>8ae137c8da1607b3a8e4c946c07ca8bda67f88ac</td>\n",
       "      <td>PMC</td>\n",
       "      <td>Discovering human history from stomach bacteria</td>\n",
       "      <td>10.1186/gb-2003-4-5-213</td>\n",
       "      <td>PMC156578</td>\n",
       "      <td>12734001.0</td>\n",
       "      <td>no-cc</td>\n",
       "      <td>Recent analyses of human pathogens have reveal...</td>\n",
       "      <td>2003-04-28</td>\n",
       "      <td>Disotell, Todd R</td>\n",
       "      <td>Genome Biol</td>\n",
       "      <td>NaN</td>\n",
       "      <td>NaN</td>\n",
       "      <td>True</td>\n",
       "      <td>True</td>\n",
       "      <td>custom_license</td>\n",
       "      <td>https://www.ncbi.nlm.nih.gov/pmc/articles/PMC1...</td>\n",
       "      <td>Charles Darwin recognized that the distributio...</td>\n",
       "    </tr>\n",
       "    <tr>\n",
       "      <th>3</th>\n",
       "      <td>fy4w7xz8</td>\n",
       "      <td>0104f6ceccf92ae8567a0102f89cbb976969a774</td>\n",
       "      <td>PMC</td>\n",
       "      <td>Association of HLA class I with severe acute r...</td>\n",
       "      <td>10.1186/1471-2350-4-9</td>\n",
       "      <td>PMC212558</td>\n",
       "      <td>12969506.0</td>\n",
       "      <td>no-cc</td>\n",
       "      <td>BACKGROUND: The human leukocyte antigen (HLA) ...</td>\n",
       "      <td>2003-09-12</td>\n",
       "      <td>Lin, Marie; Tseng, Hsiang-Kuang; Trejaut, Jean...</td>\n",
       "      <td>BMC Med Genet</td>\n",
       "      <td>NaN</td>\n",
       "      <td>NaN</td>\n",
       "      <td>True</td>\n",
       "      <td>True</td>\n",
       "      <td>custom_license</td>\n",
       "      <td>https://www.ncbi.nlm.nih.gov/pmc/articles/PMC2...</td>\n",
       "      <td>patient group  a further significant increase ...</td>\n",
       "    </tr>\n",
       "    <tr>\n",
       "      <th>4</th>\n",
       "      <td>0qaoam29</td>\n",
       "      <td>5b68a553a7cbbea13472721cd1ad617d42b40c26</td>\n",
       "      <td>PMC</td>\n",
       "      <td>A double epidemic model for the SARS propagation</td>\n",
       "      <td>10.1186/1471-2334-3-19</td>\n",
       "      <td>PMC222908</td>\n",
       "      <td>12964944.0</td>\n",
       "      <td>no-cc</td>\n",
       "      <td>BACKGROUND: An epidemic of a Severe Acute Resp...</td>\n",
       "      <td>2003-09-10</td>\n",
       "      <td>Ng, Tuen Wai; Turinici, Gabriel; Danchin, Antoine</td>\n",
       "      <td>BMC Infect Dis</td>\n",
       "      <td>NaN</td>\n",
       "      <td>NaN</td>\n",
       "      <td>True</td>\n",
       "      <td>True</td>\n",
       "      <td>custom_license</td>\n",
       "      <td>https://www.ncbi.nlm.nih.gov/pmc/articles/PMC2...</td>\n",
       "      <td>Since November 2002 (and perhaps earlier) an o...</td>\n",
       "    </tr>\n",
       "    <tr>\n",
       "      <th>5</th>\n",
       "      <td>qj4dh6rg</td>\n",
       "      <td>3ed670f60a7be2e3e2a991ea8af1fdd5fa5e2b2c</td>\n",
       "      <td>PMC</td>\n",
       "      <td>Cloaked similarity between HIV-1 and SARS-CoV ...</td>\n",
       "      <td>10.1186/1471-2180-3-20</td>\n",
       "      <td>PMC222911</td>\n",
       "      <td>14499001.0</td>\n",
       "      <td>no-cc</td>\n",
       "      <td>BACKGROUND: Severe acute respiratory syndrome ...</td>\n",
       "      <td>2003-09-21</td>\n",
       "      <td>Kliger, Yossef; Levanon, Erez Y</td>\n",
       "      <td>BMC Microbiol</td>\n",
       "      <td>NaN</td>\n",
       "      <td>NaN</td>\n",
       "      <td>True</td>\n",
       "      <td>True</td>\n",
       "      <td>custom_license</td>\n",
       "      <td>https://www.ncbi.nlm.nih.gov/pmc/articles/PMC2...</td>\n",
       "      <td>Infection by many enveloped viruses requires f...</td>\n",
       "    </tr>\n",
       "  </tbody>\n",
       "</table>\n",
       "</div>"
      ],
      "text/plain": [
       "   cord_uid                                       sha source_x  \\\n",
       "0  xqhn0vbp  1e1286db212100993d03cc22374b624f7caee956      PMC   \n",
       "1  gi6uaa83  8ae137c8da1607b3a8e4c946c07ca8bda67f88ac      PMC   \n",
       "3  fy4w7xz8  0104f6ceccf92ae8567a0102f89cbb976969a774      PMC   \n",
       "4  0qaoam29  5b68a553a7cbbea13472721cd1ad617d42b40c26      PMC   \n",
       "5  qj4dh6rg  3ed670f60a7be2e3e2a991ea8af1fdd5fa5e2b2c      PMC   \n",
       "\n",
       "                                               title                      doi  \\\n",
       "0  Airborne rhinovirus detection and effect of ul...    10.1186/1471-2458-3-5   \n",
       "1    Discovering human history from stomach bacteria  10.1186/gb-2003-4-5-213   \n",
       "3  Association of HLA class I with severe acute r...    10.1186/1471-2350-4-9   \n",
       "4   A double epidemic model for the SARS propagation   10.1186/1471-2334-3-19   \n",
       "5  Cloaked similarity between HIV-1 and SARS-CoV ...   10.1186/1471-2180-3-20   \n",
       "\n",
       "       pmcid   pubmed_id license  \\\n",
       "0  PMC140314  12525263.0   no-cc   \n",
       "1  PMC156578  12734001.0   no-cc   \n",
       "3  PMC212558  12969506.0   no-cc   \n",
       "4  PMC222908  12964944.0   no-cc   \n",
       "5  PMC222911  14499001.0   no-cc   \n",
       "\n",
       "                                            abstract publish_time  \\\n",
       "0  BACKGROUND: Rhinovirus, the most common cause ...   2003-01-13   \n",
       "1  Recent analyses of human pathogens have reveal...   2003-04-28   \n",
       "3  BACKGROUND: The human leukocyte antigen (HLA) ...   2003-09-12   \n",
       "4  BACKGROUND: An epidemic of a Severe Acute Resp...   2003-09-10   \n",
       "5  BACKGROUND: Severe acute respiratory syndrome ...   2003-09-21   \n",
       "\n",
       "                                             authors            journal  \\\n",
       "0  Myatt, Theodore A; Johnston, Sebastian L; Rudn...  BMC Public Health   \n",
       "1                                   Disotell, Todd R        Genome Biol   \n",
       "3  Lin, Marie; Tseng, Hsiang-Kuang; Trejaut, Jean...      BMC Med Genet   \n",
       "4  Ng, Tuen Wai; Turinici, Gabriel; Danchin, Antoine     BMC Infect Dis   \n",
       "5                    Kliger, Yossef; Levanon, Erez Y      BMC Microbiol   \n",
       "\n",
       "   Microsoft Academic Paper ID WHO #Covidence  has_pdf_parse  \\\n",
       "0                          NaN            NaN           True   \n",
       "1                          NaN            NaN           True   \n",
       "3                          NaN            NaN           True   \n",
       "4                          NaN            NaN           True   \n",
       "5                          NaN            NaN           True   \n",
       "\n",
       "   has_pmc_xml_parse  full_text_file  \\\n",
       "0               True  custom_license   \n",
       "1               True  custom_license   \n",
       "3               True  custom_license   \n",
       "4               True  custom_license   \n",
       "5               True  custom_license   \n",
       "\n",
       "                                                 url  \\\n",
       "0  https://www.ncbi.nlm.nih.gov/pmc/articles/PMC1...   \n",
       "1  https://www.ncbi.nlm.nih.gov/pmc/articles/PMC1...   \n",
       "3  https://www.ncbi.nlm.nih.gov/pmc/articles/PMC2...   \n",
       "4  https://www.ncbi.nlm.nih.gov/pmc/articles/PMC2...   \n",
       "5  https://www.ncbi.nlm.nih.gov/pmc/articles/PMC2...   \n",
       "\n",
       "                                      full_body_text  \n",
       "0  Rhinoviruses have been associated with 40% to ...  \n",
       "1  Charles Darwin recognized that the distributio...  \n",
       "3  patient group  a further significant increase ...  \n",
       "4  Since November 2002 (and perhaps earlier) an o...  \n",
       "5  Infection by many enveloped viruses requires f...  "
      ]
     },
     "execution_count": 5,
     "metadata": {},
     "output_type": "execute_result"
    }
   ],
   "source": [
    "df_sub = pd.read_csv(CSV_FILEPATH)\n",
    "print(df_sub.shape)\n",
    "df_sub.head()"
   ]
  },
  {
   "cell_type": "code",
   "execution_count": 6,
   "metadata": {},
   "outputs": [],
   "source": [
    "MODELS_FILEPATH =\"/\".join([DATAPATH, 'metadata_models.csv'])"
   ]
  },
  {
   "cell_type": "code",
   "execution_count": 7,
   "metadata": {},
   "outputs": [
    {
     "name": "stdout",
     "output_type": "stream",
     "text": [
      "(50, 8)\n"
     ]
    },
    {
     "data": {
      "text/html": [
       "<div>\n",
       "<style scoped>\n",
       "    .dataframe tbody tr th:only-of-type {\n",
       "        vertical-align: middle;\n",
       "    }\n",
       "\n",
       "    .dataframe tbody tr th {\n",
       "        vertical-align: top;\n",
       "    }\n",
       "\n",
       "    .dataframe thead th {\n",
       "        text-align: right;\n",
       "    }\n",
       "</style>\n",
       "<table border=\"1\" class=\"dataframe\">\n",
       "  <thead>\n",
       "    <tr style=\"text-align: right;\">\n",
       "      <th></th>\n",
       "      <th>model_name</th>\n",
       "      <th>model_type</th>\n",
       "      <th>num_topics</th>\n",
       "      <th>abs_or_full</th>\n",
       "      <th>top_n_grams</th>\n",
       "      <th>hyperparam_dict</th>\n",
       "      <th>avg_topic_coherence</th>\n",
       "      <th>rstd_atc</th>\n",
       "    </tr>\n",
       "  </thead>\n",
       "  <tbody>\n",
       "    <tr>\n",
       "      <th>0</th>\n",
       "      <td>lda_5_2020-04-21 18:58:29</td>\n",
       "      <td>lda</td>\n",
       "      <td>5</td>\n",
       "      <td>abs</td>\n",
       "      <td>1</td>\n",
       "      <td>NaN</td>\n",
       "      <td>0.510975</td>\n",
       "      <td>0.149392</td>\n",
       "    </tr>\n",
       "    <tr>\n",
       "      <th>1</th>\n",
       "      <td>lda_10_2020-04-21 22:11:24</td>\n",
       "      <td>lda</td>\n",
       "      <td>10</td>\n",
       "      <td>abs</td>\n",
       "      <td>1</td>\n",
       "      <td>NaN</td>\n",
       "      <td>0.529820</td>\n",
       "      <td>0.114499</td>\n",
       "    </tr>\n",
       "    <tr>\n",
       "      <th>2</th>\n",
       "      <td>lda_15_2020-04-21 22:13:29</td>\n",
       "      <td>lda</td>\n",
       "      <td>15</td>\n",
       "      <td>abs</td>\n",
       "      <td>1</td>\n",
       "      <td>NaN</td>\n",
       "      <td>0.521108</td>\n",
       "      <td>0.152109</td>\n",
       "    </tr>\n",
       "    <tr>\n",
       "      <th>3</th>\n",
       "      <td>lda_20_2020-04-21 22:15:40</td>\n",
       "      <td>lda</td>\n",
       "      <td>20</td>\n",
       "      <td>abs</td>\n",
       "      <td>1</td>\n",
       "      <td>NaN</td>\n",
       "      <td>0.519769</td>\n",
       "      <td>0.219951</td>\n",
       "    </tr>\n",
       "    <tr>\n",
       "      <th>4</th>\n",
       "      <td>lda_25_2020-04-21 22:17:46</td>\n",
       "      <td>lda</td>\n",
       "      <td>25</td>\n",
       "      <td>abs</td>\n",
       "      <td>1</td>\n",
       "      <td>NaN</td>\n",
       "      <td>0.534191</td>\n",
       "      <td>0.183415</td>\n",
       "    </tr>\n",
       "  </tbody>\n",
       "</table>\n",
       "</div>"
      ],
      "text/plain": [
       "                   model_name model_type  num_topics abs_or_full  top_n_grams  \\\n",
       "0   lda_5_2020-04-21 18:58:29        lda           5         abs            1   \n",
       "1  lda_10_2020-04-21 22:11:24        lda          10         abs            1   \n",
       "2  lda_15_2020-04-21 22:13:29        lda          15         abs            1   \n",
       "3  lda_20_2020-04-21 22:15:40        lda          20         abs            1   \n",
       "4  lda_25_2020-04-21 22:17:46        lda          25         abs            1   \n",
       "\n",
       "   hyperparam_dict  avg_topic_coherence  rstd_atc  \n",
       "0              NaN             0.510975  0.149392  \n",
       "1              NaN             0.529820  0.114499  \n",
       "2              NaN             0.521108  0.152109  \n",
       "3              NaN             0.519769  0.219951  \n",
       "4              NaN             0.534191  0.183415  "
      ]
     },
     "execution_count": 7,
     "metadata": {},
     "output_type": "execute_result"
    }
   ],
   "source": [
    "df_models = pd.read_csv(MODELS_FILEPATH)\n",
    "print(df_models.shape)\n",
    "df_models.head()"
   ]
  },
  {
   "cell_type": "code",
   "execution_count": 10,
   "metadata": {},
   "outputs": [
    {
     "data": {
      "text/plain": [
       "<module 'process_tools' from 'C:\\\\Users\\\\Khachatur\\\\ML-COVID-CORD\\\\process_tools.py'>"
      ]
     },
     "execution_count": 10,
     "metadata": {},
     "output_type": "execute_result"
    }
   ],
   "source": [
    "import process_tools\n",
    "importlib.reload(process_tools)"
   ]
  },
  {
   "cell_type": "code",
   "execution_count": 19,
   "metadata": {},
   "outputs": [
    {
     "name": "stdout",
     "output_type": "stream",
     "text": [
      "Number of unique tokens: 57596\n",
      "Number of documents: 33499\n"
     ]
    }
   ],
   "source": [
    "from gensim.corpora import Dictionary\n",
    "\n",
    "full_docs = process_tools.extract_full_docs(df_sub)\n",
    "full_docs = process_tools.simple_preprocess(full_docs)\n",
    "# Create a dictionary representation of the documents.\n",
    "full_dictionary = Dictionary(full_docs)\n",
    "\n",
    "# Filter out words that occur less than 20 documents, or more than 50% of the documents.\n",
    "full_dictionary.filter_extremes(no_below=20, no_above=0.5)\n",
    "full_corpus = [full_dictionary.doc2bow(doc) for doc in full_docs]\n",
    "print('Number of unique tokens: %d' % len(full_dictionary))\n",
    "print('Number of documents: %d' % len(full_corpus))"
   ]
  },
  {
   "cell_type": "code",
   "execution_count": 11,
   "metadata": {},
   "outputs": [],
   "source": [
    "from gensim.models import LdaMulticore\n",
    "from gensim.models.nmf import Nmf"
   ]
  },
  {
   "cell_type": "code",
   "execution_count": 12,
   "metadata": {},
   "outputs": [],
   "source": [
    "lda_40 = LdaMulticore.load('models/lda_40/lda_40')\n",
    "nmf_40 = Nmf.load('models/nmf_40/nmf_40')\n",
    "nmf_75 = Nmf.load('models/nmf_75/nmf_75')"
   ]
  },
  {
   "cell_type": "code",
   "execution_count": 24,
   "metadata": {},
   "outputs": [],
   "source": [
    "models_full_df = df_models[df_models['abs_or_full'] == 'full']\n",
    "lda_models = models_full_df[models_full_df['model_type'] == 'lda']\n",
    "nmf_models = models_full_df[models_full_df['model_type'] == 'nmf']\n",
    "NUM_TOPICS_LIST = [10, 15, 20, 25, 30, 35, 40, 45, 50, 75, 100]"
   ]
  },
  {
   "cell_type": "code",
   "execution_count": 20,
   "metadata": {},
   "outputs": [
    {
     "name": "stdout",
     "output_type": "stream",
     "text": [
      "Average topic coherence:  0.6477830718975954\n",
      "Relative Standard Deviation of ATC:  0.21576022170579578\n",
      "Average topic coherence:  0.6634789002193069\n",
      "Relative Standard Deviation of ATC:  0.14404910596421358\n",
      "Average topic coherence:  0.6694629883547253\n",
      "Relative Standard Deviation of ATC:  0.17174313291936077\n"
     ]
    }
   ],
   "source": [
    "avg_topic_coherence, rstd_atc, lda_40_topics= process_tools.get_model_stats(lda_40, 'lda', full_docs, full_dictionary, full_corpus, 40, verbose=True, get_topics=True)\n",
    "avg_topic_coherence, rstd_atc, nmf_40_topics= process_tools.get_model_stats(nmf_40, 'nmf', full_docs, full_dictionary, full_corpus, 40, verbose=True, get_topics = True)\n",
    "avg_topic_coherence, rstd_atc, nmf_75_topics= process_tools.get_model_stats(nmf_75, 'nmf', full_docs, full_dictionary, full_corpus, 75, verbose=True, get_topics = True)"
   ]
  },
  {
   "cell_type": "code",
   "execution_count": 29,
   "metadata": {},
   "outputs": [
    {
     "data": {
      "image/png": "[encoded data removed]",
      "text/plain": [
       "<Figure size 1080x720 with 1 Axes>"
      ]
     },
     "metadata": {
      "needs_background": "light"
     },
     "output_type": "display_data"
    }
   ],
   "source": [
    "plt.figure(figsize=(15,10))\n",
    "plt.plot(lda_models['num_topics'], lda_models['avg_topic_coherence'])\n",
    "plt.plot(nmf_models['num_topics'], nmf_models['avg_topic_coherence'])\n",
    "plt.legend(['LDA', 'NMF'], loc='upper left')\n",
    "plt.xticks(NUM_TOPICS_LIST)\n",
    "plt.xlabel('Number of Topics')\n",
    "plt.ylabel('Average Topic Coherence')\n",
    "plt.title('Model Coherence')\n",
    "\n",
    "SMALL_SIZE = 20\n",
    "MEDIUM_SIZE = 26\n",
    "\n",
    "plt.rc('font', size=SMALL_SIZE)          # controls default text sizes\n",
    "plt.rc('axes', titlesize=MEDIUM_SIZE)     # fontsize of the axes title\n",
    "plt.rc('axes', labelsize=MEDIUM_SIZE)    # fontsize of the x and y labels\n",
    "plt.rc('xtick', labelsize=SMALL_SIZE)    # fontsize of the tick labels\n",
    "plt.rc('ytick', labelsize=SMALL_SIZE)    # fontsize of the tick labels\n",
    "plt.rc('legend', fontsize=SMALL_SIZE)    # legend fontsize\n",
    "\n",
    "plt.savefig('images/model_coherence.png')"
   ]
  },
  {
   "cell_type": "code",
   "execution_count": null,
   "metadata": {},
   "outputs": [],
   "source": [
    "plt.figure(figsize=(20,10))\n",
    "plt.plot(lda_models['num_topics'], lda_models['rstd_atc'])\n",
    "plt.plot(nmf_models['num_topics'], nmf_models['rstd_atc'])\n",
    "plt.legend(['LDA', 'NMF'], loc='upper left')\n",
    "plt.xticks(NUM_TOPICS_LIST)\n",
    "plt.xlabel('Number of Topics')\n",
    "plt.ylabel('Relative Standard Deviation of Topic Coherence')\n",
    "plt.title('Topic Coherence Spread')\n",
    "\n",
    "plt.savefig('images/topic_coherence_spread.png')"
   ]
  },
  {
   "cell_type": "code",
   "execution_count": null,
   "metadata": {},
   "outputs": [],
   "source": []
  }
 ],
 "metadata": {
  "kernelspec": {
   "display_name": "Python 3.7 (tensorflow)",
   "language": "python",
   "name": "tensorflow"
  },
  "language_info": {
   "name": ""
  }
 },
 "nbformat": 4,
 "nbformat_minor": 4
}
