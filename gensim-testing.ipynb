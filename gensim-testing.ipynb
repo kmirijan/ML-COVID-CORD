{
 "cells": [
  {
   "cell_type": "code",
   "execution_count": 1,
   "metadata": {},
   "outputs": [],
   "source": [
    "import gensim"
   ]
  },
  {
   "cell_type": "code",
   "execution_count": 2,
   "metadata": {},
   "outputs": [],
   "source": [
    "from gensim.test.utils import common_corpus, common_dictionary\n",
    "from gensim.models.ldamodel import LdaModel\n",
    "from gensim.models.coherencemodel import CoherenceModel\n",
    "\n",
    "model = LdaModel(common_corpus, 5, common_dictionary)\n",
    "cm = CoherenceModel(model=model, corpus=common_corpus, coherence='u_mass')\n",
    "coherence = cm.get_coherence()"
   ]
  },
  {
   "cell_type": "code",
   "execution_count": 3,
   "metadata": {},
   "outputs": [
    {
     "data": {
      "text/plain": [
       "<gensim.models.ldamodel.LdaModel at 0x19e9f7458c8>"
      ]
     },
     "execution_count": 3,
     "metadata": {},
     "output_type": "execute_result"
    }
   ],
   "source": [
    "model"
   ]
  },
  {
   "cell_type": "code",
   "execution_count": 4,
   "metadata": {},
   "outputs": [
    {
     "data": {
      "text/plain": [
       "<gensim.models.coherencemodel.CoherenceModel at 0x19e9f745f88>"
      ]
     },
     "execution_count": 4,
     "metadata": {},
     "output_type": "execute_result"
    }
   ],
   "source": [
    "cm"
   ]
  },
  {
   "cell_type": "code",
   "execution_count": 5,
   "metadata": {},
   "outputs": [
    {
     "data": {
      "text/plain": [
       "-14.679371186797123"
      ]
     },
     "execution_count": 5,
     "metadata": {},
     "output_type": "execute_result"
    }
   ],
   "source": [
    "coherence"
   ]
  },
  {
   "cell_type": "code",
   "execution_count": 23,
   "metadata": {},
   "outputs": [
    {
     "data": {
      "text/plain": [
       "{0: 'computer',\n",
       " 1: 'human',\n",
       " 2: 'interface',\n",
       " 3: 'response',\n",
       " 4: 'survey',\n",
       " 5: 'system',\n",
       " 6: 'time',\n",
       " 7: 'user',\n",
       " 8: 'eps',\n",
       " 9: 'trees',\n",
       " 10: 'graph',\n",
       " 11: 'minors'}"
      ]
     },
     "execution_count": 23,
     "metadata": {},
     "output_type": "execute_result"
    }
   ],
   "source": [
    "dict(common_dictionary)"
   ]
  },
  {
   "cell_type": "code",
   "execution_count": 24,
   "metadata": {},
   "outputs": [
    {
     "data": {
      "text/plain": [
       "[[(0, 1), (1, 1), (2, 1)],\n",
       " [(0, 1), (3, 1), (4, 1), (5, 1), (6, 1), (7, 1)],\n",
       " [(2, 1), (5, 1), (7, 1), (8, 1)],\n",
       " [(1, 1), (5, 2), (8, 1)],\n",
       " [(3, 1), (6, 1), (7, 1)],\n",
       " [(9, 1)],\n",
       " [(9, 1), (10, 1)],\n",
       " [(9, 1), (10, 1), (11, 1)],\n",
       " [(4, 1), (10, 1), (11, 1)]]"
      ]
     },
     "execution_count": 24,
     "metadata": {},
     "output_type": "execute_result"
    }
   ],
   "source": [
    "common_corpus"
   ]
  },
  {
   "cell_type": "markdown",
   "metadata": {},
   "source": [
    "<h1> Gensim Core Concepts"
   ]
  },
  {
   "cell_type": "code",
   "execution_count": 25,
   "metadata": {},
   "outputs": [],
   "source": [
    "import pprint"
   ]
  },
  {
   "cell_type": "code",
   "execution_count": 26,
   "metadata": {},
   "outputs": [],
   "source": [
    "document = \"Human machine interface for lab abc computer applications\""
   ]
  },
  {
   "cell_type": "code",
   "execution_count": 27,
   "metadata": {},
   "outputs": [],
   "source": [
    "text_corpus = [    \"Human machine interface for lab abc computer applications\",\n",
    "    \"A survey of user opinion of computer system response time\",\n",
    "    \"The EPS user interface management system\",\n",
    "    \"System and human system engineering testing of EPS\",\n",
    "    \"Relation of user perceived response time to error measurement\",\n",
    "    \"The generation of random binary unordered trees\",\n",
    "    \"The intersection graph of paths in trees\",\n",
    "    \"Graph minors IV Widths of trees and well quasi ordering\",\n",
    "    \"Graph minors A survey\",\n",
    "]"
   ]
  },
  {
   "cell_type": "code",
   "execution_count": 28,
   "metadata": {},
   "outputs": [],
   "source": [
    "stoplist = set('for a of the and to in'.split(' '))"
   ]
  },
  {
   "cell_type": "code",
   "execution_count": 29,
   "metadata": {},
   "outputs": [
    {
     "data": {
      "text/plain": [
       "[['human', 'machine', 'interface', 'lab', 'abc', 'computer', 'applications'],\n",
       " ['survey', 'user', 'opinion', 'computer', 'system', 'response', 'time'],\n",
       " ['eps', 'user', 'interface', 'management', 'system'],\n",
       " ['system', 'human', 'system', 'engineering', 'testing', 'eps'],\n",
       " ['relation', 'user', 'perceived', 'response', 'time', 'error', 'measurement'],\n",
       " ['generation', 'random', 'binary', 'unordered', 'trees'],\n",
       " ['intersection', 'graph', 'paths', 'trees'],\n",
       " ['graph', 'minors', 'iv', 'widths', 'trees', 'well', 'quasi', 'ordering'],\n",
       " ['graph', 'minors', 'survey']]"
      ]
     },
     "execution_count": 29,
     "metadata": {},
     "output_type": "execute_result"
    }
   ],
   "source": [
    "texts = [[word for word in document.lower().split() if word not in stoplist]\n",
    "         for document in text_corpus]\n",
    "texts"
   ]
  },
  {
   "cell_type": "code",
   "execution_count": 30,
   "metadata": {},
   "outputs": [
    {
     "data": {
      "text/plain": [
       "defaultdict(int,\n",
       "            {'human': 2,\n",
       "             'machine': 1,\n",
       "             'interface': 2,\n",
       "             'lab': 1,\n",
       "             'abc': 1,\n",
       "             'computer': 2,\n",
       "             'applications': 1,\n",
       "             'survey': 2,\n",
       "             'user': 3,\n",
       "             'opinion': 1,\n",
       "             'system': 4,\n",
       "             'response': 2,\n",
       "             'time': 2,\n",
       "             'eps': 2,\n",
       "             'management': 1,\n",
       "             'engineering': 1,\n",
       "             'testing': 1,\n",
       "             'relation': 1,\n",
       "             'perceived': 1,\n",
       "             'error': 1,\n",
       "             'measurement': 1,\n",
       "             'generation': 1,\n",
       "             'random': 1,\n",
       "             'binary': 1,\n",
       "             'unordered': 1,\n",
       "             'trees': 3,\n",
       "             'intersection': 1,\n",
       "             'graph': 3,\n",
       "             'paths': 1,\n",
       "             'minors': 2,\n",
       "             'iv': 1,\n",
       "             'widths': 1,\n",
       "             'well': 1,\n",
       "             'quasi': 1,\n",
       "             'ordering': 1})"
      ]
     },
     "execution_count": 30,
     "metadata": {},
     "output_type": "execute_result"
    }
   ],
   "source": [
    "# Count Word Frequencies\n",
    "from collections import defaultdict\n",
    "frequency = defaultdict(int)\n",
    "for text in texts:\n",
    "    for token in text:\n",
    "        frequency[token] += 1\n",
    "frequency"
   ]
  },
  {
   "cell_type": "code",
   "execution_count": 31,
   "metadata": {},
   "outputs": [
    {
     "data": {
      "text/plain": [
       "[['human', 'interface', 'computer'],\n",
       " ['survey', 'user', 'computer', 'system', 'response', 'time'],\n",
       " ['eps', 'user', 'interface', 'system'],\n",
       " ['system', 'human', 'system', 'eps'],\n",
       " ['user', 'response', 'time'],\n",
       " ['trees'],\n",
       " ['graph', 'trees'],\n",
       " ['graph', 'minors', 'trees'],\n",
       " ['graph', 'minors', 'survey']]"
      ]
     },
     "execution_count": 31,
     "metadata": {},
     "output_type": "execute_result"
    }
   ],
   "source": [
    "processed_corpus = [[token for token in text if frequency[token] > 1] for text in texts]\n",
    "processed_corpus"
   ]
  },
  {
   "cell_type": "code",
   "execution_count": 32,
   "metadata": {},
   "outputs": [
    {
     "name": "stdout",
     "output_type": "stream",
     "text": [
      "Dictionary(12 unique tokens: ['computer', 'human', 'interface', 'response', 'survey']...)\n"
     ]
    }
   ],
   "source": [
    "from gensim import corpora\n",
    "# Associate each word with a unique integer ID\n",
    "dictionary = corpora.Dictionary(processed_corpus)\n",
    "print(dictionary)"
   ]
  },
  {
   "cell_type": "code",
   "execution_count": 33,
   "metadata": {},
   "outputs": [
    {
     "data": {
      "text/plain": [
       "{'computer': 0,\n",
       " 'human': 1,\n",
       " 'interface': 2,\n",
       " 'response': 3,\n",
       " 'survey': 4,\n",
       " 'system': 5,\n",
       " 'time': 6,\n",
       " 'user': 7,\n",
       " 'eps': 8,\n",
       " 'trees': 9,\n",
       " 'graph': 10,\n",
       " 'minors': 11}"
      ]
     },
     "execution_count": 33,
     "metadata": {},
     "output_type": "execute_result"
    }
   ],
   "source": [
    "dictionary.token2id"
   ]
  },
  {
   "cell_type": "code",
   "execution_count": 35,
   "metadata": {},
   "outputs": [
    {
     "data": {
      "text/plain": [
       "[(0, 1), (1, 1)]"
      ]
     },
     "execution_count": 35,
     "metadata": {},
     "output_type": "execute_result"
    }
   ],
   "source": [
    "new_doc  = \"Human Computer Interaction\"\n",
    "new_vec = dictionary.doc2bow(new_doc.lower().split())\n",
    "new_vec"
   ]
  },
  {
   "cell_type": "code",
   "execution_count": 36,
   "metadata": {},
   "outputs": [
    {
     "data": {
      "text/plain": [
       "[[(0, 1), (1, 1), (2, 1)],\n",
       " [(0, 1), (3, 1), (4, 1), (5, 1), (6, 1), (7, 1)],\n",
       " [(2, 1), (5, 1), (7, 1), (8, 1)],\n",
       " [(1, 1), (5, 2), (8, 1)],\n",
       " [(3, 1), (6, 1), (7, 1)],\n",
       " [(9, 1)],\n",
       " [(9, 1), (10, 1)],\n",
       " [(9, 1), (10, 1), (11, 1)],\n",
       " [(4, 1), (10, 1), (11, 1)]]"
      ]
     },
     "execution_count": 36,
     "metadata": {},
     "output_type": "execute_result"
    }
   ],
   "source": [
    "bow_corpus = [dictionary.doc2bow(text) for text in processed_corpus]\n",
    "bow_corpus"
   ]
  },
  {
   "cell_type": "code",
   "execution_count": 42,
   "metadata": {},
   "outputs": [
    {
     "data": {
      "text/plain": [
       "[(5, 0.5898341626740045), (11, 0.8075244024440723)]"
      ]
     },
     "execution_count": 42,
     "metadata": {},
     "output_type": "execute_result"
    }
   ],
   "source": [
    "from gensim import models\n",
    "\n",
    "tfidf = models.TfidfModel(bow_corpus)\n",
    "words = 'system minors'.lower().split()\n",
    "tfidf[dictionary.doc2bow(words)]"
   ]
  },
  {
   "cell_type": "code",
   "execution_count": 55,
   "metadata": {},
   "outputs": [],
   "source": [
    "from gensim import similarities\n",
    "# Index the entire corpus\n",
    "index = similarities.SparseMatrixSimilarity(tfidf[bow_corpus], num_features=len(dictionary))\n",
    "# list(index)"
   ]
  },
  {
   "cell_type": "code",
   "execution_count": 56,
   "metadata": {},
   "outputs": [
    {
     "data": {
      "text/plain": [
       "[(0, 0.0),\n",
       " (1, 0.32448703),\n",
       " (2, 0.41707572),\n",
       " (3, 0.7184812),\n",
       " (4, 0.0),\n",
       " (5, 0.0),\n",
       " (6, 0.0),\n",
       " (7, 0.0),\n",
       " (8, 0.0)]"
      ]
     },
     "execution_count": 56,
     "metadata": {},
     "output_type": "execute_result"
    }
   ],
   "source": [
    "query_doc = 'system engineering'.split()\n",
    "query_bow = dictionary.doc2bow(query_doc)\n",
    "sims = index[tfidf[query_bow]]\n",
    "list(enumerate(sims))"
   ]
  },
  {
   "cell_type": "code",
   "execution_count": 58,
   "metadata": {},
   "outputs": [
    {
     "data": {
      "text/plain": [
       "[(3, 0.7184812),\n",
       " (2, 0.41707572),\n",
       " (1, 0.32448703),\n",
       " (0, 0.0),\n",
       " (4, 0.0),\n",
       " (5, 0.0),\n",
       " (6, 0.0),\n",
       " (7, 0.0),\n",
       " (8, 0.0)]"
      ]
     },
     "execution_count": 58,
     "metadata": {},
     "output_type": "execute_result"
    }
   ],
   "source": [
    "# Our document is most similar to document 3 by tfidf similarity score\n",
    "sorted(enumerate(sims), key=lambda x: x[1], reverse=True)"
   ]
  },
  {
   "cell_type": "markdown",
   "metadata": {},
   "source": [
    "<h1> Corpora and Vector Spaces"
   ]
  },
  {
   "cell_type": "code",
   "execution_count": 59,
   "metadata": {},
   "outputs": [],
   "source": [
    "import logging\n",
    "logging.basicConfig(format='%(asctime)s : %(levelname)s : %(message)s', level=logging.INFO)"
   ]
  },
  {
   "cell_type": "code",
   "execution_count": 60,
   "metadata": {},
   "outputs": [],
   "source": [
    "documents = [\n",
    "    \"Human machine interface for lab abc computer applications\",\n",
    "    \"A survey of user opinion of computer system response time\",\n",
    "    \"The EPS user interface management system\",\n",
    "    \"System and human system engineering testing of EPS\",\n",
    "    \"Relation of user perceived response time to error measurement\",\n",
    "    \"The generation of random binary unordered trees\",\n",
    "    \"The intersection graph of paths in trees\",\n",
    "    \"Graph minors IV Widths of trees and well quasi ordering\",\n",
    "    \"Graph minors A survey\",\n",
    "]"
   ]
  },
  {
   "cell_type": "code",
   "execution_count": 75,
   "metadata": {},
   "outputs": [
    {
     "data": {
      "text/plain": [
       "[['human', 'interface', 'computer'],\n",
       " ['survey', 'user', 'computer', 'system', 'response', 'time'],\n",
       " ['eps', 'user', 'interface', 'system'],\n",
       " ['system', 'human', 'system', 'eps'],\n",
       " ['user', 'response', 'time'],\n",
       " ['trees'],\n",
       " ['graph', 'trees'],\n",
       " ['graph', 'minors', 'trees'],\n",
       " ['graph', 'minors', 'survey']]"
      ]
     },
     "execution_count": 75,
     "metadata": {},
     "output_type": "execute_result"
    }
   ],
   "source": [
    "from pprint import pprint  # pretty-printer\n",
    "from collections import defaultdict\n",
    "\n",
    "# remove common words and tokenize\n",
    "stoplist = set('for a of the and to in'.split())\n",
    "texts = [\n",
    "    [word for word in document.lower().split() if word not in stoplist]\n",
    "    for document in documents\n",
    "]\n",
    "\n",
    "# remove words that appear only once\n",
    "frequency = defaultdict(int)\n",
    "for text in texts:\n",
    "    for token in text:\n",
    "        frequency[token] += 1\n",
    "\n",
    "texts = [\n",
    "    [token for token in text if frequency[token] > 1]\n",
    "    for text in texts\n",
    "]\n",
    "\n",
    "texts"
   ]
  },
  {
   "cell_type": "markdown",
   "metadata": {},
   "source": [
    "Had to skip some stuff since links were broken to mycorpus.txt"
   ]
  },
  {
   "cell_type": "code",
   "execution_count": 77,
   "metadata": {},
   "outputs": [
    {
     "data": {
      "text/plain": [
       "array([[9, 1, 7, 7, 8],\n",
       "       [8, 1, 4, 3, 5]])"
      ]
     },
     "execution_count": 77,
     "metadata": {},
     "output_type": "execute_result"
    }
   ],
   "source": [
    "import gensim\n",
    "import numpy as np\n",
    "numpy_matrix = np.random.randint(10, size=[5, 2])  # random matrix as an example\n",
    "corpus = gensim.matutils.Dense2Corpus(numpy_matrix)\n",
    "corpus.dense"
   ]
  },
  {
   "cell_type": "code",
   "execution_count": 88,
   "metadata": {},
   "outputs": [
    {
     "name": "stdout",
     "output_type": "stream",
     "text": [
      "\n",
      "<gensim.matutils.Sparse2Corpus object at 0x0000019EA25B92C8>\n"
     ]
    },
    {
     "data": {
      "text/plain": [
       "<0x2 sparse matrix of type '<class 'numpy.float64'>'\n",
       "\twith 0 stored elements in Compressed Sparse Column format>"
      ]
     },
     "execution_count": 88,
     "metadata": {},
     "output_type": "execute_result"
    }
   ],
   "source": [
    "# This cell might also be broken\n",
    "import scipy\n",
    "scipy_sparse_matrix = scipy.sparse.random(10, 2)  # random sparse matrix as example\n",
    "print(scipy_sparse_matrix)\n",
    "corpus = gensim.matutils.Sparse2Corpus(scipy_sparse_matrix)\n",
    "print(corpus)\n",
    "scipy_csc_matrix = gensim.matutils.corpus2csc(corpus)\n",
    "scipy_csc_matrix"
   ]
  },
  {
   "cell_type": "markdown",
   "metadata": {},
   "source": [
    "<h1> Topic and Transformations"
   ]
  },
  {
   "cell_type": "code",
   "execution_count": 90,
   "metadata": {},
   "outputs": [
    {
     "name": "stderr",
     "output_type": "stream",
     "text": [
      "2020-04-01 19:43:09,994 : INFO : adding document #0 to Dictionary(0 unique tokens: [])\n",
      "2020-04-01 19:43:09,995 : INFO : built Dictionary(12 unique tokens: ['computer', 'human', 'interface', 'response', 'survey']...) from 9 documents (total 29 corpus positions)\n"
     ]
    }
   ],
   "source": [
    "from collections import defaultdict\n",
    "from gensim import corpora\n",
    "\n",
    "documents = [\n",
    "    \"Human machine interface for lab abc computer applications\",\n",
    "    \"A survey of user opinion of computer system response time\",\n",
    "    \"The EPS user interface management system\",\n",
    "    \"System and human system engineering testing of EPS\",\n",
    "    \"Relation of user perceived response time to error measurement\",\n",
    "    \"The generation of random binary unordered trees\",\n",
    "    \"The intersection graph of paths in trees\",\n",
    "    \"Graph minors IV Widths of trees and well quasi ordering\",\n",
    "    \"Graph minors A survey\",\n",
    "]\n",
    "\n",
    "# remove common words and tokenize\n",
    "stoplist = set('for a of the and to in'.split())\n",
    "texts = [\n",
    "    [word for word in document.lower().split() if word not in stoplist]\n",
    "    for document in documents\n",
    "]\n",
    "\n",
    "# remove words that appear only once\n",
    "frequency = defaultdict(int)\n",
    "for text in texts:\n",
    "    for token in text:\n",
    "        frequency[token] += 1\n",
    "\n",
    "texts = [\n",
    "    [token for token in text if frequency[token] > 1]\n",
    "    for text in texts\n",
    "]\n",
    "\n",
    "dictionary = corpora.Dictionary(texts)\n",
    "corpus = [dictionary.doc2bow(text) for text in texts]"
   ]
  },
  {
   "cell_type": "code",
   "execution_count": 107,
   "metadata": {},
   "outputs": [
    {
     "name": "stdout",
     "output_type": "stream",
     "text": [
      "[[(0, 1), (1, 1), (2, 1)],\n",
      " [(0, 1), (3, 1), (4, 1), (5, 1), (6, 1), (7, 1)],\n",
      " [(2, 1), (5, 1), (7, 1), (8, 1)],\n",
      " [(1, 1), (5, 2), (8, 1)],\n",
      " [(3, 1), (6, 1), (7, 1)],\n",
      " [(9, 1)],\n",
      " [(9, 1), (10, 1)],\n",
      " [(9, 1), (10, 1), (11, 1)],\n",
      " [(4, 1), (10, 1), (11, 1)]]\n",
      "{0: 'computer',\n",
      " 1: 'human',\n",
      " 2: 'interface',\n",
      " 3: 'response',\n",
      " 4: 'survey',\n",
      " 5: 'system',\n",
      " 6: 'time',\n",
      " 7: 'user',\n",
      " 8: 'eps',\n",
      " 9: 'trees',\n",
      " 10: 'graph',\n",
      " 11: 'minors'}\n"
     ]
    }
   ],
   "source": [
    "pprint(corpus)\n",
    "pprint(dict(dictionary))"
   ]
  },
  {
   "cell_type": "code",
   "execution_count": 108,
   "metadata": {},
   "outputs": [
    {
     "name": "stderr",
     "output_type": "stream",
     "text": [
      "2020-04-01 19:45:54,576 : INFO : collecting document frequencies\n",
      "2020-04-01 19:45:54,577 : INFO : PROGRESS: processing document #0\n",
      "2020-04-01 19:45:54,578 : INFO : calculating IDF weights for 9 documents and 12 features (28 matrix non-zeros)\n"
     ]
    }
   ],
   "source": [
    "tfidf = models.TfidfModel(corpus)"
   ]
  },
  {
   "cell_type": "code",
   "execution_count": 118,
   "metadata": {},
   "outputs": [
    {
     "name": "stdout",
     "output_type": "stream",
     "text": [
      "[(0, 0.7071067811865476), (1, 0.7071067811865476)]\n"
     ]
    }
   ],
   "source": [
    "doc_bow = [(0, 1), (1, 1)]\n",
    "print(tfidf[doc_bow])"
   ]
  },
  {
   "cell_type": "code",
   "execution_count": 136,
   "metadata": {},
   "outputs": [
    {
     "name": "stderr",
     "output_type": "stream",
     "text": [
      "2020-04-01 19:52:55,397 : INFO : storing corpus in Matrix Market format to corpus.mm\n",
      "2020-04-01 19:52:55,398 : INFO : saving sparse matrix to corpus.mm\n",
      "2020-04-01 19:52:55,399 : INFO : PROGRESS: saving document #0\n",
      "2020-04-01 19:52:55,400 : INFO : saved 9x12 matrix, density=25.926% (28/108)\n",
      "2020-04-01 19:52:55,401 : INFO : saving MmCorpus index to corpus.mm.index\n"
     ]
    }
   ],
   "source": [
    "corpus_tfidf = tfidf[corpus]\n",
    "corpora.MmCorpus.serialize('corpus.mm', corpus_tfidf)"
   ]
  },
  {
   "cell_type": "code",
   "execution_count": 140,
   "metadata": {},
   "outputs": [
    {
     "name": "stderr",
     "output_type": "stream",
     "text": [
      "2020-04-01 19:54:03,811 : INFO : loaded corpus index from corpus.mm.index\n",
      "2020-04-01 19:54:03,811 : INFO : initializing cython corpus reader from corpus.mm\n",
      "2020-04-01 19:54:03,812 : INFO : accepted corpus with 9 documents, 12 features, 28 non-zero entries\n"
     ]
    },
    {
     "data": {
      "text/plain": [
       "[[(0, 0.5773502691896257), (1, 0.5773502691896257), (2, 0.5773502691896257)],\n",
       " [(0, 0.44424552527467476),\n",
       "  (3, 0.44424552527467476),\n",
       "  (4, 0.44424552527467476),\n",
       "  (5, 0.3244870206138555),\n",
       "  (6, 0.44424552527467476),\n",
       "  (7, 0.3244870206138555)],\n",
       " [(2, 0.5710059809418182),\n",
       "  (5, 0.4170757362022777),\n",
       "  (7, 0.4170757362022777),\n",
       "  (8, 0.5710059809418182)],\n",
       " [(1, 0.49182558987264147), (5, 0.7184811607083769), (8, 0.49182558987264147)],\n",
       " [(3, 0.6282580468670046), (6, 0.6282580468670046), (7, 0.45889394536615247)],\n",
       " [(9, 1.0)],\n",
       " [(9, 0.7071067811865475), (10, 0.7071067811865475)],\n",
       " [(9, 0.5080429008916749), (10, 0.5080429008916749), (11, 0.695546419520037)],\n",
       " [(4, 0.6282580468670046),\n",
       "  (10, 0.45889394536615247),\n",
       "  (11, 0.6282580468670046)]]"
      ]
     },
     "execution_count": 140,
     "metadata": {},
     "output_type": "execute_result"
    }
   ],
   "source": [
    "corpus_loaded = corpora.MmCorpus('corpus.mm')\n",
    "list(corpus_loaded)"
   ]
  },
  {
   "cell_type": "code",
   "execution_count": 142,
   "metadata": {},
   "outputs": [
    {
     "data": {
      "text/plain": [
       "[[(0, 0.5773502691896257), (1, 0.5773502691896257), (2, 0.5773502691896257)],\n",
       " [(0, 0.44424552527467476),\n",
       "  (3, 0.44424552527467476),\n",
       "  (4, 0.44424552527467476),\n",
       "  (5, 0.3244870206138555),\n",
       "  (6, 0.44424552527467476),\n",
       "  (7, 0.3244870206138555)],\n",
       " [(2, 0.5710059809418182),\n",
       "  (5, 0.4170757362022777),\n",
       "  (7, 0.4170757362022777),\n",
       "  (8, 0.5710059809418182)],\n",
       " [(1, 0.49182558987264147), (5, 0.7184811607083769), (8, 0.49182558987264147)],\n",
       " [(3, 0.6282580468670046), (6, 0.6282580468670046), (7, 0.45889394536615247)],\n",
       " [(9, 1.0)],\n",
       " [(9, 0.7071067811865475), (10, 0.7071067811865475)],\n",
       " [(9, 0.5080429008916749), (10, 0.5080429008916749), (11, 0.695546419520037)],\n",
       " [(4, 0.6282580468670046),\n",
       "  (10, 0.45889394536615247),\n",
       "  (11, 0.6282580468670046)]]"
      ]
     },
     "execution_count": 142,
     "metadata": {},
     "output_type": "execute_result"
    }
   ],
   "source": [
    "list(corpus_tfidf)"
   ]
  },
  {
   "cell_type": "code",
   "execution_count": 143,
   "metadata": {},
   "outputs": [
    {
     "name": "stderr",
     "output_type": "stream",
     "text": [
      "2020-04-01 19:56:17,358 : INFO : using serial LSI version on this node\n",
      "2020-04-01 19:56:17,359 : INFO : updating model with new documents\n",
      "2020-04-01 19:56:17,360 : INFO : preparing a new chunk of documents\n",
      "2020-04-01 19:56:17,360 : INFO : using 100 extra samples and 2 power iterations\n",
      "2020-04-01 19:56:17,361 : INFO : 1st phase: constructing (12, 102) action matrix\n",
      "2020-04-01 19:56:17,363 : INFO : orthonormalizing (12, 102) action matrix\n",
      "2020-04-01 19:56:17,449 : INFO : 2nd phase: running dense svd on (12, 9) matrix\n",
      "2020-04-01 19:56:17,454 : INFO : computing the final decomposition\n",
      "2020-04-01 19:56:17,455 : INFO : keeping 2 factors (discarding 47.565% of energy spectrum)\n",
      "2020-04-01 19:56:17,460 : INFO : processed documents up to #9\n",
      "2020-04-01 19:56:17,461 : INFO : topic #0(1.594): 0.703*\"trees\" + 0.538*\"graph\" + 0.402*\"minors\" + 0.187*\"survey\" + 0.061*\"system\" + 0.060*\"response\" + 0.060*\"time\" + 0.058*\"user\" + 0.049*\"computer\" + 0.035*\"interface\"\n",
      "2020-04-01 19:56:17,462 : INFO : topic #1(1.476): -0.460*\"system\" + -0.373*\"user\" + -0.332*\"eps\" + -0.328*\"interface\" + -0.320*\"response\" + -0.320*\"time\" + -0.293*\"computer\" + -0.280*\"human\" + -0.171*\"survey\" + 0.161*\"trees\"\n"
     ]
    }
   ],
   "source": [
    "# Transform TfIdf corpus into latent 2-D space using LSI\n",
    "lsi_model = models.LsiModel(corpus_tfidf, id2word=dictionary, num_topics=2)"
   ]
  },
  {
   "cell_type": "code",
   "execution_count": 146,
   "metadata": {},
   "outputs": [
    {
     "name": "stderr",
     "output_type": "stream",
     "text": [
      "2020-04-01 19:58:05,562 : INFO : topic #0(1.594): 0.703*\"trees\" + 0.538*\"graph\" + 0.402*\"minors\" + 0.187*\"survey\" + 0.061*\"system\" + 0.060*\"response\" + 0.060*\"time\" + 0.058*\"user\" + 0.049*\"computer\" + 0.035*\"interface\"\n",
      "2020-04-01 19:58:05,563 : INFO : topic #1(1.476): -0.460*\"system\" + -0.373*\"user\" + -0.332*\"eps\" + -0.328*\"interface\" + -0.320*\"response\" + -0.320*\"time\" + -0.293*\"computer\" + -0.280*\"human\" + -0.171*\"survey\" + 0.161*\"trees\"\n"
     ]
    },
    {
     "data": {
      "text/plain": [
       "[(0,\n",
       "  '0.703*\"trees\" + 0.538*\"graph\" + 0.402*\"minors\" + 0.187*\"survey\" + 0.061*\"system\" + 0.060*\"response\" + 0.060*\"time\" + 0.058*\"user\" + 0.049*\"computer\" + 0.035*\"interface\"'),\n",
       " (1,\n",
       "  '-0.460*\"system\" + -0.373*\"user\" + -0.332*\"eps\" + -0.328*\"interface\" + -0.320*\"response\" + -0.320*\"time\" + -0.293*\"computer\" + -0.280*\"human\" + -0.171*\"survey\" + 0.161*\"trees\"')]"
      ]
     },
     "execution_count": 146,
     "metadata": {},
     "output_type": "execute_result"
    }
   ],
   "source": [
    "lsi_model.print_topics(2)"
   ]
  },
  {
   "cell_type": "code",
   "execution_count": 149,
   "metadata": {},
   "outputs": [
    {
     "data": {
      "text/plain": [
       "[[(0, 0.06600783396090135), (1, -0.5200703306361859)],\n",
       " [(0, 0.1966759285914224), (1, -0.7609563167700061)],\n",
       " [(0, 0.08992639972446098), (1, -0.7241860626752515)],\n",
       " [(0, 0.0758584765217788), (1, -0.6320551586003432)],\n",
       " [(0, 0.10150299184979951), (1, -0.5737308483002963)],\n",
       " [(0, 0.7032108939378316), (1, 0.1611518021402547)],\n",
       " [(0, 0.8774787673119839), (1, 0.16758906864659018)],\n",
       " [(0, 0.9098624686818586), (1, 0.14086553628718618)],\n",
       " [(0, 0.6165825350569285), (1, -0.05392907566389632)]]"
      ]
     },
     "execution_count": 149,
     "metadata": {},
     "output_type": "execute_result"
    }
   ],
   "source": [
    "corpus_lsi = lsi_model[corpus_tfidf]\n",
    "list(corpus_lsi)"
   ]
  },
  {
   "cell_type": "code",
   "execution_count": 152,
   "metadata": {},
   "outputs": [
    {
     "name": "stdout",
     "output_type": "stream",
     "text": [
      "[(0, 0.06600783396090135), (1, -0.5200703306361859)] Human machine interface for lab abc computer applications\n",
      "[(0, 0.1966759285914224), (1, -0.7609563167700061)] A survey of user opinion of computer system response time\n",
      "[(0, 0.08992639972446098), (1, -0.7241860626752515)] The EPS user interface management system\n",
      "[(0, 0.0758584765217788), (1, -0.6320551586003432)] System and human system engineering testing of EPS\n",
      "[(0, 0.10150299184979951), (1, -0.5737308483002963)] Relation of user perceived response time to error measurement\n",
      "[(0, 0.7032108939378316), (1, 0.1611518021402547)] The generation of random binary unordered trees\n",
      "[(0, 0.8774787673119839), (1, 0.16758906864659018)] The intersection graph of paths in trees\n",
      "[(0, 0.9098624686818586), (1, 0.14086553628718618)] Graph minors IV Widths of trees and well quasi ordering\n",
      "[(0, 0.6165825350569285), (1, -0.05392907566389632)] Graph minors A survey\n"
     ]
    }
   ],
   "source": [
    "for doc, as_text in zip(corpus_lsi, documents):\n",
    "    print(doc, as_text)"
   ]
  },
  {
   "cell_type": "markdown",
   "metadata": {},
   "source": [
    "Skipped available transformation. That comes later in more depth"
   ]
  },
  {
   "cell_type": "markdown",
   "metadata": {},
   "source": [
    "<h1> Similarity Queries"
   ]
  },
  {
   "cell_type": "code",
   "execution_count": 159,
   "metadata": {},
   "outputs": [
    {
     "name": "stderr",
     "output_type": "stream",
     "text": [
      "2020-04-01 20:07:49,812 : INFO : using serial LSI version on this node\n",
      "2020-04-01 20:07:49,813 : INFO : updating model with new documents\n",
      "2020-04-01 20:07:49,813 : INFO : preparing a new chunk of documents\n",
      "2020-04-01 20:07:49,814 : INFO : using 100 extra samples and 2 power iterations\n",
      "2020-04-01 20:07:49,815 : INFO : 1st phase: constructing (12, 102) action matrix\n",
      "2020-04-01 20:07:49,815 : INFO : orthonormalizing (12, 102) action matrix\n",
      "2020-04-01 20:07:49,817 : INFO : 2nd phase: running dense svd on (12, 9) matrix\n",
      "2020-04-01 20:07:49,818 : INFO : computing the final decomposition\n",
      "2020-04-01 20:07:49,818 : INFO : keeping 2 factors (discarding 43.156% of energy spectrum)\n",
      "2020-04-01 20:07:49,819 : INFO : processed documents up to #9\n",
      "2020-04-01 20:07:49,820 : INFO : topic #0(3.341): 0.644*\"system\" + 0.404*\"user\" + 0.301*\"eps\" + 0.265*\"time\" + 0.265*\"response\" + 0.240*\"computer\" + 0.221*\"human\" + 0.206*\"survey\" + 0.198*\"interface\" + 0.036*\"graph\"\n",
      "2020-04-01 20:07:49,821 : INFO : topic #1(2.542): -0.623*\"graph\" + -0.490*\"trees\" + -0.451*\"minors\" + -0.274*\"survey\" + 0.167*\"system\" + 0.141*\"eps\" + 0.113*\"human\" + -0.107*\"time\" + -0.107*\"response\" + 0.072*\"interface\"\n"
     ]
    }
   ],
   "source": [
    "lsi = models.LsiModel(corpus, id2word=dictionary, num_topics=2)"
   ]
  },
  {
   "cell_type": "code",
   "execution_count": 160,
   "metadata": {},
   "outputs": [
    {
     "name": "stdout",
     "output_type": "stream",
     "text": [
      "[(0, 0.461821004532716), (1, 0.0700276652789995)]\n"
     ]
    }
   ],
   "source": [
    "doc = \"Human computer interaction\"\n",
    "vec_bow = dictionary.doc2bow(doc.lower().split())\n",
    "vec_lsi = lsi[vec_bow]  # convert the query to LSI space\n",
    "print(vec_lsi)"
   ]
  },
  {
   "cell_type": "code",
   "execution_count": 161,
   "metadata": {},
   "outputs": [
    {
     "name": "stderr",
     "output_type": "stream",
     "text": [
      "2020-04-01 20:08:57,613 : WARNING : scanning corpus to determine the number of features (consider setting `num_features` explicitly)\n",
      "2020-04-01 20:08:57,623 : INFO : creating matrix with 9 documents and 2 features\n"
     ]
    }
   ],
   "source": [
    "index = similarities.MatrixSimilarity(lsi[corpus]) # using cosine similarity"
   ]
  },
  {
   "cell_type": "code",
   "execution_count": 165,
   "metadata": {},
   "outputs": [
    {
     "data": {
      "text/plain": [
       "array([ 0.998093  ,  0.93748635,  0.9984453 ,  0.9865886 ,  0.90755945,\n",
       "       -0.12416792, -0.10639259, -0.09879464,  0.05004176], dtype=float32)"
      ]
     },
     "execution_count": 165,
     "metadata": {},
     "output_type": "execute_result"
    }
   ],
   "source": [
    "sims = index[vec_lsi]\n",
    "sims"
   ]
  },
  {
   "cell_type": "code",
   "execution_count": 166,
   "metadata": {},
   "outputs": [
    {
     "data": {
      "text/plain": [
       "[(2, 0.9984453),\n",
       " (0, 0.998093),\n",
       " (3, 0.9865886),\n",
       " (1, 0.93748635),\n",
       " (4, 0.90755945),\n",
       " (8, 0.050041765),\n",
       " (7, -0.09879464),\n",
       " (6, -0.10639259),\n",
       " (5, -0.12416792)]"
      ]
     },
     "execution_count": 166,
     "metadata": {},
     "output_type": "execute_result"
    }
   ],
   "source": [
    "sorted(enumerate(sims), key=lambda item: -item[1])"
   ]
  },
  {
   "cell_type": "markdown",
   "metadata": {},
   "source": [
    "<h1> Word2Vec"
   ]
  },
  {
   "cell_type": "code",
   "execution_count": 4,
   "metadata": {},
   "outputs": [],
   "source": [
    "import gensim.downloader as api\n",
    "wv = api.load('word2vec-google-news-300')"
   ]
  },
  {
   "cell_type": "code",
   "execution_count": 21,
   "metadata": {},
   "outputs": [
    {
     "name": "stdout",
     "output_type": "stream",
     "text": [
      "</s>\n",
      "in\n",
      "for\n",
      "that\n",
      "is\n",
      "on\n",
      "##\n",
      "The\n",
      "with\n",
      "said\n"
     ]
    },
    {
     "data": {
      "text/plain": [
       "300"
      ]
     },
     "execution_count": 21,
     "metadata": {},
     "output_type": "execute_result"
    }
   ],
   "source": [
    "for i, word in enumerate(wv.vocab):\n",
    "    if i == 10:\n",
    "        break\n",
    "    print(word)"
   ]
  },
  {
   "cell_type": "code",
   "execution_count": 6,
   "metadata": {
    "collapsed": true,
    "jupyter": {
     "outputs_hidden": true
    }
   },
   "outputs": [
    {
     "data": {
      "text/plain": [
       "array([ 1.25976562e-01,  2.97851562e-02,  8.60595703e-03,  1.39648438e-01,\n",
       "       -2.56347656e-02, -3.61328125e-02,  1.11816406e-01, -1.98242188e-01,\n",
       "        5.12695312e-02,  3.63281250e-01, -2.42187500e-01, -3.02734375e-01,\n",
       "       -1.77734375e-01, -2.49023438e-02, -1.67968750e-01, -1.69921875e-01,\n",
       "        3.46679688e-02,  5.21850586e-03,  4.63867188e-02,  1.28906250e-01,\n",
       "        1.36718750e-01,  1.12792969e-01,  5.95703125e-02,  1.36718750e-01,\n",
       "        1.01074219e-01, -1.76757812e-01, -2.51953125e-01,  5.98144531e-02,\n",
       "        3.41796875e-01, -3.11279297e-02,  1.04492188e-01,  6.17675781e-02,\n",
       "        1.24511719e-01,  4.00390625e-01, -3.22265625e-01,  8.39843750e-02,\n",
       "        3.90625000e-02,  5.85937500e-03,  7.03125000e-02,  1.72851562e-01,\n",
       "        1.38671875e-01, -2.31445312e-01,  2.83203125e-01,  1.42578125e-01,\n",
       "        3.41796875e-01, -2.39257812e-02, -1.09863281e-01,  3.32031250e-02,\n",
       "       -5.46875000e-02,  1.53198242e-02, -1.62109375e-01,  1.58203125e-01,\n",
       "       -2.59765625e-01,  2.01416016e-02, -1.63085938e-01,  1.35803223e-03,\n",
       "       -1.44531250e-01, -5.68847656e-02,  4.29687500e-02, -2.46582031e-02,\n",
       "        1.85546875e-01,  4.47265625e-01,  9.58251953e-03,  1.31835938e-01,\n",
       "        9.86328125e-02, -1.85546875e-01, -1.00097656e-01, -1.33789062e-01,\n",
       "       -1.25000000e-01,  2.83203125e-01,  1.23046875e-01,  5.32226562e-02,\n",
       "       -1.77734375e-01,  8.59375000e-02, -2.18505859e-02,  2.05078125e-02,\n",
       "       -1.39648438e-01,  2.51464844e-02,  1.38671875e-01, -1.05468750e-01,\n",
       "        1.38671875e-01,  8.88671875e-02, -7.51953125e-02, -2.13623047e-02,\n",
       "        1.72851562e-01,  4.63867188e-02, -2.65625000e-01,  8.91113281e-03,\n",
       "        1.49414062e-01,  3.78417969e-02,  2.38281250e-01, -1.24511719e-01,\n",
       "       -2.17773438e-01, -1.81640625e-01,  2.97851562e-02,  5.71289062e-02,\n",
       "       -2.89306641e-02,  1.24511719e-02,  9.66796875e-02, -2.31445312e-01,\n",
       "        5.81054688e-02,  6.68945312e-02,  7.08007812e-02, -3.08593750e-01,\n",
       "       -2.14843750e-01,  1.45507812e-01, -4.27734375e-01, -9.39941406e-03,\n",
       "        1.54296875e-01, -7.66601562e-02,  2.89062500e-01,  2.77343750e-01,\n",
       "       -4.86373901e-04, -1.36718750e-01,  3.24218750e-01, -2.46093750e-01,\n",
       "       -3.03649902e-03, -2.11914062e-01,  1.25000000e-01,  2.69531250e-01,\n",
       "        2.04101562e-01,  8.25195312e-02, -2.01171875e-01, -1.60156250e-01,\n",
       "       -3.78417969e-02, -1.20117188e-01,  1.15234375e-01, -4.10156250e-02,\n",
       "       -3.95507812e-02, -8.98437500e-02,  6.34765625e-03,  2.03125000e-01,\n",
       "        1.86523438e-01,  2.73437500e-01,  6.29882812e-02,  1.41601562e-01,\n",
       "       -9.81445312e-02,  1.38671875e-01,  1.82617188e-01,  1.73828125e-01,\n",
       "        1.73828125e-01, -2.37304688e-01,  1.78710938e-01,  6.34765625e-02,\n",
       "        2.36328125e-01, -2.08984375e-01,  8.74023438e-02, -1.66015625e-01,\n",
       "       -7.91015625e-02,  2.43164062e-01, -8.88671875e-02,  1.26953125e-01,\n",
       "       -2.16796875e-01, -1.73828125e-01, -3.59375000e-01, -8.25195312e-02,\n",
       "       -6.49414062e-02,  5.07812500e-02,  1.35742188e-01, -7.47070312e-02,\n",
       "       -1.64062500e-01,  1.15356445e-02,  4.45312500e-01, -2.15820312e-01,\n",
       "       -1.11328125e-01, -1.92382812e-01,  1.70898438e-01, -1.25000000e-01,\n",
       "        2.65502930e-03,  1.92382812e-01, -1.74804688e-01,  1.39648438e-01,\n",
       "        2.92968750e-01,  1.13281250e-01,  5.95703125e-02, -6.39648438e-02,\n",
       "        9.96093750e-02, -2.72216797e-02,  1.96533203e-02,  4.27246094e-02,\n",
       "       -2.46093750e-01,  6.39648438e-02, -2.25585938e-01, -1.68945312e-01,\n",
       "        2.89916992e-03,  8.20312500e-02,  3.41796875e-01,  4.32128906e-02,\n",
       "        1.32812500e-01,  1.42578125e-01,  7.61718750e-02,  5.98144531e-02,\n",
       "       -1.19140625e-01,  2.74658203e-03, -6.29882812e-02, -2.72216797e-02,\n",
       "       -4.82177734e-03, -8.20312500e-02, -2.49023438e-02, -4.00390625e-01,\n",
       "       -1.06933594e-01,  4.24804688e-02,  7.76367188e-02, -1.16699219e-01,\n",
       "        7.37304688e-02, -9.22851562e-02,  1.07910156e-01,  1.58203125e-01,\n",
       "        4.24804688e-02,  1.26953125e-01,  3.61328125e-02,  2.67578125e-01,\n",
       "       -1.01074219e-01, -3.02734375e-01, -5.76171875e-02,  5.05371094e-02,\n",
       "        5.26428223e-04, -2.07031250e-01, -1.38671875e-01, -8.97216797e-03,\n",
       "       -2.78320312e-02, -1.41601562e-01,  2.07031250e-01, -1.58203125e-01,\n",
       "        1.27929688e-01,  1.49414062e-01, -2.24609375e-02, -8.44726562e-02,\n",
       "        1.22558594e-01,  2.15820312e-01, -2.13867188e-01, -3.12500000e-01,\n",
       "       -3.73046875e-01,  4.08935547e-03,  1.07421875e-01,  1.06933594e-01,\n",
       "        7.32421875e-02,  8.97216797e-03, -3.88183594e-02, -1.29882812e-01,\n",
       "        1.49414062e-01, -2.14843750e-01, -1.83868408e-03,  9.91210938e-02,\n",
       "        1.57226562e-01, -1.14257812e-01, -2.05078125e-01,  9.91210938e-02,\n",
       "        3.69140625e-01, -1.97265625e-01,  3.54003906e-02,  1.09375000e-01,\n",
       "        1.31835938e-01,  1.66992188e-01,  2.35351562e-01,  1.04980469e-01,\n",
       "       -4.96093750e-01, -1.64062500e-01, -1.56250000e-01, -5.22460938e-02,\n",
       "        1.03027344e-01,  2.43164062e-01, -1.88476562e-01,  5.07812500e-02,\n",
       "       -9.37500000e-02, -6.68945312e-02,  2.27050781e-02,  7.61718750e-02,\n",
       "        2.89062500e-01,  3.10546875e-01, -5.37109375e-02,  2.28515625e-01,\n",
       "        2.51464844e-02,  6.78710938e-02, -1.21093750e-01, -2.15820312e-01,\n",
       "       -2.73437500e-01, -3.07617188e-02, -3.37890625e-01,  1.53320312e-01,\n",
       "        2.33398438e-01, -2.08007812e-01,  3.73046875e-01,  8.20312500e-02,\n",
       "        2.51953125e-01, -7.61718750e-02, -4.66308594e-02, -2.23388672e-02,\n",
       "        2.99072266e-02, -5.93261719e-02, -4.66918945e-03, -2.44140625e-01,\n",
       "       -2.09960938e-01, -2.87109375e-01, -4.54101562e-02, -1.77734375e-01,\n",
       "       -2.79296875e-01, -8.59375000e-02,  9.13085938e-02,  2.51953125e-01],\n",
       "      dtype=float32)"
      ]
     },
     "execution_count": 6,
     "metadata": {},
     "output_type": "execute_result"
    }
   ],
   "source": [
    "vec_king = wv['king']\n",
    "vec_king"
   ]
  },
  {
   "cell_type": "code",
   "execution_count": 7,
   "metadata": {},
   "outputs": [
    {
     "name": "stdout",
     "output_type": "stream",
     "text": [
      "The word 'cameroon' does not appear in this model\n"
     ]
    }
   ],
   "source": [
    "try:\n",
    "    vec_cameroon = wv['cameroon']\n",
    "except KeyError:\n",
    "    print(\"The word 'cameroon' does not appear in this model\")"
   ]
  },
  {
   "cell_type": "code",
   "execution_count": 8,
   "metadata": {},
   "outputs": [
    {
     "name": "stdout",
     "output_type": "stream",
     "text": [
      "'car'\t'minivan'\t0.69\n",
      "'car'\t'bicycle'\t0.54\n",
      "'car'\t'airplane'\t0.42\n",
      "'car'\t'cereal'\t0.14\n",
      "'car'\t'communism'\t0.06\n"
     ]
    }
   ],
   "source": [
    "pairs = [    ('car', 'minivan'),   # a minivan is a kind of car\n",
    "    ('car', 'bicycle'),   # still a wheeled vehicle\n",
    "    ('car', 'airplane'),  # ok, no wheels, but still a vehicle\n",
    "    ('car', 'cereal'),    # ... and so on\n",
    "    ('car', 'communism'),\n",
    "]\n",
    "for w1, w2 in pairs:\n",
    "    print('%r\\t%r\\t%.2f' % (w1, w2, wv.similarity(w1, w2)))"
   ]
  },
  {
   "cell_type": "code",
   "execution_count": 9,
   "metadata": {},
   "outputs": [
    {
     "name": "stdout",
     "output_type": "stream",
     "text": [
      "[('SUV', 0.8532191514968872), ('vehicle', 0.8175784349441528), ('pickup_truck', 0.7763689160346985), ('Jeep', 0.7567334175109863), ('Ford_Explorer', 0.7565719485282898)]\n"
     ]
    }
   ],
   "source": [
    "print(wv.most_similar(positive=['car', 'minivan'], topn=5))"
   ]
  },
  {
   "cell_type": "code",
   "execution_count": 10,
   "metadata": {},
   "outputs": [
    {
     "name": "stdout",
     "output_type": "stream",
     "text": [
      "car\n"
     ]
    },
    {
     "name": "stderr",
     "output_type": "stream",
     "text": [
      "C:\\Users\\Khachatur\\Miniconda3\\envs\\tensorflow\\lib\\site-packages\\gensim\\models\\keyedvectors.py:877: FutureWarning: arrays to stack must be passed as a \"sequence\" type such as list or tuple. Support for non-sequence iterables such as generators is deprecated as of NumPy 1.16 and will raise an error in the future.\n",
      "  vectors = vstack(self.word_vec(word, use_norm=True) for word in used_words).astype(REAL)\n"
     ]
    }
   ],
   "source": [
    "print(wv.doesnt_match(['fire', 'water', 'land', 'sea', 'air', 'car']))"
   ]
  },
  {
   "cell_type": "code",
   "execution_count": 3,
   "metadata": {},
   "outputs": [],
   "source": [
    "from gensim.test.utils import datapath\n",
    "from gensim import utils\n",
    "\n",
    "class MyCorpus(object):\n",
    "    \"\"\"An interator that yields sentences (lists of str).\"\"\"\n",
    "\n",
    "    def __iter__(self):\n",
    "        corpus_path = datapath('lee_background.cor')\n",
    "        for line in open(corpus_path):\n",
    "            # assume there's one document per line, tokens separated by whitespace\n",
    "            yield utils.simple_preprocess(line)"
   ]
  },
  {
   "cell_type": "code",
   "execution_count": 4,
   "metadata": {},
   "outputs": [],
   "source": [
    "import gensim.models\n",
    "\n",
    "sentences = MyCorpus()\n",
    "model = gensim.models.Word2Vec(sentences=sentences)"
   ]
  },
  {
   "cell_type": "code",
   "execution_count": 5,
   "metadata": {},
   "outputs": [],
   "source": [
    "import numpy as np\n",
    "vec_king = model.wv['king']"
   ]
  },
  {
   "cell_type": "code",
   "execution_count": 6,
   "metadata": {},
   "outputs": [
    {
     "name": "stdout",
     "output_type": "stream",
     "text": [
      "hundreds\n",
      "of\n",
      "people\n",
      "have\n",
      "been\n",
      "forced\n",
      "to\n",
      "their\n",
      "homes\n",
      "in\n"
     ]
    }
   ],
   "source": [
    "for i, word in enumerate(model.wv.vocab):\n",
    "    if i == 10:\n",
    "        break\n",
    "    print(word)"
   ]
  },
  {
   "cell_type": "code",
   "execution_count": 7,
   "metadata": {},
   "outputs": [
    {
     "data": {
      "image/png": "[encoded data removed]",
      "text/plain": [
       "<Figure size 864x864 with 1 Axes>"
      ]
     },
     "metadata": {
      "needs_background": "light"
     },
     "output_type": "display_data"
    }
   ],
   "source": [
    "from sklearn.decomposition import IncrementalPCA    # inital reduction\n",
    "from sklearn.manifold import TSNE                   # final reduction\n",
    "import numpy as np                                  # array handling\n",
    "\n",
    "\n",
    "def reduce_dimensions(model):\n",
    "    num_dimensions = 2  # final num dimensions (2D, 3D, etc)\n",
    "\n",
    "    vectors = [] # positions in vector space\n",
    "    labels = [] # keep track of words to label our data again later\n",
    "    for word in model.wv.vocab:\n",
    "        vectors.append(model.wv[word])\n",
    "        labels.append(word)\n",
    "\n",
    "    # convert both lists into numpy vectors for reduction\n",
    "    vectors = np.asarray(vectors)\n",
    "    labels = np.asarray(labels)\n",
    "\n",
    "    # reduce using t-SNE\n",
    "    vectors = np.asarray(vectors)\n",
    "    tsne = TSNE(n_components=num_dimensions, random_state=0)\n",
    "    vectors = tsne.fit_transform(vectors)\n",
    "\n",
    "    x_vals = [v[0] for v in vectors]\n",
    "    y_vals = [v[1] for v in vectors]\n",
    "    return x_vals, y_vals, labels\n",
    "\n",
    "\n",
    "x_vals, y_vals, labels = reduce_dimensions(model)\n",
    "\n",
    "def plot_with_matplotlib(x_vals, y_vals, labels):\n",
    "    import matplotlib.pyplot as plt\n",
    "    import random\n",
    "\n",
    "    random.seed(0)\n",
    "\n",
    "    plt.figure(figsize=(12, 12))\n",
    "    plt.scatter(x_vals, y_vals)\n",
    "\n",
    "    #\n",
    "    # Label randomly subsampled 25 data points\n",
    "    #\n",
    "    indices = list(range(len(labels)))\n",
    "    selected_indices = random.sample(indices, 25)\n",
    "    for i in selected_indices:\n",
    "        plt.annotate(labels[i], (x_vals[i], y_vals[i]))\n",
    "\n",
    "plot_with_matplotlib(x_vals, y_vals, labels)\n"
   ]
  },
  {
   "cell_type": "markdown",
   "metadata": {},
   "source": [
    "<h1> Doc2Vec"
   ]
  },
  {
   "cell_type": "code",
   "execution_count": 26,
   "metadata": {},
   "outputs": [],
   "source": [
    "import os\n",
    "import gensim\n",
    "# Set file names for train and test data\n",
    "test_data_dir = os.path.join(gensim.__path__[0], 'test', 'test_data')\n",
    "lee_train_file = os.path.join(test_data_dir, 'lee_background.cor')\n",
    "lee_test_file = os.path.join(test_data_dir, 'lee.cor')"
   ]
  },
  {
   "cell_type": "code",
   "execution_count": 27,
   "metadata": {},
   "outputs": [],
   "source": [
    "import smart_open\n",
    "\n",
    "def read_corpus(fname, tokens_only=False):\n",
    "    with smart_open.open(fname, encoding=\"iso-8859-1\") as f:\n",
    "        for i, line in enumerate(f):\n",
    "            tokens = gensim.utils.simple_preprocess(line)\n",
    "            if tokens_only:\n",
    "                yield tokens\n",
    "            else:\n",
    "                # For training data, add tags\n",
    "                yield gensim.models.doc2vec.TaggedDocument(tokens, [i])"
   ]
  },
  {
   "cell_type": "code",
   "execution_count": 28,
   "metadata": {},
   "outputs": [],
   "source": [
    "train_corpus = list(read_corpus(lee_train_file))\n",
    "test_corpus = list(read_corpus(lee_test_file, tokens_only=True))"
   ]
  },
  {
   "cell_type": "code",
   "execution_count": 29,
   "metadata": {},
   "outputs": [
    {
     "data": {
      "text/plain": [
       "TaggedDocument(words=['argentina', 'political', 'and', 'economic', 'crisis', 'has', 'deepened', 'with', 'the', 'resignation', 'of', 'its', 'interim', 'president', 'who', 'took', 'office', 'just', 'week', 'ago', 'aldolfo', 'rodregiuez', 'saa', 'told', 'stunned', 'nation', 'that', 'he', 'could', 'not', 'rescue', 'argentina', 'because', 'key', 'fellow', 'peronists', 'would', 'not', 'support', 'his', 'default', 'on', 'massive', 'foreign', 'debt', 'repayment', 'or', 'his', 'plan', 'for', 'new', 'currency', 'it', 'was', 'only', 'week', 'ago', 'that', 'he', 'was', 'promising', 'million', 'new', 'jobs', 'to', 'end', 'four', 'years', 'of', 'recession', 'days', 'after', 'his', 'predecessor', 'resigned', 'following', 'series', 'of', 'failed', 'rescue', 'packages', 'after', 'announcing', 'that', 'the', 'senate', 'leader', 'ramon', 'puerta', 'would', 'assume', 'the', 'presidency', 'until', 'congress', 'appoints', 'new', 'caretaker', 'president', 'the', 'government', 'said', 'he', 'too', 'had', 'quit', 'and', 'another', 'senior', 'lawmaker', 'would', 'act', 'in', 'the', 'role', 'fresh', 'elections', 'are', 'not', 'scheduled', 'until', 'march', 'leaving', 'whoever', 'assumes', 'the', 'presidency', 'with', 'the', 'daunting', 'task', 'of', 'tackling', 'argentina', 'worst', 'crisis', 'in', 'years', 'but', 'this', 'time', 'isolated', 'by', 'international', 'lending', 'agencies'], tags=[3])"
      ]
     },
     "execution_count": 29,
     "metadata": {},
     "output_type": "execute_result"
    }
   ],
   "source": [
    "train_corpus[3]"
   ]
  },
  {
   "cell_type": "code",
   "execution_count": 30,
   "metadata": {},
   "outputs": [],
   "source": [
    "model = gensim.models.doc2vec.Doc2Vec(vector_size=50, min_count=2, epochs=40)"
   ]
  },
  {
   "cell_type": "code",
   "execution_count": 31,
   "metadata": {},
   "outputs": [],
   "source": [
    "model.build_vocab(train_corpus)"
   ]
  },
  {
   "cell_type": "code",
   "execution_count": 32,
   "metadata": {},
   "outputs": [
    {
     "data": {
      "text/plain": [
       "3955"
      ]
     },
     "execution_count": 32,
     "metadata": {},
     "output_type": "execute_result"
    }
   ],
   "source": [
    "len(model.wv.vocab)"
   ]
  },
  {
   "cell_type": "code",
   "execution_count": 33,
   "metadata": {},
   "outputs": [],
   "source": [
    "model.train(train_corpus, total_examples=model.corpus_count, epochs=model.epochs)"
   ]
  },
  {
   "cell_type": "code",
   "execution_count": 34,
   "metadata": {},
   "outputs": [
    {
     "name": "stdout",
     "output_type": "stream",
     "text": [
      "[-0.03030773 -0.05393341 -0.13382047 -0.04441775  0.22714497  0.09742558\n",
      "  0.14442702  0.05052727  0.02953425 -0.0934954   0.08715063 -0.13288651\n",
      " -0.07523406  0.04768296  0.18364494  0.17692944  0.04612937 -0.0701591\n",
      "  0.11088675 -0.38414133 -0.11857495  0.07786534 -0.2572298  -0.03044146\n",
      " -0.06027896 -0.2198638  -0.03219892  0.20376648  0.00517268 -0.11205857\n",
      "  0.03470736  0.12120346 -0.0237193   0.00904524 -0.07099169  0.03126359\n",
      " -0.24987783  0.3558425  -0.10321619  0.08093851  0.05007556 -0.16718146\n",
      "  0.0469365   0.08548426 -0.13120362 -0.09851377 -0.25928763  0.05998456\n",
      "  0.05889411  0.0781127 ]\n"
     ]
    }
   ],
   "source": [
    "vector = model.infer_vector(['only', 'you', 'can', 'prevent', 'forest', 'fires'])\n",
    "print(vector)"
   ]
  },
  {
   "cell_type": "code",
   "execution_count": 35,
   "metadata": {},
   "outputs": [],
   "source": [
    "ranks = []\n",
    "second_ranks = []\n",
    "for doc_id in range(len(train_corpus)):\n",
    "    inferred_vector = model.infer_vector(train_corpus[doc_id].words)\n",
    "    sims = model.docvecs.most_similar([inferred_vector], topn=len(model.docvecs))\n",
    "    rank = [docid for docid, sim in sims].index(doc_id)\n",
    "    ranks.append(rank)\n",
    "\n",
    "    second_ranks.append(sims[1])"
   ]
  },
  {
   "cell_type": "code",
   "execution_count": 36,
   "metadata": {},
   "outputs": [
    {
     "name": "stdout",
     "output_type": "stream",
     "text": [
      "Counter({0: 292, 1: 8})\n"
     ]
    }
   ],
   "source": [
    "import collections\n",
    "\n",
    "counter = collections.Counter(ranks)\n",
    "print(counter)"
   ]
  },
  {
   "cell_type": "code",
   "execution_count": 37,
   "metadata": {},
   "outputs": [
    {
     "name": "stdout",
     "output_type": "stream",
     "text": [
      "Document (299): «australia will take on france in the doubles rubber of the davis cup tennis final today with the tie levelled at wayne arthurs and todd woodbridge are scheduled to lead australia in the doubles against cedric pioline and fabrice santoro however changes can be made to the line up up to an hour before the match and australian team captain john fitzgerald suggested he might do just that we ll make team appraisal of the whole situation go over the pros and cons and make decision french team captain guy forget says he will not make changes but does not know what to expect from australia todd is the best doubles player in the world right now so expect him to play he said would probably use wayne arthurs but don know what to expect really pat rafter salvaged australia davis cup campaign yesterday with win in the second singles match rafter overcame an arm injury to defeat french number one sebastien grosjean in three sets the australian says he is happy with his form it not very pretty tennis there isn too many consistent bounces you are playing like said bit of classic old grass court rafter said rafter levelled the score after lleyton hewitt shock five set loss to nicholas escude in the first singles rubber but rafter says he felt no added pressure after hewitt defeat knew had good team to back me up even if we were down he said knew could win on the last day know the boys can win doubles so even if we were down still feel we are good enough team to win and vice versa they are good enough team to beat us as well»\n",
      "\n",
      "SIMILAR/DISSIMILAR DOCS PER MODEL Doc2Vec(dm/m,d50,n5,w5,mc2,s0.001,t3):\n",
      "\n",
      "MOST (299, 0.9405352473258972): «australia will take on france in the doubles rubber of the davis cup tennis final today with the tie levelled at wayne arthurs and todd woodbridge are scheduled to lead australia in the doubles against cedric pioline and fabrice santoro however changes can be made to the line up up to an hour before the match and australian team captain john fitzgerald suggested he might do just that we ll make team appraisal of the whole situation go over the pros and cons and make decision french team captain guy forget says he will not make changes but does not know what to expect from australia todd is the best doubles player in the world right now so expect him to play he said would probably use wayne arthurs but don know what to expect really pat rafter salvaged australia davis cup campaign yesterday with win in the second singles match rafter overcame an arm injury to defeat french number one sebastien grosjean in three sets the australian says he is happy with his form it not very pretty tennis there isn too many consistent bounces you are playing like said bit of classic old grass court rafter said rafter levelled the score after lleyton hewitt shock five set loss to nicholas escude in the first singles rubber but rafter says he felt no added pressure after hewitt defeat knew had good team to back me up even if we were down he said knew could win on the last day know the boys can win doubles so even if we were down still feel we are good enough team to win and vice versa they are good enough team to beat us as well»\n",
      "\n",
      "SECOND-MOST (146, 0.8215804100036621): «the australian and south african sides for the first cricket test starting at the adelaide oval today are not expected to be finalised until just before the start of play australian captain steve waugh and his south african counterpart shaun pollock will decide on their lineups after an inspection of the pitch shortly before the start of play the match holds special significance for waugh and his twin brother mark who play their th test together steve waugh is not placing too much relevance on the milestone don want to read too much into it guess and then get too carried away but later on when we retire and look back on it it will be significant it nice for the family mum and dad all the sacrifices they made you know with us growing up and also our brothers so you know it nice for the family he said»\n",
      "\n",
      "MEDIAN (288, 0.2838526964187622): «eight people are to appear in swiss court tomorrow charged with the manslaughter of tourists and three guides after the interlaken canyoning tragedy the first three defendants are managers of the now defunctoperator adventure world twenty one people including australians were killed when thunderstorm struck when they were canyoning down the saxeten river gorge near interlaken massive wall of water hit the group and swept them to their deaths it will be alleged the company adventure world allowed the trip to proceed with no safety provisions in place that they employed inexperienced staff and guides who had lack of knowledge about the violent weather changes which can occur in the mountains if convicted they face one year jail sentence»\n",
      "\n",
      "LEAST (223, -0.11083419620990753): «indonesian troop re enforcements have started arriving in central sulawesi as the government attempts to end days of deadly clashes between christians and muslims violence in the last week has claimed at least eight lives and left thousands of people homeless more than police and soldiers are being sent in to disarm rival groups and restore calm there have been no new reports of violence but residents in the christian town of ten tena say they fear further attacks by muslim militiamen taking up positions in the hills around the town in region where fighting between muslims and christians has claimed hundreds of lives in the last two years many blame the latest upsurge in violence on the arrival of members of the laskar jihad muslim militia from training camps in java and from the neighbouring maluka islands»\n",
      "\n"
     ]
    }
   ],
   "source": [
    "print('Document ({}): «{}»\\n'.format(doc_id, ' '.join(train_corpus[doc_id].words)))\n",
    "print(u'SIMILAR/DISSIMILAR DOCS PER MODEL %s:\\n' % model)\n",
    "for label, index in [('MOST', 0), ('SECOND-MOST', 1), ('MEDIAN', len(sims)//2), ('LEAST', len(sims) - 1)]:\n",
    "    print(u'%s %s: «%s»\\n' % (label, sims[index], ' '.join(train_corpus[sims[index][0]].words)))"
   ]
  },
  {
   "cell_type": "code",
   "execution_count": 39,
   "metadata": {},
   "outputs": [
    {
     "name": "stdout",
     "output_type": "stream",
     "text": [
      "Test Document (34): «prince william has told friends his mother was right all along to suspect her former protection officer of spying on her and he doesn want any detective intruding on his own privacy william and prince harry are so devastated by the treachery of ken wharfe whom they looked on as surrogate father they are now refusing to talk to their own detectives»\n",
      "\n",
      "SIMILAR/DISSIMILAR DOCS PER MODEL Doc2Vec(dm/m,d50,n5,w5,mc2,s0.001,t3):\n",
      "\n",
      "MOST (45, 0.7441575527191162): «sir nigel hawthorne the british actor best known for his role as the scheming civil servant in the bbc hit yes minister died wednesday from heart attack aged his agent said hawthorne had been battling cancer for the past months and had just come out of hospital where he had been having chemotherapy treatment said ken mcreddie he said the cancer treatment had been going well and the heart attack was unexpected hawthorne died peacefully at home with his partner and friend mcreddie added he was brilliant actor and wonderful friend feel very sad and extremely cut up he said playing the smug civil servant sir humphrey appleby who always knew better than his master hawthorne performances in yes minister won him host of awards and the glowing approval of then prime minister margaret thatcher the role led to sequel yes prime minister as well as range of more substantial role on stage and screen including the lead role in the film the madness of king george for which he was nominated for an oscar»\n",
      "\n",
      "MEDIAN (95, 0.46624213457107544): «legal abortion in tasmania is one step closer with the lower house of parliament voting to change the state abortion laws after marathon hour debate the house of assembly this morning passed by votes to eight private member bill which would allow medically sanctioned abortions debate on the bill began at am aedt yesterday and at am today speaker michael polley declared result just before pm the deputy premier paul lennon police minister david llewellyn and labor backbencher steven kons abstained from voting on the bill second reading then came seven hours of debate on proposed amendments calling for further expert opinion post procedure counselling cooling off periods and calls to stop the bill being retrospective but apart from an amendment to ensure specialist assessment and written consent for the procedure the bill passed unchanged the legislative council will begin debate on the bill at am today»\n",
      "\n",
      "LEAST (8, 0.1184057667851448): «there has been welcome relief for firefighters in new south wales overnight with milder weather allowing them to strengthen containment lines around the most severe fires but fire authorities are not getting overly optimistic as dry and hot weather is forecast to continue the weather bureau is forecasting temperatures in the high and westerly winds until at least friday which means fire authorities are reluctant to get too excited about last night favourable conditions marks sullivan from the rural fire service says fire fighters are remaining on guard lot of fires that have been burning in the areas around sydney and the north coast and further south have been burning within areas that are known and are contained he said however that not to say that these fires won pose threat given the weather conditions that are coming up over the next few days despite the caution the rural fire service says most of the state fires that threaten property are burning within containment lines greater sydney is ringed by fires to the north west and south two of those flared overnight one at appin in the southern highlands was quickly brought under control another flare up at spencer north of the city is not contained on its north western flank but is not threatening property in the lower blue mountains west of sydney firefighters have spent the night setting up kilometre containment line to protect communities along the great western highway from glenbrook to bulaburra two fires burning near cessnock west of newcastle are still within containment lines in the state north aircraft will this morning check if lightning from large electrical storm overnight has sparked any new fires above grafton aircraft have also been used in the shoalhaven area in the state south to drop incendiary devices that start fire control lines in inaccessible areas the rural fire service commissioner phil koperberg says if fire activity increases hundreds of new year eve fireworks celebrations in new south wales will be cancelled»\n",
      "\n"
     ]
    }
   ],
   "source": [
    "import random\n",
    "doc_id = random.randint(0, len(test_corpus) - 1)\n",
    "inferred_vector = model.infer_vector(test_corpus[doc_id])\n",
    "sims = model.docvecs.most_similar([inferred_vector], topn=len(model.docvecs))\n",
    "\n",
    "# Compare and print the most/median/least similar documents from the train corpus\n",
    "print('Test Document ({}): «{}»\\n'.format(doc_id, ' '.join(test_corpus[doc_id])))\n",
    "print(u'SIMILAR/DISSIMILAR DOCS PER MODEL %s:\\n' % model)\n",
    "for label, index in [('MOST', 0), ('MEDIAN', len(sims)//2), ('LEAST', len(sims) - 1)]:\n",
    "    print(u'%s %s: «%s»\\n' % (label, sims[index], ' '.join(train_corpus[sims[index][0]].words)))"
   ]
  },
  {
   "cell_type": "markdown",
   "metadata": {},
   "source": [
    "<h1> Similarity Queries with Annoy and Word2Vec"
   ]
  },
  {
   "cell_type": "code",
   "execution_count": 40,
   "metadata": {},
   "outputs": [],
   "source": [
    "LOGS = False\n",
    "if LOGS:\n",
    "    import logging\n",
    "    logging.basicConfig(format='%(asctime)s : %(levelname)s : %(message)s', level=logging.INFO)"
   ]
  },
  {
   "cell_type": "code",
   "execution_count": 41,
   "metadata": {},
   "outputs": [
    {
     "name": "stdout",
     "output_type": "stream",
     "text": [
      "[==================================================] 100.0% 31.6/31.6MB downloaded\n"
     ]
    },
    {
     "data": {
      "text/plain": [
       "'C:\\\\Users\\\\Khachatur/gensim-data\\\\text8\\\\text8.gz'"
      ]
     },
     "execution_count": 41,
     "metadata": {},
     "output_type": "execute_result"
    }
   ],
   "source": [
    "import gensim.downloader as api\n",
    "text8_path = api.load('text8', return_path=True)\n",
    "text8_path"
   ]
  },
  {
   "cell_type": "code",
   "execution_count": 42,
   "metadata": {},
   "outputs": [
    {
     "name": "stdout",
     "output_type": "stream",
     "text": [
      "Word2Vec(vocab=71290, size=100, alpha=0.05)\n"
     ]
    }
   ],
   "source": [
    "from gensim.models import Word2Vec, KeyedVectors\n",
    "from gensim.models.word2vec import Text8Corpus\n",
    "\n",
    "# Using params from Word2Vec_FastText_Comparison\n",
    "params = {\n",
    "    'alpha': 0.05,\n",
    "    'size': 100,\n",
    "    'window': 5,\n",
    "    'iter': 5,\n",
    "    'min_count': 5,\n",
    "    'sample': 1e-4,\n",
    "    'sg': 1,\n",
    "    'hs': 0,\n",
    "    'negative': 5\n",
    "}\n",
    "model = Word2Vec(Text8Corpus(text8_path), **params)\n",
    "print(model)"
   ]
  },
  {
   "cell_type": "code",
   "execution_count": 44,
   "metadata": {},
   "outputs": [
    {
     "ename": "ImportError",
     "evalue": "Annoy has not been installed, if you wish to use the annoy indexer, please run `pip install annoy`",
     "output_type": "error",
     "traceback": [
      "\u001b[1;31m---------------------------------------------------------------------------\u001b[0m",
      "\u001b[1;31mModuleNotFoundError\u001b[0m                       Traceback (most recent call last)",
      "\u001b[1;32m~\\Miniconda3\\envs\\tensorflow\\lib\\site-packages\\gensim\\similarities\\index.py\u001b[0m in \u001b[0;36m<module>\u001b[1;34m\u001b[0m\n\u001b[0;32m     47\u001b[0m \u001b[1;32mtry\u001b[0m\u001b[1;33m:\u001b[0m\u001b[1;33m\u001b[0m\u001b[1;33m\u001b[0m\u001b[0m\n\u001b[1;32m---> 48\u001b[1;33m     \u001b[1;32mfrom\u001b[0m \u001b[0mannoy\u001b[0m \u001b[1;32mimport\u001b[0m \u001b[0mAnnoyIndex\u001b[0m\u001b[1;33m\u001b[0m\u001b[1;33m\u001b[0m\u001b[0m\n\u001b[0m\u001b[0;32m     49\u001b[0m \u001b[1;32mexcept\u001b[0m \u001b[0mImportError\u001b[0m\u001b[1;33m:\u001b[0m\u001b[1;33m\u001b[0m\u001b[1;33m\u001b[0m\u001b[0m\n",
      "\u001b[1;31mModuleNotFoundError\u001b[0m: No module named 'annoy'",
      "\nDuring handling of the above exception, another exception occurred:\n",
      "\u001b[1;31mImportError\u001b[0m                               Traceback (most recent call last)",
      "\u001b[1;32m<ipython-input-44-13e1972fa8eb>\u001b[0m in \u001b[0;36m<module>\u001b[1;34m\u001b[0m\n\u001b[1;32m----> 1\u001b[1;33m \u001b[1;32mfrom\u001b[0m \u001b[0mgensim\u001b[0m\u001b[1;33m.\u001b[0m\u001b[0msimilarities\u001b[0m\u001b[1;33m.\u001b[0m\u001b[0mindex\u001b[0m \u001b[1;32mimport\u001b[0m \u001b[0mAnnoyIndexer\u001b[0m\u001b[1;33m\u001b[0m\u001b[1;33m\u001b[0m\u001b[0m\n\u001b[0m\u001b[0;32m      2\u001b[0m \u001b[1;31m# 100 trees are being used in this example\u001b[0m\u001b[1;33m\u001b[0m\u001b[1;33m\u001b[0m\u001b[1;33m\u001b[0m\u001b[0m\n\u001b[0;32m      3\u001b[0m \u001b[0mannoy_index\u001b[0m \u001b[1;33m=\u001b[0m \u001b[0mAnnoyIndexer\u001b[0m\u001b[1;33m(\u001b[0m\u001b[0mmodel\u001b[0m\u001b[1;33m,\u001b[0m \u001b[1;36m100\u001b[0m\u001b[1;33m)\u001b[0m\u001b[1;33m\u001b[0m\u001b[1;33m\u001b[0m\u001b[0m\n\u001b[0;32m      4\u001b[0m \u001b[1;31m# Derive the vector for the word \"science\" in our model\u001b[0m\u001b[1;33m\u001b[0m\u001b[1;33m\u001b[0m\u001b[1;33m\u001b[0m\u001b[0m\n\u001b[0;32m      5\u001b[0m \u001b[0mvector\u001b[0m \u001b[1;33m=\u001b[0m \u001b[0mmodel\u001b[0m\u001b[1;33m.\u001b[0m\u001b[0mwv\u001b[0m\u001b[1;33m[\u001b[0m\u001b[1;34m\"science\"\u001b[0m\u001b[1;33m]\u001b[0m\u001b[1;33m\u001b[0m\u001b[1;33m\u001b[0m\u001b[0m\n",
      "\u001b[1;32m~\\Miniconda3\\envs\\tensorflow\\lib\\site-packages\\gensim\\similarities\\index.py\u001b[0m in \u001b[0;36m<module>\u001b[1;34m\u001b[0m\n\u001b[0;32m     49\u001b[0m \u001b[1;32mexcept\u001b[0m \u001b[0mImportError\u001b[0m\u001b[1;33m:\u001b[0m\u001b[1;33m\u001b[0m\u001b[1;33m\u001b[0m\u001b[0m\n\u001b[0;32m     50\u001b[0m     raise ImportError(\n\u001b[1;32m---> 51\u001b[1;33m         \u001b[1;34m\"Annoy has not been installed, if you wish to use the annoy indexer, please run `pip install annoy`\"\u001b[0m\u001b[1;33m\u001b[0m\u001b[1;33m\u001b[0m\u001b[0m\n\u001b[0m\u001b[0;32m     52\u001b[0m     )\n\u001b[0;32m     53\u001b[0m \u001b[1;33m\u001b[0m\u001b[0m\n",
      "\u001b[1;31mImportError\u001b[0m: Annoy has not been installed, if you wish to use the annoy indexer, please run `pip install annoy`"
     ]
    }
   ],
   "source": [
    "from gensim.similarities.index import AnnoyIndexer\n",
    "# 100 trees are being used in this example\n",
    "annoy_index = AnnoyIndexer(model, 100)\n",
    "# Derive the vector for the word \"science\" in our model\n",
    "vector = model.wv[\"science\"]\n",
    "# The instance of AnnoyIndexer we just created is passed\n",
    "approximate_neighbors = model.wv.most_similar([vector], topn=11, indexer=annoy_index)\n",
    "# Neatly print the approximate_neighbors and their corresponding cosine similarity values\n",
    "print(\"Approximate Neighbors\")\n",
    "for neighbor in approximate_neighbors:\n",
    "    print(neighbor)\n",
    "\n",
    "normal_neighbors = model.wv.most_similar([vector], topn=11)\n",
    "print(\"\\nNormal (not Annoy-indexed) Neighbors\")\n",
    "for neighbor in normal_neighbors:\n",
    "    print(neighbor)"
   ]
  },
  {
   "cell_type": "code",
   "execution_count": 45,
   "metadata": {},
   "outputs": [],
   "source": [
    "# Skip for now since I don't feel like restarting"
   ]
  },
  {
   "cell_type": "markdown",
   "metadata": {},
   "source": [
    "<h1> LDA Model"
   ]
  },
  {
   "cell_type": "code",
   "execution_count": 67,
   "metadata": {},
   "outputs": [],
   "source": [
    "import io\n",
    "import os.path\n",
    "import re\n",
    "import tarfile\n",
    "\n",
    "import smart_open\n",
    "\n",
    "def extract_documents(url='https://cs.nyu.edu/~roweis/data/nips12raw_str602.tgz'):\n",
    "    fname = url.split('/')[-1]\n",
    "\n",
    "    # Download the file to local storage first.\n",
    "    # We can't read it on the fly because of\n",
    "    # https://github.com/RaRe-Technologies/smart_open/issues/331\n",
    "    if not os.path.isfile(fname):\n",
    "        with smart_open.open(url, \"rb\") as fin:\n",
    "            with smart_open.open(fname, 'wb') as fout:\n",
    "                while True:\n",
    "                    buf = fin.read(io.DEFAULT_BUFFER_SIZE)\n",
    "                    if not buf:\n",
    "                        break\n",
    "                    fout.write(buf)\n",
    "\n",
    "    with tarfile.open(fname, mode='r:gz') as tar:\n",
    "        # Ignore directory entries, as well as files like README, etc.\n",
    "        files = [\n",
    "            m for m in tar.getmembers()\n",
    "            if m.isfile() and re.search(r'nipstxt/nips\\d+/\\d+\\.txt', m.name)\n",
    "        ]\n",
    "        for member in sorted(files, key=lambda x: x.name):\n",
    "            member_bytes = tar.extractfile(member).read()\n",
    "            yield member_bytes.decode('utf-8', errors='replace')\n",
    "\n",
    "docs = list(extract_documents())"
   ]
  },
  {
   "cell_type": "code",
   "execution_count": 68,
   "metadata": {},
   "outputs": [
    {
     "name": "stdout",
     "output_type": "stream",
     "text": [
      "1740\n",
      "1 \n",
      "CONNECTIVITY VERSUS ENTROPY \n",
      "Yaser S. Abu-Mostafa \n",
      "California Institute of Technology \n",
      "Pasadena, CA 91125 \n",
      "ABSTRACT \n",
      "How does the connectivity of a neural network (number of synapses per \n",
      "neuron) relate to the complexity of the problems it can handle (measured by \n",
      "the entropy)? Switching theory would suggest no relation at all, since all Boolean \n",
      "functions can be implemented using a circuit with very low connectivity (e.g., \n",
      "using two-input NAND gates). However, for a network that learns a pr\n"
     ]
    }
   ],
   "source": [
    "print(len(docs))\n",
    "print(docs[0][:500])"
   ]
  },
  {
   "cell_type": "code",
   "execution_count": 69,
   "metadata": {},
   "outputs": [],
   "source": [
    "from nltk.tokenize import RegexpTokenizer\n",
    "\n",
    "# Split the documents into tokens.\n",
    "tokenizer = RegexpTokenizer(r'\\w+')\n",
    "for idx in range(len(docs)):\n",
    "    docs[idx] = docs[idx].lower()  # Convert to lowercase.\n",
    "    docs[idx] = tokenizer.tokenize(docs[idx])  # Split into words.\n",
    "\n",
    "# Remove numbers, but not words that contain numbers.\n",
    "docs = [[token for token in doc if not token.isnumeric()] for doc in docs]\n",
    "\n",
    "# Remove words that are only one character.\n",
    "docs = [[token for token in doc if len(token) > 1] for doc in docs]"
   ]
  },
  {
   "cell_type": "code",
   "execution_count": 70,
   "metadata": {},
   "outputs": [],
   "source": [
    "# import nltk\n",
    "# nltk.download('wordnet')"
   ]
  },
  {
   "cell_type": "code",
   "execution_count": 71,
   "metadata": {},
   "outputs": [],
   "source": [
    "from nltk.stem.wordnet import WordNetLemmatizer\n",
    "\n",
    "lemmatizer = WordNetLemmatizer()\n",
    "docs = [[lemmatizer.lemmatize(token) for token in doc] for doc in docs]"
   ]
  },
  {
   "cell_type": "code",
   "execution_count": 72,
   "metadata": {},
   "outputs": [
    {
     "name": "stdout",
     "output_type": "stream",
     "text": [
      "['connectivity', 'versus', 'entropy', 'yaser', 'abu', 'mostafa', 'california', 'institute', 'of', 'technology', 'pasadena', 'ca', 'abstract', 'how', 'doe', 'the', 'connectivity', 'of', 'neural', 'network', 'number', 'of', 'synapsis', 'per', 'neuron', 'relate', 'to', 'the', 'complexity', 'of', 'the', 'problem', 'it', 'can', 'handle', 'measured', 'by', 'the', 'entropy', 'switching', 'theory', 'would', 'suggest', 'no', 'relation', 'at', 'all', 'since', 'all', 'boolean', 'function', 'can', 'be', 'implemented', 'using', 'circuit', 'with', 'very', 'low', 'connectivity', 'using', 'two', 'input', 'nand', 'gate', 'however', 'for', 'network', 'that', 'learns', 'problem', 'from', 'example', 'using', 'local', 'learning', 'rule', 'we', 'prove', 'that', 'the', 'entropy', 'of', 'the', 'problem', 'becomes', 'lower', 'bound', 'for', 'the', 'connectivity', 'of', 'the', 'network', 'introduction', 'the', 'most', 'distinguishing', 'feature', 'of', 'neural', 'network', 'is', 'their', 'ability', 'to', 'spon', 'taneously', 'learn', 'the', 'desired', 'function', 'from', 'training', 'sample', 'their', 'ability', 'to', 'program', 'themselves', 'clearly', 'given', 'neural', 'network', 'cannot', 'just', 'learn', 'any', 'function', 'there', 'must', 'be', 'some', 'restriction', 'on', 'which', 'network', 'can', 'learn', 'which', 'function', 'one', 'obvious', 'restriction', 'which', 'is', 'independent', 'of', 'the', 'learning', 'aspect', 'is', 'that', 'the', 'network', 'must', 'be', 'big', 'enough', 'to', 'accommodate', 'the', 'circuit', 'complex', 'ity', 'of', 'the', 'function', 'it', 'will', 'eventually', 'simulate', 'are', 'there', 'restriction', 'that', 'arise', 'merely', 'from', 'the', 'fact', 'that', 'the', 'network', 'is', 'expected', 'to', 'learn', 'the', 'function', 'rather', 'than', 'being', 'purposely', 'designed', 'for', 'the', 'function', 'this', 'paper', 'report', 'restriction', 'of', 'this', 'kind', 'the', 'result', 'imposes', 'lower', 'bound', 'on', 'the', 'connectivity', 'of', 'the', 'network', 'num', 'ber', 'of', 'synapsis', 'per', 'neuron', 'this', 'lower', 'bound', 'can', 'only', 'be', 'consequence', 'of', 'the', 'learning', 'aspect', 'since', 'switching', 'theory', 'provides', 'purposely', 'designed', 'circuit', 'of', 'low', 'connectivity', 'using', 'only', 'two', 'input', 'nand', 'gate', 'capable', 'of', 'imple', 'menting', 'any', 'boolean', 'function', 'it', 'also', 'follows', 'that', 'the', 'learning', 'mechanism', 'must', 'be', 'restricted', 'for', 'this', 'lower', 'bound', 'to', 'hold', 'powerful', 'mechanism', 'can', 'be', 'american', 'institute', 'of', 'physic', 'designed', 'that', 'will', 'find', 'one', 'of', 'the', 'low', 'connectivity', 'circuit', 'perhaps', 'by', 'exhaus', 'tive', 'search', 'and', 'hence', 'the', 'lower', 'bound', 'on', 'connectivity', 'cannot', 'hold', 'in', 'general', 'indeed', 'we', 'restrict', 'the', 'learning', 'mechanism', 'to', 'be', 'local', 'when', 'training', 'sample', 'is', 'loaded', 'into', 'the', 'network', 'each', 'neuron', 'ha', 'access', 'only', 'to', 'those', 'bit', 'carried', 'by', 'itself', 'and', 'the', 'neuron', 'it', 'is', 'directly', 'connected', 'to', 'this', 'is', 'strong', 'assumption', 'that', 'excludes', 'sophisticated', 'learning', 'mechanism', 'used', 'in', 'neural', 'network', 'model', 'but', 'may', 'be', 'more', 'plausible', 'from', 'biological', 'point', 'of', 'view', 'the', 'lower', 'bound', 'on', 'the', 'connectivity', 'of', 'the', 'network', 'is', 'given', 'in', 'term', 'of', 'the', 'entropy', 'of', 'the', 'environment', 'that', 'provides', 'the', 'training', 'sample', 'entropy', 'is', 'quantitative', 'measure', 'of', 'the', 'disorder', 'or', 'randomness', 'in', 'an', 'environment', 'or', 'equiv', 'alently', 'the', 'amount', 'of', 'information', 'needed', 'to', 'specify', 'the', 'environment', 'there', 'are', 'many', 'different', 'way', 'to', 'define', 'entropy', 'and', 'many', 'technical', 'variation', 'of', 'this', 'concept', 'in', 'the', 'next', 'section', 'we', 'shall', 'introduce', 'the', 'formal', 'definition', 'and', 'result', 'but', 'we', 'start', 'here', 'with', 'an', 'informal', 'exposition', 'of', 'the', 'idea', 'involved', 'the', 'environment', 'in', 'our', 'model', 'produce', 'pattern', 'represented', 'by', 'bit', 'xn', 'pixel', 'in', 'the', 'picture', 'of', 'visual', 'scene', 'if', 'you', 'will', 'only', 'different', 'pattern', 'can', 'be', 'generated', 'by', 'given', 'environment', 'where', 'the', 'entropy', 'is', 'essentially', 'log', 'no', 'knowledge', 'is', 'assumed', 'about', 'which', 'pattern', 'the', 'en', 'vironment', 'is']\n"
     ]
    }
   ],
   "source": [
    "print(docs[0][:500])"
   ]
  },
  {
   "cell_type": "code",
   "execution_count": 73,
   "metadata": {},
   "outputs": [
    {
     "name": "stderr",
     "output_type": "stream",
     "text": [
      "2020-04-04 03:00:46,350 : INFO : adding document #0 to Dictionary(0 unique tokens: [])\n",
      "2020-04-04 03:00:50,828 : INFO : built Dictionary(76323 unique tokens: ['0a', '2h', '2h2', '2he', '2n']...) from 1740 documents (total 4629808 corpus positions)\n",
      "2020-04-04 03:00:51,058 : INFO : discarding 69706 tokens: [('0a', 19), ('2h', 16), ('2h2', 1), ('2he', 3), ('__c', 2), ('_k', 6), ('a', 1740), ('about', 1058), ('abstract', 1740), ('after', 1087)]...\n",
      "2020-04-04 03:00:51,059 : INFO : keeping 6617 tokens which were in no less than 20 and no more than 870 (=50.0%) documents\n",
      "2020-04-04 03:00:51,098 : INFO : resulting dictionary: Dictionary(6617 unique tokens: ['2n', '_c', 'a2', 'ability', 'abu']...)\n"
     ]
    }
   ],
   "source": [
    "from gensim.corpora import Dictionary\n",
    "\n",
    "# Create a dictionary representation of the documents.\n",
    "dictionary = Dictionary(docs)\n",
    "\n",
    "# Filter out words that occur less than 20 documents, or more than 50% of the documents.\n",
    "dictionary.filter_extremes(no_below=20, no_above=0.5)"
   ]
  },
  {
   "cell_type": "code",
   "execution_count": 74,
   "metadata": {},
   "outputs": [],
   "source": [
    "corpus = [dictionary.doc2bow(doc) for doc in docs]"
   ]
  },
  {
   "cell_type": "code",
   "execution_count": 75,
   "metadata": {},
   "outputs": [
    {
     "name": "stdout",
     "output_type": "stream",
     "text": [
      "Number of unique tokens: 6617\n",
      "Number of documents: 1740\n"
     ]
    }
   ],
   "source": [
    "print('Number of unique tokens: %d' % len(dictionary))\n",
    "print('Number of documents: %d' % len(corpus))"
   ]
  },
  {
   "cell_type": "code",
   "execution_count": 76,
   "metadata": {},
   "outputs": [],
   "source": [
    "import logging\n",
    "logging.basicConfig(format='%(asctime)s : %(levelname)s : %(message)s', level=logging.INFO)"
   ]
  },
  {
   "cell_type": "code",
   "execution_count": 77,
   "metadata": {
    "collapsed": true,
    "jupyter": {
     "outputs_hidden": true
    }
   },
   "outputs": [
    {
     "name": "stderr",
     "output_type": "stream",
     "text": [
      "2020-04-04 03:00:53,671 : INFO : using autotuned alpha, starting with [0.1, 0.1, 0.1, 0.1, 0.1, 0.1, 0.1, 0.1, 0.1, 0.1]\n",
      "2020-04-04 03:00:53,674 : INFO : using serial LDA version on this node\n",
      "2020-04-04 03:00:53,688 : INFO : running online (multi-pass) LDA training, 10 topics, 20 passes over the supplied corpus of 1740 documents, updating model once every 1740 documents, evaluating perplexity every 0 documents, iterating 400x with a convergence threshold of 0.001000\n",
      "2020-04-04 03:00:53,689 : INFO : PROGRESS: pass 0, at document #1740/1740\n",
      "2020-04-04 03:01:13,576 : INFO : optimized alpha [0.074996874, 0.08459729, 0.08756085, 0.066903315, 0.06125561, 0.069220856, 0.06397121, 0.04192957, 0.078885034, 0.09185236]\n",
      "2020-04-04 03:01:13,586 : INFO : topic #7 (0.042): 0.007*\"hidden\" + 0.005*\"gradient\" + 0.004*\"rule\" + 0.004*\"speech\" + 0.004*\"classifier\" + 0.004*\"matrix\" + 0.004*\"recognition\" + 0.003*\"sequence\" + 0.003*\"source\" + 0.003*\"class\"\n",
      "2020-04-04 03:01:13,589 : INFO : topic #4 (0.061): 0.010*\"neuron\" + 0.005*\"cell\" + 0.004*\"synaptic\" + 0.004*\"tree\" + 0.004*\"node\" + 0.003*\"class\" + 0.003*\"dynamic\" + 0.003*\"response\" + 0.003*\"layer\" + 0.003*\"stimulus\"\n",
      "2020-04-04 03:01:13,590 : INFO : topic #1 (0.085): 0.007*\"image\" + 0.005*\"hidden\" + 0.004*\"neuron\" + 0.004*\"field\" + 0.004*\"layer\" + 0.003*\"class\" + 0.003*\"sample\" + 0.003*\"recognition\" + 0.003*\"map\" + 0.003*\"cell\"\n",
      "2020-04-04 03:01:13,591 : INFO : topic #2 (0.088): 0.008*\"neuron\" + 0.005*\"layer\" + 0.004*\"control\" + 0.004*\"cell\" + 0.004*\"image\" + 0.003*\"class\" + 0.003*\"object\" + 0.003*\"classifier\" + 0.003*\"classification\" + 0.003*\"hidden\"\n",
      "2020-04-04 03:01:13,592 : INFO : topic #9 (0.092): 0.006*\"image\" + 0.005*\"node\" + 0.005*\"object\" + 0.004*\"recognition\" + 0.003*\"cell\" + 0.003*\"layer\" + 0.003*\"neuron\" + 0.003*\"signal\" + 0.003*\"distance\" + 0.003*\"circuit\"\n",
      "2020-04-04 03:01:13,595 : INFO : topic diff=1.218716, rho=1.000000\n",
      "2020-04-04 03:01:13,603 : INFO : PROGRESS: pass 1, at document #1740/1740\n",
      "2020-04-04 03:01:26,487 : INFO : optimized alpha [0.06181817, 0.06855679, 0.06839618, 0.05530875, 0.05254131, 0.060496654, 0.05590432, 0.038310137, 0.065804295, 0.07350954]\n",
      "2020-04-04 03:01:26,494 : INFO : topic #7 (0.038): 0.009*\"speech\" + 0.009*\"hidden\" + 0.008*\"recognition\" + 0.006*\"classifier\" + 0.005*\"hmm\" + 0.005*\"speaker\" + 0.005*\"gradient\" + 0.005*\"class\" + 0.004*\"sequence\" + 0.004*\"matrix\"\n",
      "2020-04-04 03:01:26,497 : INFO : topic #4 (0.053): 0.015*\"neuron\" + 0.008*\"cell\" + 0.007*\"spike\" + 0.007*\"synaptic\" + 0.005*\"tree\" + 0.004*\"stimulus\" + 0.004*\"response\" + 0.004*\"node\" + 0.003*\"frequency\" + 0.003*\"firing\"\n",
      "2020-04-04 03:01:26,497 : INFO : topic #2 (0.068): 0.009*\"neuron\" + 0.006*\"control\" + 0.006*\"layer\" + 0.005*\"cell\" + 0.004*\"object\" + 0.004*\"image\" + 0.004*\"connection\" + 0.003*\"classifier\" + 0.003*\"class\" + 0.003*\"visual\"\n",
      "2020-04-04 03:01:26,499 : INFO : topic #1 (0.069): 0.008*\"image\" + 0.005*\"hidden\" + 0.004*\"field\" + 0.004*\"layer\" + 0.004*\"class\" + 0.003*\"sample\" + 0.003*\"neuron\" + 0.003*\"bound\" + 0.003*\"policy\" + 0.003*\"optimal\"\n",
      "2020-04-04 03:01:26,500 : INFO : topic #9 (0.074): 0.009*\"image\" + 0.006*\"object\" + 0.005*\"node\" + 0.004*\"recognition\" + 0.004*\"circuit\" + 0.004*\"distance\" + 0.003*\"chip\" + 0.003*\"layer\" + 0.003*\"cell\" + 0.003*\"signal\"\n",
      "2020-04-04 03:01:26,501 : INFO : topic diff=0.261926, rho=0.577350\n",
      "2020-04-04 03:01:26,509 : INFO : PROGRESS: pass 2, at document #1740/1740\n",
      "2020-04-04 03:01:36,393 : INFO : optimized alpha [0.053771965, 0.060286723, 0.05785556, 0.049609374, 0.04817763, 0.056392804, 0.051345963, 0.036844883, 0.059142593, 0.06459683]\n",
      "2020-04-04 03:01:36,402 : INFO : topic #7 (0.037): 0.012*\"speech\" + 0.010*\"recognition\" + 0.009*\"hidden\" + 0.008*\"classifier\" + 0.007*\"word\" + 0.006*\"hmm\" + 0.006*\"class\" + 0.005*\"speaker\" + 0.005*\"sequence\" + 0.005*\"gradient\"\n",
      "2020-04-04 03:01:36,403 : INFO : topic #4 (0.048): 0.019*\"neuron\" + 0.011*\"cell\" + 0.009*\"spike\" + 0.008*\"synaptic\" + 0.005*\"stimulus\" + 0.005*\"response\" + 0.005*\"firing\" + 0.004*\"frequency\" + 0.004*\"tree\" + 0.004*\"activity\"\n",
      "2020-04-04 03:01:36,404 : INFO : topic #8 (0.059): 0.007*\"noise\" + 0.006*\"gaussian\" + 0.004*\"matrix\" + 0.004*\"hidden\" + 0.004*\"layer\" + 0.003*\"bayesian\" + 0.003*\"prediction\" + 0.003*\"regression\" + 0.003*\"basis\" + 0.003*\"prior\"\n",
      "2020-04-04 03:01:36,404 : INFO : topic #1 (0.060): 0.007*\"image\" + 0.005*\"hidden\" + 0.004*\"policy\" + 0.004*\"optimal\" + 0.004*\"class\" + 0.004*\"bound\" + 0.004*\"field\" + 0.004*\"let\" + 0.004*\"action\" + 0.004*\"layer\"\n",
      "2020-04-04 03:01:36,405 : INFO : topic #9 (0.065): 0.013*\"image\" + 0.007*\"object\" + 0.005*\"circuit\" + 0.005*\"chip\" + 0.005*\"node\" + 0.005*\"recognition\" + 0.004*\"distance\" + 0.004*\"analog\" + 0.003*\"layer\" + 0.003*\"voltage\"\n",
      "2020-04-04 03:01:36,408 : INFO : topic diff=0.229410, rho=0.500000\n",
      "2020-04-04 03:01:36,423 : INFO : PROGRESS: pass 3, at document #1740/1740\n",
      "2020-04-04 03:01:44,932 : INFO : optimized alpha [0.048468936, 0.055245616, 0.051836986, 0.04675383, 0.04551365, 0.05380342, 0.048376616, 0.03608928, 0.055240996, 0.059345808]\n",
      "2020-04-04 03:01:44,941 : INFO : topic #7 (0.036): 0.013*\"speech\" + 0.012*\"recognition\" + 0.010*\"hidden\" + 0.009*\"classifier\" + 0.009*\"word\" + 0.006*\"class\" + 0.006*\"hmm\" + 0.006*\"sequence\" + 0.006*\"speaker\" + 0.005*\"layer\"\n",
      "2020-04-04 03:01:44,942 : INFO : topic #4 (0.046): 0.022*\"neuron\" + 0.013*\"cell\" + 0.009*\"spike\" + 0.008*\"synaptic\" + 0.007*\"response\" + 0.006*\"stimulus\" + 0.006*\"firing\" + 0.005*\"frequency\" + 0.005*\"activity\" + 0.004*\"potential\"\n",
      "2020-04-04 03:01:44,944 : INFO : topic #1 (0.055): 0.006*\"policy\" + 0.005*\"image\" + 0.005*\"hidden\" + 0.005*\"optimal\" + 0.005*\"action\" + 0.004*\"class\" + 0.004*\"bound\" + 0.004*\"let\" + 0.004*\"solution\" + 0.003*\"node\"\n",
      "2020-04-04 03:01:44,948 : INFO : topic #8 (0.055): 0.007*\"noise\" + 0.007*\"gaussian\" + 0.005*\"matrix\" + 0.004*\"hidden\" + 0.004*\"layer\" + 0.004*\"variance\" + 0.004*\"bayesian\" + 0.004*\"basis\" + 0.004*\"regression\" + 0.004*\"kernel\"\n",
      "2020-04-04 03:01:44,951 : INFO : topic #9 (0.059): 0.015*\"image\" + 0.008*\"object\" + 0.006*\"chip\" + 0.006*\"circuit\" + 0.005*\"recognition\" + 0.004*\"node\" + 0.004*\"distance\" + 0.004*\"analog\" + 0.004*\"face\" + 0.003*\"layer\"\n",
      "2020-04-04 03:01:44,953 : INFO : topic diff=0.205960, rho=0.447214\n",
      "2020-04-04 03:01:44,962 : INFO : PROGRESS: pass 4, at document #1740/1740\n",
      "2020-04-04 03:01:53,457 : INFO : optimized alpha [0.04491942, 0.05173589, 0.04805323, 0.044992596, 0.043574095, 0.052108765, 0.04656888, 0.03566036, 0.052795865, 0.056131862]\n",
      "2020-04-04 03:01:53,467 : INFO : topic #7 (0.036): 0.014*\"speech\" + 0.013*\"recognition\" + 0.011*\"word\" + 0.010*\"classifier\" + 0.010*\"hidden\" + 0.007*\"class\" + 0.006*\"sequence\" + 0.006*\"hmm\" + 0.006*\"speaker\" + 0.006*\"layer\"\n",
      "2020-04-04 03:01:53,467 : INFO : topic #4 (0.044): 0.023*\"neuron\" + 0.015*\"cell\" + 0.010*\"spike\" + 0.008*\"synaptic\" + 0.007*\"response\" + 0.007*\"stimulus\" + 0.007*\"firing\" + 0.005*\"activity\" + 0.005*\"frequency\" + 0.004*\"potential\"\n",
      "2020-04-04 03:01:53,471 : INFO : topic #5 (0.052): 0.006*\"mixture\" + 0.006*\"sample\" + 0.005*\"class\" + 0.005*\"estimate\" + 0.005*\"density\" + 0.004*\"classification\" + 0.004*\"prediction\" + 0.004*\"tree\" + 0.004*\"bound\" + 0.004*\"em\"\n",
      "2020-04-04 03:01:53,472 : INFO : topic #8 (0.053): 0.008*\"noise\" + 0.007*\"gaussian\" + 0.005*\"matrix\" + 0.005*\"hidden\" + 0.004*\"variance\" + 0.004*\"component\" + 0.004*\"basis\" + 0.004*\"layer\" + 0.004*\"kernel\" + 0.004*\"prior\"\n",
      "2020-04-04 03:01:53,473 : INFO : topic #9 (0.056): 0.018*\"image\" + 0.008*\"object\" + 0.006*\"chip\" + 0.006*\"circuit\" + 0.005*\"recognition\" + 0.005*\"analog\" + 0.005*\"distance\" + 0.004*\"node\" + 0.004*\"face\" + 0.004*\"pixel\"\n",
      "2020-04-04 03:01:53,473 : INFO : topic diff=0.190263, rho=0.408248\n",
      "2020-04-04 03:01:53,484 : INFO : PROGRESS: pass 5, at document #1740/1740\n",
      "2020-04-04 03:02:02,285 : INFO : optimized alpha [0.04232133, 0.049155794, 0.045391552, 0.043926504, 0.042237893, 0.05093983, 0.04546526, 0.035398178, 0.051467642, 0.05414131]\n",
      "2020-04-04 03:02:02,294 : INFO : topic #7 (0.035): 0.015*\"speech\" + 0.013*\"recognition\" + 0.012*\"word\" + 0.010*\"classifier\" + 0.010*\"hidden\" + 0.007*\"class\" + 0.006*\"sequence\" + 0.006*\"context\" + 0.006*\"hmm\" + 0.006*\"layer\"\n",
      "2020-04-04 03:02:02,294 : INFO : topic #4 (0.042): 0.024*\"neuron\" + 0.016*\"cell\" + 0.010*\"spike\" + 0.009*\"synaptic\" + 0.008*\"response\" + 0.007*\"stimulus\" + 0.007*\"firing\" + 0.006*\"activity\" + 0.005*\"frequency\" + 0.005*\"potential\"\n",
      "2020-04-04 03:02:02,298 : INFO : topic #5 (0.051): 0.006*\"mixture\" + 0.006*\"class\" + 0.006*\"sample\" + 0.005*\"tree\" + 0.005*\"estimate\" + 0.005*\"density\" + 0.005*\"classification\" + 0.004*\"prediction\" + 0.004*\"em\" + 0.004*\"bound\"\n",
      "2020-04-04 03:02:02,300 : INFO : topic #8 (0.051): 0.008*\"noise\" + 0.008*\"gaussian\" + 0.005*\"matrix\" + 0.005*\"hidden\" + 0.004*\"variance\" + 0.004*\"component\" + 0.004*\"basis\" + 0.004*\"kernel\" + 0.004*\"prior\" + 0.004*\"approximation\"\n",
      "2020-04-04 03:02:02,301 : INFO : topic #9 (0.054): 0.020*\"image\" + 0.008*\"object\" + 0.007*\"chip\" + 0.006*\"circuit\" + 0.005*\"recognition\" + 0.005*\"analog\" + 0.005*\"distance\" + 0.004*\"pixel\" + 0.004*\"face\" + 0.004*\"node\"\n",
      "2020-04-04 03:02:02,302 : INFO : topic diff=0.179167, rho=0.377964\n",
      "2020-04-04 03:02:02,309 : INFO : PROGRESS: pass 6, at document #1740/1740\n",
      "2020-04-04 03:02:10,653 : INFO : optimized alpha [0.040442254, 0.04737853, 0.04354218, 0.04328608, 0.041275233, 0.050247148, 0.045002982, 0.03525054, 0.050914064, 0.052787937]\n",
      "2020-04-04 03:02:10,664 : INFO : topic #7 (0.035): 0.015*\"speech\" + 0.014*\"recognition\" + 0.013*\"word\" + 0.010*\"classifier\" + 0.010*\"hidden\" + 0.007*\"class\" + 0.007*\"sequence\" + 0.006*\"context\" + 0.006*\"layer\" + 0.006*\"hmm\"\n",
      "2020-04-04 03:02:10,668 : INFO : topic #0 (0.040): 0.012*\"cell\" + 0.010*\"signal\" + 0.006*\"noise\" + 0.006*\"response\" + 0.006*\"direction\" + 0.006*\"correlation\" + 0.005*\"activity\" + 0.005*\"layer\" + 0.005*\"visual\" + 0.004*\"frequency\"\n",
      "2020-04-04 03:02:10,669 : INFO : topic #5 (0.050): 0.006*\"class\" + 0.006*\"mixture\" + 0.006*\"sample\" + 0.006*\"tree\" + 0.005*\"estimate\" + 0.005*\"density\" + 0.005*\"classification\" + 0.004*\"em\" + 0.004*\"prediction\" + 0.004*\"bound\"\n",
      "2020-04-04 03:02:10,670 : INFO : topic #8 (0.051): 0.008*\"noise\" + 0.008*\"gaussian\" + 0.005*\"matrix\" + 0.005*\"hidden\" + 0.004*\"component\" + 0.004*\"variance\" + 0.004*\"basis\" + 0.004*\"kernel\" + 0.004*\"approximation\" + 0.004*\"prior\"\n",
      "2020-04-04 03:02:10,672 : INFO : topic #9 (0.053): 0.021*\"image\" + 0.009*\"object\" + 0.007*\"chip\" + 0.007*\"circuit\" + 0.005*\"recognition\" + 0.005*\"analog\" + 0.005*\"distance\" + 0.004*\"pixel\" + 0.004*\"face\" + 0.004*\"visual\"\n",
      "2020-04-04 03:02:10,672 : INFO : topic diff=0.170628, rho=0.353553\n",
      "2020-04-04 03:02:10,686 : INFO : PROGRESS: pass 7, at document #1740/1740\n",
      "2020-04-04 03:02:18,596 : INFO : optimized alpha [0.039047096, 0.046022147, 0.0422371, 0.04301066, 0.0406421, 0.049738474, 0.04487479, 0.035248015, 0.050739754, 0.051811006]\n",
      "2020-04-04 03:02:18,606 : INFO : topic #7 (0.035): 0.016*\"speech\" + 0.015*\"recognition\" + 0.013*\"word\" + 0.011*\"classifier\" + 0.010*\"hidden\" + 0.007*\"class\" + 0.007*\"sequence\" + 0.006*\"context\" + 0.006*\"layer\" + 0.006*\"hmm\"\n",
      "2020-04-04 03:02:18,610 : INFO : topic #0 (0.039): 0.012*\"cell\" + 0.011*\"signal\" + 0.006*\"response\" + 0.006*\"noise\" + 0.006*\"direction\" + 0.006*\"correlation\" + 0.005*\"activity\" + 0.005*\"visual\" + 0.005*\"frequency\" + 0.005*\"layer\"\n",
      "2020-04-04 03:02:18,612 : INFO : topic #5 (0.050): 0.007*\"class\" + 0.006*\"mixture\" + 0.006*\"tree\" + 0.006*\"sample\" + 0.005*\"estimate\" + 0.005*\"classification\" + 0.005*\"density\" + 0.004*\"em\" + 0.004*\"prediction\" + 0.004*\"likelihood\"\n",
      "2020-04-04 03:02:18,612 : INFO : topic #8 (0.051): 0.008*\"noise\" + 0.008*\"gaussian\" + 0.006*\"matrix\" + 0.005*\"hidden\" + 0.005*\"component\" + 0.005*\"variance\" + 0.004*\"basis\" + 0.004*\"approximation\" + 0.004*\"kernel\" + 0.004*\"prior\"\n",
      "2020-04-04 03:02:18,615 : INFO : topic #9 (0.052): 0.022*\"image\" + 0.009*\"object\" + 0.007*\"chip\" + 0.007*\"circuit\" + 0.005*\"analog\" + 0.005*\"recognition\" + 0.005*\"distance\" + 0.005*\"pixel\" + 0.004*\"face\" + 0.004*\"visual\"\n",
      "2020-04-04 03:02:18,615 : INFO : topic diff=0.163362, rho=0.333333\n",
      "2020-04-04 03:02:18,626 : INFO : PROGRESS: pass 8, at document #1740/1740\n",
      "2020-04-04 03:02:26,236 : INFO : optimized alpha [0.038130507, 0.045007765, 0.041352354, 0.042886008, 0.040161565, 0.049416773, 0.04494917, 0.035346426, 0.05080649, 0.05116728]\n",
      "2020-04-04 03:02:26,251 : INFO : topic #7 (0.035): 0.016*\"speech\" + 0.015*\"recognition\" + 0.014*\"word\" + 0.011*\"classifier\" + 0.009*\"hidden\" + 0.008*\"class\" + 0.007*\"sequence\" + 0.007*\"context\" + 0.006*\"layer\" + 0.006*\"hmm\"\n",
      "2020-04-04 03:02:26,251 : INFO : topic #0 (0.038): 0.012*\"cell\" + 0.012*\"signal\" + 0.007*\"response\" + 0.007*\"direction\" + 0.007*\"noise\" + 0.006*\"correlation\" + 0.006*\"frequency\" + 0.006*\"visual\" + 0.005*\"activity\" + 0.005*\"stimulus\"\n",
      "2020-04-04 03:02:26,251 : INFO : topic #5 (0.049): 0.007*\"class\" + 0.006*\"mixture\" + 0.006*\"tree\" + 0.006*\"sample\" + 0.005*\"estimate\" + 0.005*\"classification\" + 0.005*\"density\" + 0.005*\"em\" + 0.004*\"prediction\" + 0.004*\"likelihood\"\n",
      "2020-04-04 03:02:26,255 : INFO : topic #8 (0.051): 0.008*\"gaussian\" + 0.008*\"noise\" + 0.006*\"matrix\" + 0.006*\"hidden\" + 0.005*\"component\" + 0.005*\"variance\" + 0.004*\"basis\" + 0.004*\"approximation\" + 0.004*\"kernel\" + 0.004*\"prior\"\n",
      "2020-04-04 03:02:26,256 : INFO : topic #9 (0.051): 0.023*\"image\" + 0.009*\"object\" + 0.007*\"chip\" + 0.007*\"circuit\" + 0.005*\"analog\" + 0.005*\"recognition\" + 0.005*\"distance\" + 0.005*\"pixel\" + 0.005*\"face\" + 0.004*\"visual\"\n",
      "2020-04-04 03:02:26,257 : INFO : topic diff=0.156573, rho=0.316228\n",
      "2020-04-04 03:02:26,265 : INFO : PROGRESS: pass 9, at document #1740/1740\n",
      "2020-04-04 03:02:33,416 : INFO : optimized alpha [0.037460588, 0.044230904, 0.040748037, 0.04287645, 0.039714947, 0.049221117, 0.045204237, 0.03555026, 0.05106599, 0.05073482]\n",
      "2020-04-04 03:02:33,428 : INFO : topic #7 (0.036): 0.017*\"speech\" + 0.016*\"recognition\" + 0.014*\"word\" + 0.011*\"classifier\" + 0.009*\"hidden\" + 0.008*\"class\" + 0.007*\"sequence\" + 0.007*\"context\" + 0.007*\"layer\" + 0.006*\"speaker\"\n",
      "2020-04-04 03:02:33,429 : INFO : topic #0 (0.037): 0.012*\"signal\" + 0.012*\"cell\" + 0.007*\"response\" + 0.007*\"direction\" + 0.007*\"noise\" + 0.006*\"frequency\" + 0.006*\"visual\" + 0.006*\"correlation\" + 0.006*\"stimulus\" + 0.005*\"activity\"\n",
      "2020-04-04 03:02:33,431 : INFO : topic #5 (0.049): 0.007*\"class\" + 0.007*\"tree\" + 0.006*\"mixture\" + 0.006*\"sample\" + 0.005*\"estimate\" + 0.005*\"classification\" + 0.005*\"density\" + 0.005*\"em\" + 0.004*\"likelihood\" + 0.004*\"prediction\"\n",
      "2020-04-04 03:02:33,434 : INFO : topic #9 (0.051): 0.024*\"image\" + 0.009*\"object\" + 0.008*\"chip\" + 0.007*\"circuit\" + 0.006*\"analog\" + 0.005*\"recognition\" + 0.005*\"distance\" + 0.005*\"pixel\" + 0.005*\"face\" + 0.004*\"visual\"\n",
      "2020-04-04 03:02:33,435 : INFO : topic #8 (0.051): 0.009*\"gaussian\" + 0.008*\"noise\" + 0.006*\"matrix\" + 0.006*\"hidden\" + 0.005*\"component\" + 0.005*\"variance\" + 0.004*\"basis\" + 0.004*\"approximation\" + 0.004*\"kernel\" + 0.004*\"prior\"\n",
      "2020-04-04 03:02:33,436 : INFO : topic diff=0.149888, rho=0.301511\n",
      "2020-04-04 03:02:33,445 : INFO : PROGRESS: pass 10, at document #1740/1740\n",
      "2020-04-04 03:02:40,284 : INFO : optimized alpha [0.03698007, 0.043574803, 0.04033291, 0.043047693, 0.03940426, 0.04920922, 0.045666903, 0.03582059, 0.051430583, 0.050397776]\n",
      "2020-04-04 03:02:40,292 : INFO : topic #7 (0.036): 0.017*\"speech\" + 0.016*\"recognition\" + 0.015*\"word\" + 0.011*\"classifier\" + 0.009*\"hidden\" + 0.008*\"class\" + 0.007*\"sequence\" + 0.007*\"context\" + 0.007*\"layer\" + 0.006*\"speaker\"\n",
      "2020-04-04 03:02:40,294 : INFO : topic #0 (0.037): 0.013*\"signal\" + 0.011*\"cell\" + 0.008*\"response\" + 0.007*\"direction\" + 0.007*\"frequency\" + 0.007*\"noise\" + 0.007*\"visual\" + 0.006*\"stimulus\" + 0.006*\"correlation\" + 0.006*\"filter\"\n",
      "2020-04-04 03:02:40,295 : INFO : topic #5 (0.049): 0.008*\"class\" + 0.007*\"tree\" + 0.006*\"mixture\" + 0.006*\"sample\" + 0.005*\"estimate\" + 0.005*\"classification\" + 0.005*\"density\" + 0.005*\"em\" + 0.004*\"likelihood\" + 0.004*\"prediction\"\n",
      "2020-04-04 03:02:40,296 : INFO : topic #9 (0.050): 0.025*\"image\" + 0.009*\"object\" + 0.008*\"chip\" + 0.007*\"circuit\" + 0.006*\"analog\" + 0.005*\"recognition\" + 0.005*\"pixel\" + 0.005*\"distance\" + 0.005*\"face\" + 0.004*\"visual\"\n",
      "2020-04-04 03:02:40,297 : INFO : topic #8 (0.051): 0.009*\"gaussian\" + 0.008*\"noise\" + 0.006*\"matrix\" + 0.006*\"hidden\" + 0.005*\"component\" + 0.005*\"variance\" + 0.005*\"approximation\" + 0.005*\"basis\" + 0.004*\"kernel\" + 0.004*\"prior\"\n",
      "2020-04-04 03:02:40,298 : INFO : topic diff=0.143084, rho=0.288675\n",
      "2020-04-04 03:02:40,312 : INFO : PROGRESS: pass 11, at document #1740/1740\n",
      "2020-04-04 03:02:46,852 : INFO : optimized alpha [0.036601894, 0.043054894, 0.0400422, 0.043397043, 0.039218184, 0.04931755, 0.046199065, 0.036126506, 0.051925756, 0.05021393]\n",
      "2020-04-04 03:02:46,860 : INFO : topic #7 (0.036): 0.017*\"speech\" + 0.016*\"recognition\" + 0.015*\"word\" + 0.011*\"classifier\" + 0.009*\"hidden\" + 0.008*\"class\" + 0.007*\"sequence\" + 0.007*\"layer\" + 0.007*\"context\" + 0.006*\"speaker\"\n",
      "2020-04-04 03:02:46,861 : INFO : topic #0 (0.037): 0.013*\"signal\" + 0.011*\"cell\" + 0.008*\"response\" + 0.007*\"frequency\" + 0.007*\"direction\" + 0.007*\"visual\" + 0.007*\"noise\" + 0.007*\"stimulus\" + 0.006*\"filter\" + 0.006*\"correlation\"\n",
      "2020-04-04 03:02:46,862 : INFO : topic #5 (0.049): 0.008*\"class\" + 0.007*\"tree\" + 0.007*\"mixture\" + 0.006*\"sample\" + 0.005*\"estimate\" + 0.005*\"classification\" + 0.005*\"density\" + 0.005*\"em\" + 0.005*\"likelihood\" + 0.004*\"prediction\"\n",
      "2020-04-04 03:02:46,862 : INFO : topic #9 (0.050): 0.026*\"image\" + 0.009*\"object\" + 0.008*\"chip\" + 0.007*\"circuit\" + 0.006*\"analog\" + 0.006*\"recognition\" + 0.005*\"pixel\" + 0.005*\"distance\" + 0.005*\"face\" + 0.004*\"voltage\"\n",
      "2020-04-04 03:02:46,863 : INFO : topic #8 (0.052): 0.009*\"gaussian\" + 0.009*\"noise\" + 0.006*\"matrix\" + 0.006*\"hidden\" + 0.005*\"component\" + 0.005*\"variance\" + 0.005*\"approximation\" + 0.005*\"basis\" + 0.004*\"kernel\" + 0.004*\"prior\"\n",
      "2020-04-04 03:02:46,864 : INFO : topic diff=0.136162, rho=0.277350\n",
      "2020-04-04 03:02:46,871 : INFO : PROGRESS: pass 12, at document #1740/1740\n",
      "2020-04-04 03:02:52,801 : INFO : optimized alpha [0.036350705, 0.04266077, 0.03984825, 0.043824974, 0.039136965, 0.04949816, 0.04677513, 0.036439832, 0.052542374, 0.050147176]\n",
      "2020-04-04 03:02:52,809 : INFO : topic #0 (0.036): 0.013*\"signal\" + 0.011*\"cell\" + 0.008*\"response\" + 0.008*\"frequency\" + 0.007*\"visual\" + 0.007*\"direction\" + 0.007*\"stimulus\" + 0.007*\"noise\" + 0.007*\"filter\" + 0.006*\"motion\"\n",
      "2020-04-04 03:02:52,811 : INFO : topic #7 (0.036): 0.017*\"speech\" + 0.017*\"recognition\" + 0.016*\"word\" + 0.012*\"classifier\" + 0.009*\"hidden\" + 0.008*\"class\" + 0.007*\"sequence\" + 0.007*\"layer\" + 0.007*\"context\" + 0.006*\"speaker\"\n",
      "2020-04-04 03:02:52,812 : INFO : topic #5 (0.049): 0.008*\"class\" + 0.007*\"tree\" + 0.007*\"mixture\" + 0.006*\"sample\" + 0.005*\"estimate\" + 0.005*\"classification\" + 0.005*\"density\" + 0.005*\"em\" + 0.005*\"likelihood\" + 0.004*\"prediction\"\n",
      "2020-04-04 03:02:52,813 : INFO : topic #9 (0.050): 0.026*\"image\" + 0.009*\"object\" + 0.008*\"chip\" + 0.007*\"circuit\" + 0.006*\"analog\" + 0.006*\"pixel\" + 0.006*\"recognition\" + 0.005*\"distance\" + 0.005*\"face\" + 0.004*\"voltage\"\n",
      "2020-04-04 03:02:52,815 : INFO : topic #8 (0.053): 0.009*\"gaussian\" + 0.009*\"noise\" + 0.006*\"matrix\" + 0.006*\"hidden\" + 0.005*\"component\" + 0.005*\"variance\" + 0.005*\"approximation\" + 0.005*\"basis\" + 0.004*\"kernel\" + 0.004*\"gradient\"\n",
      "2020-04-04 03:02:52,816 : INFO : topic diff=0.129283, rho=0.267261\n",
      "2020-04-04 03:02:52,824 : INFO : PROGRESS: pass 13, at document #1740/1740\n",
      "2020-04-04 03:02:58,570 : INFO : optimized alpha [0.036199637, 0.042377204, 0.039728355, 0.044330556, 0.03910633, 0.049785174, 0.047364186, 0.036754128, 0.053187177, 0.05017129]\n",
      "2020-04-04 03:02:58,578 : INFO : topic #0 (0.036): 0.014*\"signal\" + 0.010*\"cell\" + 0.008*\"response\" + 0.008*\"frequency\" + 0.008*\"visual\" + 0.008*\"stimulus\" + 0.008*\"direction\" + 0.007*\"filter\" + 0.007*\"noise\" + 0.007*\"motion\"\n",
      "2020-04-04 03:02:58,581 : INFO : topic #7 (0.037): 0.018*\"speech\" + 0.017*\"recognition\" + 0.016*\"word\" + 0.012*\"classifier\" + 0.009*\"hidden\" + 0.008*\"class\" + 0.007*\"sequence\" + 0.007*\"layer\" + 0.007*\"context\" + 0.006*\"classification\"\n",
      "2020-04-04 03:02:58,582 : INFO : topic #5 (0.050): 0.008*\"class\" + 0.007*\"tree\" + 0.007*\"mixture\" + 0.006*\"sample\" + 0.005*\"classification\" + 0.005*\"estimate\" + 0.005*\"density\" + 0.005*\"em\" + 0.005*\"likelihood\" + 0.004*\"prediction\"\n",
      "2020-04-04 03:02:58,583 : INFO : topic #9 (0.050): 0.027*\"image\" + 0.009*\"object\" + 0.008*\"chip\" + 0.008*\"circuit\" + 0.006*\"analog\" + 0.006*\"pixel\" + 0.006*\"recognition\" + 0.005*\"distance\" + 0.005*\"face\" + 0.004*\"voltage\"\n",
      "2020-04-04 03:02:58,584 : INFO : topic #8 (0.053): 0.009*\"gaussian\" + 0.009*\"noise\" + 0.006*\"matrix\" + 0.006*\"hidden\" + 0.005*\"component\" + 0.005*\"variance\" + 0.005*\"approximation\" + 0.005*\"basis\" + 0.004*\"gradient\" + 0.004*\"kernel\"\n",
      "2020-04-04 03:02:58,585 : INFO : topic diff=0.122498, rho=0.258199\n",
      "2020-04-04 03:02:58,593 : INFO : PROGRESS: pass 14, at document #1740/1740\n",
      "2020-04-04 03:03:04,271 : INFO : optimized alpha [0.036128573, 0.042208977, 0.039671123, 0.044879057, 0.039170336, 0.050133515, 0.047990743, 0.037072066, 0.053868122, 0.050282843]\n",
      "2020-04-04 03:03:04,280 : INFO : topic #0 (0.036): 0.014*\"signal\" + 0.010*\"cell\" + 0.009*\"response\" + 0.009*\"frequency\" + 0.008*\"visual\" + 0.008*\"stimulus\" + 0.008*\"direction\" + 0.008*\"filter\" + 0.007*\"motion\" + 0.007*\"noise\"\n",
      "2020-04-04 03:03:04,280 : INFO : topic #7 (0.037): 0.018*\"speech\" + 0.017*\"recognition\" + 0.016*\"word\" + 0.012*\"classifier\" + 0.009*\"hidden\" + 0.008*\"class\" + 0.007*\"sequence\" + 0.007*\"layer\" + 0.007*\"context\" + 0.007*\"classification\"\n",
      "2020-04-04 03:03:04,280 : INFO : topic #5 (0.050): 0.008*\"class\" + 0.007*\"tree\" + 0.007*\"mixture\" + 0.006*\"sample\" + 0.005*\"classification\" + 0.005*\"estimate\" + 0.005*\"density\" + 0.005*\"em\" + 0.005*\"likelihood\" + 0.004*\"prediction\"\n",
      "2020-04-04 03:03:04,280 : INFO : topic #9 (0.050): 0.027*\"image\" + 0.009*\"object\" + 0.008*\"chip\" + 0.008*\"circuit\" + 0.006*\"analog\" + 0.006*\"pixel\" + 0.006*\"recognition\" + 0.005*\"distance\" + 0.005*\"face\" + 0.004*\"voltage\"\n",
      "2020-04-04 03:03:04,284 : INFO : topic #8 (0.054): 0.009*\"gaussian\" + 0.009*\"noise\" + 0.006*\"matrix\" + 0.006*\"hidden\" + 0.005*\"component\" + 0.005*\"variance\" + 0.005*\"approximation\" + 0.005*\"basis\" + 0.004*\"gradient\" + 0.004*\"kernel\"\n",
      "2020-04-04 03:03:04,285 : INFO : topic diff=0.115875, rho=0.250000\n",
      "2020-04-04 03:03:04,291 : INFO : PROGRESS: pass 15, at document #1740/1740\n",
      "2020-04-04 03:03:09,813 : INFO : optimized alpha [0.0361267, 0.042124733, 0.039656017, 0.04550354, 0.039276566, 0.050512284, 0.04867548, 0.037399475, 0.0545656, 0.050494533]\n",
      "2020-04-04 03:03:09,821 : INFO : topic #0 (0.036): 0.014*\"signal\" + 0.010*\"cell\" + 0.009*\"response\" + 0.009*\"frequency\" + 0.009*\"visual\" + 0.008*\"stimulus\" + 0.008*\"filter\" + 0.008*\"motion\" + 0.008*\"direction\" + 0.007*\"noise\"\n",
      "2020-04-04 03:03:09,821 : INFO : topic #7 (0.037): 0.018*\"speech\" + 0.017*\"recognition\" + 0.016*\"word\" + 0.012*\"classifier\" + 0.009*\"hidden\" + 0.009*\"class\" + 0.007*\"sequence\" + 0.007*\"layer\" + 0.007*\"context\" + 0.007*\"classification\"\n",
      "2020-04-04 03:03:09,821 : INFO : topic #9 (0.050): 0.028*\"image\" + 0.009*\"object\" + 0.008*\"chip\" + 0.008*\"circuit\" + 0.006*\"analog\" + 0.006*\"pixel\" + 0.006*\"recognition\" + 0.005*\"distance\" + 0.005*\"face\" + 0.004*\"voltage\"\n",
      "2020-04-04 03:03:09,825 : INFO : topic #5 (0.051): 0.008*\"class\" + 0.007*\"tree\" + 0.007*\"mixture\" + 0.006*\"sample\" + 0.005*\"classification\" + 0.005*\"estimate\" + 0.005*\"em\" + 0.005*\"density\" + 0.005*\"likelihood\" + 0.004*\"log\"\n",
      "2020-04-04 03:03:09,826 : INFO : topic #8 (0.055): 0.009*\"gaussian\" + 0.009*\"noise\" + 0.007*\"matrix\" + 0.006*\"hidden\" + 0.006*\"component\" + 0.005*\"variance\" + 0.005*\"approximation\" + 0.005*\"basis\" + 0.005*\"gradient\" + 0.004*\"kernel\"\n",
      "2020-04-04 03:03:09,827 : INFO : topic diff=0.109468, rho=0.242536\n",
      "2020-04-04 03:03:09,834 : INFO : PROGRESS: pass 16, at document #1740/1740\n",
      "2020-04-04 03:03:15,416 : INFO : optimized alpha [0.036179516, 0.042069893, 0.039731868, 0.046162732, 0.03941338, 0.050909553, 0.049435854, 0.03772496, 0.055296004, 0.050715577]\n",
      "2020-04-04 03:03:15,425 : INFO : topic #0 (0.036): 0.014*\"signal\" + 0.010*\"cell\" + 0.009*\"response\" + 0.009*\"frequency\" + 0.009*\"visual\" + 0.009*\"stimulus\" + 0.008*\"filter\" + 0.008*\"motion\" + 0.008*\"direction\" + 0.007*\"noise\"\n",
      "2020-04-04 03:03:15,427 : INFO : topic #7 (0.038): 0.018*\"speech\" + 0.018*\"recognition\" + 0.017*\"word\" + 0.012*\"classifier\" + 0.009*\"hidden\" + 0.009*\"class\" + 0.008*\"sequence\" + 0.007*\"layer\" + 0.007*\"context\" + 0.007*\"classification\"\n",
      "2020-04-04 03:03:15,428 : INFO : topic #9 (0.051): 0.028*\"image\" + 0.009*\"object\" + 0.008*\"chip\" + 0.008*\"circuit\" + 0.006*\"analog\" + 0.006*\"pixel\" + 0.006*\"recognition\" + 0.006*\"distance\" + 0.005*\"face\" + 0.004*\"voltage\"\n",
      "2020-04-04 03:03:15,429 : INFO : topic #5 (0.051): 0.009*\"class\" + 0.007*\"tree\" + 0.007*\"mixture\" + 0.006*\"sample\" + 0.006*\"classification\" + 0.005*\"estimate\" + 0.005*\"em\" + 0.005*\"density\" + 0.005*\"likelihood\" + 0.004*\"log\"\n",
      "2020-04-04 03:03:15,429 : INFO : topic #8 (0.055): 0.009*\"gaussian\" + 0.009*\"noise\" + 0.007*\"matrix\" + 0.006*\"hidden\" + 0.006*\"component\" + 0.005*\"variance\" + 0.005*\"approximation\" + 0.005*\"gradient\" + 0.005*\"basis\" + 0.004*\"kernel\"\n",
      "2020-04-04 03:03:15,430 : INFO : topic diff=0.103416, rho=0.235702\n",
      "2020-04-04 03:03:15,438 : INFO : PROGRESS: pass 17, at document #1740/1740\n",
      "2020-04-04 03:03:21,270 : INFO : optimized alpha [0.036298066, 0.042077743, 0.039877817, 0.04687953, 0.039568555, 0.05135096, 0.050279826, 0.03805625, 0.056085955, 0.05097109]\n",
      "2020-04-04 03:03:21,277 : INFO : topic #0 (0.036): 0.014*\"signal\" + 0.009*\"cell\" + 0.009*\"response\" + 0.009*\"frequency\" + 0.009*\"visual\" + 0.009*\"stimulus\" + 0.009*\"filter\" + 0.009*\"motion\" + 0.008*\"direction\" + 0.007*\"noise\"\n",
      "2020-04-04 03:03:21,280 : INFO : topic #7 (0.038): 0.018*\"speech\" + 0.018*\"recognition\" + 0.017*\"word\" + 0.012*\"classifier\" + 0.009*\"hidden\" + 0.009*\"class\" + 0.008*\"sequence\" + 0.008*\"layer\" + 0.007*\"context\" + 0.007*\"classification\"\n",
      "2020-04-04 03:03:21,283 : INFO : topic #9 (0.051): 0.029*\"image\" + 0.009*\"object\" + 0.009*\"chip\" + 0.008*\"circuit\" + 0.006*\"analog\" + 0.006*\"pixel\" + 0.006*\"recognition\" + 0.006*\"distance\" + 0.005*\"face\" + 0.004*\"voltage\"\n",
      "2020-04-04 03:03:21,287 : INFO : topic #5 (0.051): 0.009*\"class\" + 0.007*\"tree\" + 0.007*\"mixture\" + 0.006*\"sample\" + 0.006*\"classification\" + 0.005*\"estimate\" + 0.005*\"em\" + 0.005*\"likelihood\" + 0.005*\"density\" + 0.004*\"log\"\n",
      "2020-04-04 03:03:21,290 : INFO : topic #8 (0.056): 0.009*\"gaussian\" + 0.009*\"noise\" + 0.007*\"matrix\" + 0.006*\"hidden\" + 0.006*\"component\" + 0.005*\"variance\" + 0.005*\"approximation\" + 0.005*\"gradient\" + 0.005*\"basis\" + 0.004*\"kernel\"\n",
      "2020-04-04 03:03:21,292 : INFO : topic diff=0.097680, rho=0.229416\n",
      "2020-04-04 03:03:21,300 : INFO : PROGRESS: pass 18, at document #1740/1740\n",
      "2020-04-04 03:03:27,625 : INFO : optimized alpha [0.03649629, 0.042128745, 0.040045284, 0.04768358, 0.039772857, 0.051809605, 0.051165134, 0.03838209, 0.056898385, 0.051234055]\n",
      "2020-04-04 03:03:27,635 : INFO : topic #0 (0.036): 0.014*\"signal\" + 0.010*\"response\" + 0.009*\"frequency\" + 0.009*\"visual\" + 0.009*\"stimulus\" + 0.009*\"cell\" + 0.009*\"filter\" + 0.009*\"motion\" + 0.008*\"direction\" + 0.007*\"noise\"\n",
      "2020-04-04 03:03:27,636 : INFO : topic #7 (0.038): 0.018*\"speech\" + 0.018*\"recognition\" + 0.017*\"word\" + 0.012*\"classifier\" + 0.009*\"hidden\" + 0.009*\"class\" + 0.008*\"layer\" + 0.008*\"sequence\" + 0.007*\"context\" + 0.007*\"classification\"\n",
      "2020-04-04 03:03:27,637 : INFO : topic #9 (0.051): 0.029*\"image\" + 0.009*\"object\" + 0.009*\"chip\" + 0.008*\"circuit\" + 0.006*\"analog\" + 0.006*\"pixel\" + 0.006*\"recognition\" + 0.006*\"distance\" + 0.005*\"face\" + 0.005*\"voltage\"\n",
      "2020-04-04 03:03:27,637 : INFO : topic #5 (0.052): 0.009*\"class\" + 0.008*\"tree\" + 0.007*\"mixture\" + 0.006*\"sample\" + 0.006*\"classification\" + 0.005*\"estimate\" + 0.005*\"em\" + 0.005*\"likelihood\" + 0.005*\"density\" + 0.004*\"log\"\n",
      "2020-04-04 03:03:27,640 : INFO : topic #8 (0.057): 0.009*\"gaussian\" + 0.009*\"noise\" + 0.007*\"matrix\" + 0.006*\"hidden\" + 0.006*\"component\" + 0.005*\"variance\" + 0.005*\"approximation\" + 0.005*\"gradient\" + 0.005*\"basis\" + 0.004*\"kernel\"\n",
      "2020-04-04 03:03:27,641 : INFO : topic diff=0.092310, rho=0.223607\n",
      "2020-04-04 03:03:27,652 : INFO : PROGRESS: pass 19, at document #1740/1740\n",
      "2020-04-04 03:03:34,255 : INFO : optimized alpha [0.03673557, 0.042199794, 0.04024776, 0.048486743, 0.03997704, 0.052289322, 0.05207321, 0.038702942, 0.0577287, 0.051523358]\n",
      "2020-04-04 03:03:34,265 : INFO : topic #0 (0.037): 0.015*\"signal\" + 0.010*\"response\" + 0.010*\"visual\" + 0.010*\"frequency\" + 0.010*\"stimulus\" + 0.009*\"motion\" + 0.009*\"filter\" + 0.009*\"cell\" + 0.008*\"direction\" + 0.007*\"noise\"\n",
      "2020-04-04 03:03:34,266 : INFO : topic #7 (0.039): 0.018*\"speech\" + 0.018*\"recognition\" + 0.017*\"word\" + 0.012*\"classifier\" + 0.009*\"hidden\" + 0.009*\"class\" + 0.008*\"layer\" + 0.008*\"sequence\" + 0.007*\"classification\" + 0.007*\"context\"\n",
      "2020-04-04 03:03:34,268 : INFO : topic #6 (0.052): 0.009*\"neuron\" + 0.008*\"matrix\" + 0.007*\"memory\" + 0.007*\"dynamic\" + 0.007*\"field\" + 0.006*\"solution\" + 0.005*\"energy\" + 0.005*\"threshold\" + 0.005*\"node\" + 0.004*\"net\"\n",
      "2020-04-04 03:03:34,269 : INFO : topic #5 (0.052): 0.009*\"class\" + 0.008*\"tree\" + 0.007*\"mixture\" + 0.007*\"sample\" + 0.006*\"classification\" + 0.005*\"estimate\" + 0.005*\"em\" + 0.005*\"likelihood\" + 0.005*\"density\" + 0.004*\"log\"\n",
      "2020-04-04 03:03:34,269 : INFO : topic #8 (0.058): 0.009*\"gaussian\" + 0.009*\"noise\" + 0.007*\"matrix\" + 0.006*\"hidden\" + 0.006*\"component\" + 0.005*\"variance\" + 0.005*\"gradient\" + 0.005*\"approximation\" + 0.005*\"basis\" + 0.004*\"kernel\"\n",
      "2020-04-04 03:03:34,273 : INFO : topic diff=0.087261, rho=0.218218\n"
     ]
    }
   ],
   "source": [
    "from gensim.models import LdaModel\n",
    "\n",
    "# Set training parameters.\n",
    "num_topics = 10\n",
    "chunksize = 2000\n",
    "passes = 20\n",
    "iterations = 400\n",
    "eval_every = None  # Don't evaluate model perplexity, takes too much time.\n",
    "\n",
    "# Make a index to word dictionary.\n",
    "temp = dictionary[0]  # This is only to \"load\" the dictionary.\n",
    "id2word = dictionary.id2token\n",
    "\n",
    "model = LdaModel(\n",
    "    corpus=corpus,\n",
    "    id2word=id2word,\n",
    "    chunksize=chunksize,\n",
    "    alpha='auto',\n",
    "    eta='auto',\n",
    "    iterations=iterations,\n",
    "    num_topics=num_topics,\n",
    "    passes=passes,\n",
    "    eval_every=eval_every\n",
    ")"
   ]
  },
  {
   "cell_type": "code",
   "execution_count": 79,
   "metadata": {},
   "outputs": [
    {
     "name": "stderr",
     "output_type": "stream",
     "text": [
      "2020-04-04 03:32:31,175 : INFO : CorpusAccumulator accumulated stats from 1000 documents\n"
     ]
    },
    {
     "name": "stdout",
     "output_type": "stream",
     "text": [
      "Average topic coherence: -1.1425.\n",
      "[([(0.028793693, 'neuron'),\n",
      "   (0.022642607, 'cell'),\n",
      "   (0.010809706, 'spike'),\n",
      "   (0.009854929, 'synaptic'),\n",
      "   (0.008547382, 'response'),\n",
      "   (0.008156084, 'firing'),\n",
      "   (0.00758412, 'activity'),\n",
      "   (0.00688931, 'stimulus'),\n",
      "   (0.0059619662, 'cortex'),\n",
      "   (0.0053345696, 'connection'),\n",
      "   (0.00524123, 'cortical'),\n",
      "   (0.005093992, 'synapsis'),\n",
      "   (0.004970271, 'potential'),\n",
      "   (0.004401905, 'eye'),\n",
      "   (0.004251009, 'visual'),\n",
      "   (0.004098996, 'excitatory'),\n",
      "   (0.0040566763, 'fig'),\n",
      "   (0.003994026, 'simulation'),\n",
      "   (0.003938817, 'inhibitory'),\n",
      "   (0.0037402848, 'membrane')],\n",
      "  -1.0023086277887965),\n",
      " ([(0.009107464, 'gaussian'),\n",
      "   (0.008594286, 'noise'),\n",
      "   (0.0069100163, 'matrix'),\n",
      "   (0.006216657, 'hidden'),\n",
      "   (0.005711329, 'component'),\n",
      "   (0.005148847, 'variance'),\n",
      "   (0.005119954, 'gradient'),\n",
      "   (0.0050586103, 'approximation'),\n",
      "   (0.004775047, 'basis'),\n",
      "   (0.004251041, 'kernel'),\n",
      "   (0.0041522267, 'dimensional'),\n",
      "   (0.00394055, 'density'),\n",
      "   (0.003935178, 'regression'),\n",
      "   (0.0039257235, 'prior'),\n",
      "   (0.003681055, 'generalization'),\n",
      "   (0.0036719763, 'estimate'),\n",
      "   (0.0035736037, 'nonlinear'),\n",
      "   (0.003455108, 'prediction'),\n",
      "   (0.0034266673, 'optimal'),\n",
      "   (0.0033993106, 'covariance')],\n",
      "  -1.004051595390617),\n",
      " ([(0.009209068, 'policy'),\n",
      "   (0.009180841, 'action'),\n",
      "   (0.00899226, 'optimal'),\n",
      "   (0.007123135, 'bound'),\n",
      "   (0.0062291157, 'let'),\n",
      "   (0.005913082, 'theorem'),\n",
      "   (0.0051386133, 'convergence'),\n",
      "   (0.0051340987, 'approximation'),\n",
      "   (0.0048074885, 'reinforcement'),\n",
      "   (0.004303203, 'control'),\n",
      "   (0.0041679316, 'class'),\n",
      "   (0.0041526314, 'solution'),\n",
      "   (0.0040495037, 'dimension'),\n",
      "   (0.003983901, 'generalization'),\n",
      "   (0.0039029554, 'reward'),\n",
      "   (0.0036699038, 'decision'),\n",
      "   (0.0034360664, 'proof'),\n",
      "   (0.003391208, 'cost'),\n",
      "   (0.0032116876, 'dynamic'),\n",
      "   (0.0031125194, 'stochastic')],\n",
      "  -1.0771915746643161),\n",
      " ([(0.014520552, 'signal'),\n",
      "   (0.009690869, 'response'),\n",
      "   (0.009616025, 'visual'),\n",
      "   (0.009573387, 'frequency'),\n",
      "   (0.009561582, 'stimulus'),\n",
      "   (0.008987399, 'motion'),\n",
      "   (0.008982743, 'filter'),\n",
      "   (0.008974492, 'cell'),\n",
      "   (0.007868616, 'direction'),\n",
      "   (0.007253018, 'noise'),\n",
      "   (0.005547973, 'correlation'),\n",
      "   (0.0052705067, 'spatial'),\n",
      "   (0.0051606554, 'temporal'),\n",
      "   (0.0050781844, 'auditory'),\n",
      "   (0.005042581, 'activity'),\n",
      "   (0.005032255, 'channel'),\n",
      "   (0.004946131, 'sound'),\n",
      "   (0.004914035, 'component'),\n",
      "   (0.0047013443, 'phase'),\n",
      "   (0.004492217, 'field')],\n",
      "  -1.1294213117745584),\n",
      " ([(0.0097582815, 'rule'),\n",
      "   (0.008745238, 'hidden'),\n",
      "   (0.006764128, 'net'),\n",
      "   (0.004611743, 'trained'),\n",
      "   (0.004472002, 'recurrent'),\n",
      "   (0.00416343, 'learn'),\n",
      "   (0.0040672016, 'prediction'),\n",
      "   (0.0037416767, 'layer'),\n",
      "   (0.0037264798, 'architecture'),\n",
      "   (0.0036879752, 'sequence'),\n",
      "   (0.0034054106, 'activation'),\n",
      "   (0.0034050818, 'table'),\n",
      "   (0.00335962, 'learned'),\n",
      "   (0.0033555601, 'target'),\n",
      "   (0.0033425225, 'memory'),\n",
      "   (0.003139332, 'initial'),\n",
      "   (0.0030884498, 'string'),\n",
      "   (0.003009347, 'knowledge'),\n",
      "   (0.0029363704, 'language'),\n",
      "   (0.0029258488, 'connectionist')],\n",
      "  -1.1385760700510572),\n",
      " ([(0.015234497, 'control'),\n",
      "   (0.010708096, 'layer'),\n",
      "   (0.0088764215, 'object'),\n",
      "   (0.0077040917, 'field'),\n",
      "   (0.0069961655, 'motor'),\n",
      "   (0.0066102007, 'module'),\n",
      "   (0.0059680855, 'position'),\n",
      "   (0.0059494684, 'movement'),\n",
      "   (0.005861873, 'trajectory'),\n",
      "   (0.0057984767, 'controller'),\n",
      "   (0.005602458, 'dynamic'),\n",
      "   (0.0055123977, 'connection'),\n",
      "   (0.005155975, 'architecture'),\n",
      "   (0.004746628, 'forward'),\n",
      "   (0.004382705, 'character'),\n",
      "   (0.0043449216, 'activation'),\n",
      "   (0.004307024, 'feedback'),\n",
      "   (0.0041653793, 'hand'),\n",
      "   (0.004017673, 'net'),\n",
      "   (0.0039596376, 'map')],\n",
      "  -1.175933077833514),\n",
      " ([(0.029229823, 'image'),\n",
      "   (0.0093255, 'object'),\n",
      "   (0.008733178, 'chip'),\n",
      "   (0.0081733335, 'circuit'),\n",
      "   (0.0064667873, 'pixel'),\n",
      "   (0.0064594112, 'analog'),\n",
      "   (0.0057671685, 'recognition'),\n",
      "   (0.0056618066, 'distance'),\n",
      "   (0.005525984, 'face'),\n",
      "   (0.00456512, 'voltage'),\n",
      "   (0.004236927, 'view'),\n",
      "   (0.0039264136, 'vlsi'),\n",
      "   (0.0036816096, 'visual'),\n",
      "   (0.003583961, 'implementation'),\n",
      "   (0.003581052, 'vision'),\n",
      "   (0.00334021, 'scale'),\n",
      "   (0.0033106257, 'map'),\n",
      "   (0.0032213046, 'motion'),\n",
      "   (0.0030809857, 'edge'),\n",
      "   (0.003076738, 'region')],\n",
      "  -1.2027408347470627),\n",
      " ([(0.018411094, 'speech'),\n",
      "   (0.018372398, 'recognition'),\n",
      "   (0.016981404, 'word'),\n",
      "   (0.012319617, 'classifier'),\n",
      "   (0.00884681, 'hidden'),\n",
      "   (0.0088187205, 'class'),\n",
      "   (0.007766877, 'layer'),\n",
      "   (0.0076388377, 'sequence'),\n",
      "   (0.007321592, 'classification'),\n",
      "   (0.007218342, 'context'),\n",
      "   (0.0066166623, 'speaker'),\n",
      "   (0.0065446915, 'hmm'),\n",
      "   (0.0060228864, 'trained'),\n",
      "   (0.005623248, 'signal'),\n",
      "   (0.004975897, 'mlp'),\n",
      "   (0.0047672144, 'frame'),\n",
      "   (0.004723192, 'architecture'),\n",
      "   (0.0045549814, 'net'),\n",
      "   (0.004505595, 'phoneme'),\n",
      "   (0.0044598524, 'acoustic')],\n",
      "  -1.2258417613698667),\n",
      " ([(0.009320575, 'neuron'),\n",
      "   (0.0076746573, 'matrix'),\n",
      "   (0.007320193, 'memory'),\n",
      "   (0.0071327058, 'dynamic'),\n",
      "   (0.006501183, 'field'),\n",
      "   (0.0055900957, 'solution'),\n",
      "   (0.0051763454, 'energy'),\n",
      "   (0.004615235, 'threshold'),\n",
      "   (0.0045435186, 'node'),\n",
      "   (0.0039655343, 'net'),\n",
      "   (0.0039632786, 'hopfield'),\n",
      "   (0.00385511, 'capacity'),\n",
      "   (0.0035435327, 'graph'),\n",
      "   (0.0034291188, 'rule'),\n",
      "   (0.0033420385, 'attractor'),\n",
      "   (0.0033312405, 'constraint'),\n",
      "   (0.003318967, 'eq'),\n",
      "   (0.0032080545, 'let'),\n",
      "   (0.0031461292, 'connection'),\n",
      "   (0.0029347944, 'element')],\n",
      "  -1.232187766402003),\n",
      " ([(0.008900662, 'class'),\n",
      "   (0.007578614, 'tree'),\n",
      "   (0.0069092643, 'mixture'),\n",
      "   (0.006511163, 'sample'),\n",
      "   (0.0057072733, 'classification'),\n",
      "   (0.005453655, 'estimate'),\n",
      "   (0.004902749, 'em'),\n",
      "   (0.004852595, 'likelihood'),\n",
      "   (0.004733166, 'density'),\n",
      "   (0.0042396337, 'log'),\n",
      "   (0.0040179472, 'expert'),\n",
      "   (0.003984215, 'prediction'),\n",
      "   (0.0039781677, 'classifier'),\n",
      "   (0.0038730425, 'node'),\n",
      "   (0.0037486947, 'estimation'),\n",
      "   (0.00374224, 'loss'),\n",
      "   (0.0037098587, 'bayesian'),\n",
      "   (0.0036713032, 'cluster'),\n",
      "   (0.0035952234, 'prior'),\n",
      "   (0.0034771317, 'decision')],\n",
      "  -1.2368855984074107)]\n"
     ]
    }
   ],
   "source": [
    "top_topics = model.top_topics(corpus) #, num_words=20)\n",
    "\n",
    "# Average topic coherence is the sum of topic coherences of all topics, divided by the number of topics.\n",
    "avg_topic_coherence = sum([t[1] for t in top_topics]) / num_topics\n",
    "print('Average topic coherence: %.4f.' % avg_topic_coherence)\n",
    "\n",
    "from pprint import pprint\n",
    "pprint(top_topics)"
   ]
  },
  {
   "cell_type": "code",
   "execution_count": null,
   "metadata": {},
   "outputs": [],
   "source": []
  }
 ],
 "metadata": {
  "kernelspec": {
   "display_name": "Python 3.7 (tensorflow)",
   "language": "python",
   "name": "tensorflow"
  },
  "language_info": {
   "codemirror_mode": {
    "name": "ipython",
    "version": 3
   },
   "file_extension": ".py",
   "mimetype": "text/x-python",
   "name": "python",
   "nbconvert_exporter": "python",
   "pygments_lexer": "ipython3",
   "version": "3.7.6"
  }
 },
 "nbformat": 4,
 "nbformat_minor": 4
}
