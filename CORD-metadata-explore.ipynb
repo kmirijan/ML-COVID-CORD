{
 "cells": [
  {
   "cell_type": "code",
   "execution_count": 1,
   "metadata": {},
   "outputs": [],
   "source": [
    "import tensorflow as tf\n",
    "import pandas as pd\n",
    "import numpy as np\n",
    "import os, json"
   ]
  },
  {
   "cell_type": "code",
   "execution_count": 2,
   "metadata": {},
   "outputs": [
    {
     "name": "stdout",
     "output_type": "stream",
     "text": [
      "True\n",
      "True\n"
     ]
    }
   ],
   "source": [
    "# Check GPU availability\n",
    "print(tf.test.is_gpu_available())\n",
    "print(tf.test.is_built_with_cuda())"
   ]
  },
  {
   "cell_type": "code",
   "execution_count": 3,
   "metadata": {},
   "outputs": [],
   "source": [
    "DATAPATH = 'data'"
   ]
  },
  {
   "cell_type": "code",
   "execution_count": 4,
   "metadata": {},
   "outputs": [],
   "source": [
    "# load metadata\n",
    "csv_filepath =\"/\".join([DATAPATH, 'metadata.csv'])\n",
    "df = pd.read_csv(csv_filepath)"
   ]
  },
  {
   "cell_type": "code",
   "execution_count": 5,
   "metadata": {},
   "outputs": [
    {
     "data": {
      "text/html": [
       "<div>\n",
       "<style scoped>\n",
       "    .dataframe tbody tr th:only-of-type {\n",
       "        vertical-align: middle;\n",
       "    }\n",
       "\n",
       "    .dataframe tbody tr th {\n",
       "        vertical-align: top;\n",
       "    }\n",
       "\n",
       "    .dataframe thead th {\n",
       "        text-align: right;\n",
       "    }\n",
       "</style>\n",
       "<table border=\"1\" class=\"dataframe\">\n",
       "  <thead>\n",
       "    <tr style=\"text-align: right;\">\n",
       "      <th></th>\n",
       "      <th>cord_uid</th>\n",
       "      <th>sha</th>\n",
       "      <th>source_x</th>\n",
       "      <th>title</th>\n",
       "      <th>doi</th>\n",
       "      <th>pmcid</th>\n",
       "      <th>pubmed_id</th>\n",
       "      <th>license</th>\n",
       "      <th>abstract</th>\n",
       "      <th>publish_time</th>\n",
       "      <th>authors</th>\n",
       "      <th>journal</th>\n",
       "      <th>Microsoft Academic Paper ID</th>\n",
       "      <th>WHO #Covidence</th>\n",
       "      <th>has_full_text</th>\n",
       "      <th>full_text_file</th>\n",
       "      <th>url</th>\n",
       "    </tr>\n",
       "  </thead>\n",
       "  <tbody>\n",
       "    <tr>\n",
       "      <th>0</th>\n",
       "      <td>vho70jcx</td>\n",
       "      <td>f056da9c64fbf00a4645ae326e8a4339d015d155</td>\n",
       "      <td>biorxiv</td>\n",
       "      <td>SIANN: Strain Identification by Alignment to N...</td>\n",
       "      <td>10.1101/001727</td>\n",
       "      <td>NaN</td>\n",
       "      <td>NaN</td>\n",
       "      <td>biorxiv</td>\n",
       "      <td>Next-generation sequencing is increasingly bei...</td>\n",
       "      <td>2014-01-10</td>\n",
       "      <td>Samuel Minot; Stephen D Turner; Krista L Ternu...</td>\n",
       "      <td>NaN</td>\n",
       "      <td>NaN</td>\n",
       "      <td>NaN</td>\n",
       "      <td>True</td>\n",
       "      <td>biorxiv_medrxiv</td>\n",
       "      <td>https://doi.org/10.1101/001727</td>\n",
       "    </tr>\n",
       "    <tr>\n",
       "      <th>1</th>\n",
       "      <td>i9tbix2v</td>\n",
       "      <td>daf32e013d325a6feb80e83d15aabc64a48fae33</td>\n",
       "      <td>biorxiv</td>\n",
       "      <td>Spatial epidemiology of networked metapopulati...</td>\n",
       "      <td>10.1101/003889</td>\n",
       "      <td>NaN</td>\n",
       "      <td>NaN</td>\n",
       "      <td>biorxiv</td>\n",
       "      <td>An emerging disease is one infectious epidemic...</td>\n",
       "      <td>2014-06-04</td>\n",
       "      <td>Lin WANG; Xiang Li</td>\n",
       "      <td>NaN</td>\n",
       "      <td>NaN</td>\n",
       "      <td>NaN</td>\n",
       "      <td>True</td>\n",
       "      <td>biorxiv_medrxiv</td>\n",
       "      <td>https://doi.org/10.1101/003889</td>\n",
       "    </tr>\n",
       "    <tr>\n",
       "      <th>2</th>\n",
       "      <td>62gfisc6</td>\n",
       "      <td>f33c6d94b0efaa198f8f3f20e644625fa3fe10d2</td>\n",
       "      <td>biorxiv</td>\n",
       "      <td>Sequencing of the human IG light chain loci fr...</td>\n",
       "      <td>10.1101/006866</td>\n",
       "      <td>NaN</td>\n",
       "      <td>NaN</td>\n",
       "      <td>biorxiv</td>\n",
       "      <td>Germline variation at immunoglobulin gene (IG)...</td>\n",
       "      <td>2014-07-03</td>\n",
       "      <td>Corey T Watson; Karyn Meltz Steinberg; Tina A ...</td>\n",
       "      <td>NaN</td>\n",
       "      <td>NaN</td>\n",
       "      <td>NaN</td>\n",
       "      <td>True</td>\n",
       "      <td>biorxiv_medrxiv</td>\n",
       "      <td>https://doi.org/10.1101/006866</td>\n",
       "    </tr>\n",
       "    <tr>\n",
       "      <th>3</th>\n",
       "      <td>058r9486</td>\n",
       "      <td>4da8a87e614373d56070ed272487451266dce919</td>\n",
       "      <td>biorxiv</td>\n",
       "      <td>Bayesian mixture analysis for metagenomic comm...</td>\n",
       "      <td>10.1101/007476</td>\n",
       "      <td>NaN</td>\n",
       "      <td>NaN</td>\n",
       "      <td>biorxiv</td>\n",
       "      <td>Deep sequencing of clinical samples is now an ...</td>\n",
       "      <td>2014-07-25</td>\n",
       "      <td>Sofia Morfopoulou; Vincent Plagnol</td>\n",
       "      <td>NaN</td>\n",
       "      <td>NaN</td>\n",
       "      <td>NaN</td>\n",
       "      <td>True</td>\n",
       "      <td>biorxiv_medrxiv</td>\n",
       "      <td>https://doi.org/10.1101/007476</td>\n",
       "    </tr>\n",
       "    <tr>\n",
       "      <th>4</th>\n",
       "      <td>wich35l7</td>\n",
       "      <td>eccef80cfbe078235df22398f195d5db462d8000</td>\n",
       "      <td>biorxiv</td>\n",
       "      <td>Mapping a viral phylogeny onto outbreak trees ...</td>\n",
       "      <td>10.1101/010389</td>\n",
       "      <td>NaN</td>\n",
       "      <td>NaN</td>\n",
       "      <td>biorxiv</td>\n",
       "      <td>Developing methods to reconstruct transmission...</td>\n",
       "      <td>2014-11-11</td>\n",
       "      <td>Stephen P Velsko; Jonathan E Allen</td>\n",
       "      <td>NaN</td>\n",
       "      <td>NaN</td>\n",
       "      <td>NaN</td>\n",
       "      <td>True</td>\n",
       "      <td>biorxiv_medrxiv</td>\n",
       "      <td>https://doi.org/10.1101/010389</td>\n",
       "    </tr>\n",
       "  </tbody>\n",
       "</table>\n",
       "</div>"
      ],
      "text/plain": [
       "   cord_uid                                       sha source_x  \\\n",
       "0  vho70jcx  f056da9c64fbf00a4645ae326e8a4339d015d155  biorxiv   \n",
       "1  i9tbix2v  daf32e013d325a6feb80e83d15aabc64a48fae33  biorxiv   \n",
       "2  62gfisc6  f33c6d94b0efaa198f8f3f20e644625fa3fe10d2  biorxiv   \n",
       "3  058r9486  4da8a87e614373d56070ed272487451266dce919  biorxiv   \n",
       "4  wich35l7  eccef80cfbe078235df22398f195d5db462d8000  biorxiv   \n",
       "\n",
       "                                               title             doi pmcid  \\\n",
       "0  SIANN: Strain Identification by Alignment to N...  10.1101/001727   NaN   \n",
       "1  Spatial epidemiology of networked metapopulati...  10.1101/003889   NaN   \n",
       "2  Sequencing of the human IG light chain loci fr...  10.1101/006866   NaN   \n",
       "3  Bayesian mixture analysis for metagenomic comm...  10.1101/007476   NaN   \n",
       "4  Mapping a viral phylogeny onto outbreak trees ...  10.1101/010389   NaN   \n",
       "\n",
       "   pubmed_id  license                                           abstract  \\\n",
       "0        NaN  biorxiv  Next-generation sequencing is increasingly bei...   \n",
       "1        NaN  biorxiv  An emerging disease is one infectious epidemic...   \n",
       "2        NaN  biorxiv  Germline variation at immunoglobulin gene (IG)...   \n",
       "3        NaN  biorxiv  Deep sequencing of clinical samples is now an ...   \n",
       "4        NaN  biorxiv  Developing methods to reconstruct transmission...   \n",
       "\n",
       "  publish_time                                            authors journal  \\\n",
       "0   2014-01-10  Samuel Minot; Stephen D Turner; Krista L Ternu...     NaN   \n",
       "1   2014-06-04                                 Lin WANG; Xiang Li     NaN   \n",
       "2   2014-07-03  Corey T Watson; Karyn Meltz Steinberg; Tina A ...     NaN   \n",
       "3   2014-07-25                 Sofia Morfopoulou; Vincent Plagnol     NaN   \n",
       "4   2014-11-11                 Stephen P Velsko; Jonathan E Allen     NaN   \n",
       "\n",
       "   Microsoft Academic Paper ID WHO #Covidence  has_full_text   full_text_file  \\\n",
       "0                          NaN            NaN           True  biorxiv_medrxiv   \n",
       "1                          NaN            NaN           True  biorxiv_medrxiv   \n",
       "2                          NaN            NaN           True  biorxiv_medrxiv   \n",
       "3                          NaN            NaN           True  biorxiv_medrxiv   \n",
       "4                          NaN            NaN           True  biorxiv_medrxiv   \n",
       "\n",
       "                              url  \n",
       "0  https://doi.org/10.1101/001727  \n",
       "1  https://doi.org/10.1101/003889  \n",
       "2  https://doi.org/10.1101/006866  \n",
       "3  https://doi.org/10.1101/007476  \n",
       "4  https://doi.org/10.1101/010389  "
      ]
     },
     "execution_count": 5,
     "metadata": {},
     "output_type": "execute_result"
    }
   ],
   "source": [
    "df.head()"
   ]
  },
  {
   "cell_type": "code",
   "execution_count": 6,
   "metadata": {},
   "outputs": [
    {
     "data": {
      "text/plain": [
       "(45774, 17)"
      ]
     },
     "execution_count": 6,
     "metadata": {},
     "output_type": "execute_result"
    }
   ],
   "source": [
    "# Check shape\n",
    "df.shape"
   ]
  },
  {
   "cell_type": "code",
   "execution_count": 7,
   "metadata": {},
   "outputs": [
    {
     "data": {
      "text/plain": [
       "(31753, 17)"
      ]
     },
     "execution_count": 7,
     "metadata": {},
     "output_type": "execute_result"
    }
   ],
   "source": [
    "df[df['sha'].notna() == True].shape"
   ]
  },
  {
   "cell_type": "code",
   "execution_count": 8,
   "metadata": {},
   "outputs": [
    {
     "data": {
      "text/plain": [
       "(31753, 17)"
      ]
     },
     "execution_count": 8,
     "metadata": {},
     "output_type": "execute_result"
    }
   ],
   "source": [
    "df_ft = df[df['has_full_text'] == True]\n",
    "df_ft.shape"
   ]
  },
  {
   "cell_type": "code",
   "execution_count": 9,
   "metadata": {},
   "outputs": [
    {
     "data": {
      "text/plain": [
       "(0, 17)"
      ]
     },
     "execution_count": 9,
     "metadata": {},
     "output_type": "execute_result"
    }
   ],
   "source": [
    "df_ft[df_ft['sha'].notna()==False].shape"
   ]
  },
  {
   "cell_type": "code",
   "execution_count": 10,
   "metadata": {},
   "outputs": [
    {
     "data": {
      "text/plain": [
       "27528    45e40b2d7d973ed5c9798da613fb3cfa4427e2e2\n",
       "31108    f3aafdecdc43a3f57e58cf6dcea038b1834a953e\n",
       "33297    9ce0a6cfd53840cd985f7a1439708c7a48bb7f23\n",
       "33298    9ce0a6cfd53840cd985f7a1439708c7a48bb7f23\n",
       "33325    ba4afe00e152de82121a4445aed52c46833d927e\n",
       "41028    4644c32551fb23aa873a7738ecc8d777bd49877e\n",
       "41029    4644c32551fb23aa873a7738ecc8d777bd49877e\n",
       "41030    4644c32551fb23aa873a7738ecc8d777bd49877e\n",
       "44847    58be092086c74c58e9067121a6ba4836468e7ec3\n",
       "Name: sha, dtype: object"
      ]
     },
     "execution_count": 10,
     "metadata": {},
     "output_type": "execute_result"
    }
   ],
   "source": [
    "df_ft['sha'][df_ft['sha'].duplicated()]"
   ]
  },
  {
   "cell_type": "code",
   "execution_count": null,
   "metadata": {},
   "outputs": [],
   "source": []
  }
 ],
 "metadata": {
  "kernelspec": {
   "display_name": "Python 3.7 (tensorflow)",
   "language": "python",
   "name": "tensorflow"
  },
  "language_info": {
   "codemirror_mode": {
    "name": "ipython",
    "version": 3
   },
   "file_extension": ".py",
   "mimetype": "text/x-python",
   "name": "python",
   "nbconvert_exporter": "python",
   "pygments_lexer": "ipython3",
   "version": "3.7.6"
  }
 },
 "nbformat": 4,
 "nbformat_minor": 4
}
